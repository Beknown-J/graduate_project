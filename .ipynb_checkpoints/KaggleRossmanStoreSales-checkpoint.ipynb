{
 "cells": [
  {
   "cell_type": "markdown",
   "metadata": {},
   "source": [
    "# KaggleRossmanStoreSales"
   ]
  },
  {
   "cell_type": "markdown",
   "metadata": {},
   "source": [
    "## 分析\n",
    "\n",
    "### 数据的探索\n"
   ]
  },
  {
   "cell_type": "code",
   "execution_count": 64,
   "metadata": {
    "collapsed": true
   },
   "outputs": [],
   "source": [
    "import pandas as pd\n",
    "from pandas import Series, DataFrame\n",
    "import itertools\n",
    "import numpy as np\n",
    "from datetime import datetime, date\n",
    "from IPython.display import display\n",
    "from datetime import datetime\n",
    "import matplotlib.pyplot as plt\n",
    "import xgboost as xgb\n",
    "import math\n",
    "\n",
    "%matplotlib inline"
   ]
  },
  {
   "cell_type": "markdown",
   "metadata": {},
   "source": [
    "### 评价指标\n",
    "\n",
    "选择RMSPE作为评价指标，定义为：\n",
    "\n",
    "$RMSPE=\\sqrt{\\frac{1}{n}\\sum_{i=1}^N(\\frac{y_i-\\hat{y_i}}{y_i})^2} $\n",
    "\n",
    "\n"
   ]
  },
  {
   "cell_type": "code",
   "execution_count": 2,
   "metadata": {
    "collapsed": true
   },
   "outputs": [],
   "source": [
    "# 构建评价指标\n",
    "def ToWeight(y):\n",
    "    w = np.zeros(y.shape, dtype=float)\n",
    "    ind = y != 0\n",
    "    w[ind] = 1./(y[ind]**2)\n",
    "    return w\n",
    "\n",
    "def rmspe(yhat, y):\n",
    "    w = ToWeight(y)\n",
    "    rmspe = np.sqrt(np.mean( w * (y - yhat)**2 ))\n",
    "    return rmspe\n",
    "\n",
    "# xgboost中的rmpse\n",
    "def rmspe_xg(yhat, y):\n",
    "    # y = y.values\n",
    "    y = y.get_label()\n",
    "    y = np.exp(y) - 1\n",
    "    yhat = np.exp(yhat) - 1\n",
    "    w = ToWeight(y)\n",
    "    rmspe = np.sqrt(np.mean(w * (y - yhat)**2))\n",
    "    return \"rmspe\", rmspe"
   ]
  },
  {
   "cell_type": "code",
   "execution_count": 3,
   "metadata": {
    "collapsed": true
   },
   "outputs": [],
   "source": [
    "train = pd.read_csv('./参考资料/kaggle-rossman-store-sales/input/train.csv', dtype = {'StateHoliday':str})\n",
    "store = pd.read_csv('./参考资料/kaggle-rossman-store-sales/input/store.csv', dtype = {'PromoInterval':str, 'CompetitionOpenSinceYear':str, 'CompetitionOpenSinceMonth':str})\n",
    "test = pd.read_csv('./参考资料/kaggle-rossman-store-sales/input/test.csv', dtype = {'PromoInterval':str, 'CompetitionOpenSinceYear':str, 'CompetitionOpenSinceMonth':str})"
   ]
  },
  {
   "cell_type": "code",
   "execution_count": 4,
   "metadata": {},
   "outputs": [
    {
     "data": {
      "text/html": [
       "<div>\n",
       "<style>\n",
       "    .dataframe thead tr:only-child th {\n",
       "        text-align: right;\n",
       "    }\n",
       "\n",
       "    .dataframe thead th {\n",
       "        text-align: left;\n",
       "    }\n",
       "\n",
       "    .dataframe tbody tr th {\n",
       "        vertical-align: top;\n",
       "    }\n",
       "</style>\n",
       "<table border=\"1\" class=\"dataframe\">\n",
       "  <thead>\n",
       "    <tr style=\"text-align: right;\">\n",
       "      <th></th>\n",
       "      <th>Store</th>\n",
       "      <th>DayOfWeek</th>\n",
       "      <th>Date</th>\n",
       "      <th>Sales</th>\n",
       "      <th>Customers</th>\n",
       "      <th>Open</th>\n",
       "      <th>Promo</th>\n",
       "      <th>StateHoliday</th>\n",
       "      <th>SchoolHoliday</th>\n",
       "    </tr>\n",
       "  </thead>\n",
       "  <tbody>\n",
       "    <tr>\n",
       "      <th>0</th>\n",
       "      <td>1</td>\n",
       "      <td>5</td>\n",
       "      <td>2015-07-31</td>\n",
       "      <td>5263</td>\n",
       "      <td>555</td>\n",
       "      <td>1</td>\n",
       "      <td>1</td>\n",
       "      <td>0</td>\n",
       "      <td>1</td>\n",
       "    </tr>\n",
       "    <tr>\n",
       "      <th>1</th>\n",
       "      <td>2</td>\n",
       "      <td>5</td>\n",
       "      <td>2015-07-31</td>\n",
       "      <td>6064</td>\n",
       "      <td>625</td>\n",
       "      <td>1</td>\n",
       "      <td>1</td>\n",
       "      <td>0</td>\n",
       "      <td>1</td>\n",
       "    </tr>\n",
       "    <tr>\n",
       "      <th>2</th>\n",
       "      <td>3</td>\n",
       "      <td>5</td>\n",
       "      <td>2015-07-31</td>\n",
       "      <td>8314</td>\n",
       "      <td>821</td>\n",
       "      <td>1</td>\n",
       "      <td>1</td>\n",
       "      <td>0</td>\n",
       "      <td>1</td>\n",
       "    </tr>\n",
       "    <tr>\n",
       "      <th>3</th>\n",
       "      <td>4</td>\n",
       "      <td>5</td>\n",
       "      <td>2015-07-31</td>\n",
       "      <td>13995</td>\n",
       "      <td>1498</td>\n",
       "      <td>1</td>\n",
       "      <td>1</td>\n",
       "      <td>0</td>\n",
       "      <td>1</td>\n",
       "    </tr>\n",
       "    <tr>\n",
       "      <th>4</th>\n",
       "      <td>5</td>\n",
       "      <td>5</td>\n",
       "      <td>2015-07-31</td>\n",
       "      <td>4822</td>\n",
       "      <td>559</td>\n",
       "      <td>1</td>\n",
       "      <td>1</td>\n",
       "      <td>0</td>\n",
       "      <td>1</td>\n",
       "    </tr>\n",
       "  </tbody>\n",
       "</table>\n",
       "</div>"
      ],
      "text/plain": [
       "   Store  DayOfWeek        Date  Sales  Customers  Open  Promo StateHoliday  \\\n",
       "0      1          5  2015-07-31   5263        555     1      1            0   \n",
       "1      2          5  2015-07-31   6064        625     1      1            0   \n",
       "2      3          5  2015-07-31   8314        821     1      1            0   \n",
       "3      4          5  2015-07-31  13995       1498     1      1            0   \n",
       "4      5          5  2015-07-31   4822        559     1      1            0   \n",
       "\n",
       "   SchoolHoliday  \n",
       "0              1  \n",
       "1              1  \n",
       "2              1  \n",
       "3              1  \n",
       "4              1  "
      ]
     },
     "metadata": {},
     "output_type": "display_data"
    },
    {
     "data": {
      "text/html": [
       "<div>\n",
       "<style>\n",
       "    .dataframe thead tr:only-child th {\n",
       "        text-align: right;\n",
       "    }\n",
       "\n",
       "    .dataframe thead th {\n",
       "        text-align: left;\n",
       "    }\n",
       "\n",
       "    .dataframe tbody tr th {\n",
       "        vertical-align: top;\n",
       "    }\n",
       "</style>\n",
       "<table border=\"1\" class=\"dataframe\">\n",
       "  <thead>\n",
       "    <tr style=\"text-align: right;\">\n",
       "      <th></th>\n",
       "      <th>Id</th>\n",
       "      <th>Store</th>\n",
       "      <th>DayOfWeek</th>\n",
       "      <th>Date</th>\n",
       "      <th>Open</th>\n",
       "      <th>Promo</th>\n",
       "      <th>StateHoliday</th>\n",
       "      <th>SchoolHoliday</th>\n",
       "    </tr>\n",
       "  </thead>\n",
       "  <tbody>\n",
       "    <tr>\n",
       "      <th>0</th>\n",
       "      <td>1</td>\n",
       "      <td>1</td>\n",
       "      <td>4</td>\n",
       "      <td>2015-09-17</td>\n",
       "      <td>1.0</td>\n",
       "      <td>1</td>\n",
       "      <td>0</td>\n",
       "      <td>0</td>\n",
       "    </tr>\n",
       "    <tr>\n",
       "      <th>1</th>\n",
       "      <td>2</td>\n",
       "      <td>3</td>\n",
       "      <td>4</td>\n",
       "      <td>2015-09-17</td>\n",
       "      <td>1.0</td>\n",
       "      <td>1</td>\n",
       "      <td>0</td>\n",
       "      <td>0</td>\n",
       "    </tr>\n",
       "    <tr>\n",
       "      <th>2</th>\n",
       "      <td>3</td>\n",
       "      <td>7</td>\n",
       "      <td>4</td>\n",
       "      <td>2015-09-17</td>\n",
       "      <td>1.0</td>\n",
       "      <td>1</td>\n",
       "      <td>0</td>\n",
       "      <td>0</td>\n",
       "    </tr>\n",
       "    <tr>\n",
       "      <th>3</th>\n",
       "      <td>4</td>\n",
       "      <td>8</td>\n",
       "      <td>4</td>\n",
       "      <td>2015-09-17</td>\n",
       "      <td>1.0</td>\n",
       "      <td>1</td>\n",
       "      <td>0</td>\n",
       "      <td>0</td>\n",
       "    </tr>\n",
       "    <tr>\n",
       "      <th>4</th>\n",
       "      <td>5</td>\n",
       "      <td>9</td>\n",
       "      <td>4</td>\n",
       "      <td>2015-09-17</td>\n",
       "      <td>1.0</td>\n",
       "      <td>1</td>\n",
       "      <td>0</td>\n",
       "      <td>0</td>\n",
       "    </tr>\n",
       "  </tbody>\n",
       "</table>\n",
       "</div>"
      ],
      "text/plain": [
       "   Id  Store  DayOfWeek        Date  Open  Promo StateHoliday  SchoolHoliday\n",
       "0   1      1          4  2015-09-17   1.0      1            0              0\n",
       "1   2      3          4  2015-09-17   1.0      1            0              0\n",
       "2   3      7          4  2015-09-17   1.0      1            0              0\n",
       "3   4      8          4  2015-09-17   1.0      1            0              0\n",
       "4   5      9          4  2015-09-17   1.0      1            0              0"
      ]
     },
     "metadata": {},
     "output_type": "display_data"
    },
    {
     "data": {
      "text/html": [
       "<div>\n",
       "<style>\n",
       "    .dataframe thead tr:only-child th {\n",
       "        text-align: right;\n",
       "    }\n",
       "\n",
       "    .dataframe thead th {\n",
       "        text-align: left;\n",
       "    }\n",
       "\n",
       "    .dataframe tbody tr th {\n",
       "        vertical-align: top;\n",
       "    }\n",
       "</style>\n",
       "<table border=\"1\" class=\"dataframe\">\n",
       "  <thead>\n",
       "    <tr style=\"text-align: right;\">\n",
       "      <th></th>\n",
       "      <th>Store</th>\n",
       "      <th>StoreType</th>\n",
       "      <th>Assortment</th>\n",
       "      <th>CompetitionDistance</th>\n",
       "      <th>CompetitionOpenSinceMonth</th>\n",
       "      <th>CompetitionOpenSinceYear</th>\n",
       "      <th>Promo2</th>\n",
       "      <th>Promo2SinceWeek</th>\n",
       "      <th>Promo2SinceYear</th>\n",
       "      <th>PromoInterval</th>\n",
       "    </tr>\n",
       "  </thead>\n",
       "  <tbody>\n",
       "    <tr>\n",
       "      <th>0</th>\n",
       "      <td>1</td>\n",
       "      <td>c</td>\n",
       "      <td>a</td>\n",
       "      <td>1270.0</td>\n",
       "      <td>9</td>\n",
       "      <td>2008</td>\n",
       "      <td>0</td>\n",
       "      <td>NaN</td>\n",
       "      <td>NaN</td>\n",
       "      <td>NaN</td>\n",
       "    </tr>\n",
       "    <tr>\n",
       "      <th>1</th>\n",
       "      <td>2</td>\n",
       "      <td>a</td>\n",
       "      <td>a</td>\n",
       "      <td>570.0</td>\n",
       "      <td>11</td>\n",
       "      <td>2007</td>\n",
       "      <td>1</td>\n",
       "      <td>13.0</td>\n",
       "      <td>2010.0</td>\n",
       "      <td>Jan,Apr,Jul,Oct</td>\n",
       "    </tr>\n",
       "    <tr>\n",
       "      <th>2</th>\n",
       "      <td>3</td>\n",
       "      <td>a</td>\n",
       "      <td>a</td>\n",
       "      <td>14130.0</td>\n",
       "      <td>12</td>\n",
       "      <td>2006</td>\n",
       "      <td>1</td>\n",
       "      <td>14.0</td>\n",
       "      <td>2011.0</td>\n",
       "      <td>Jan,Apr,Jul,Oct</td>\n",
       "    </tr>\n",
       "    <tr>\n",
       "      <th>3</th>\n",
       "      <td>4</td>\n",
       "      <td>c</td>\n",
       "      <td>c</td>\n",
       "      <td>620.0</td>\n",
       "      <td>9</td>\n",
       "      <td>2009</td>\n",
       "      <td>0</td>\n",
       "      <td>NaN</td>\n",
       "      <td>NaN</td>\n",
       "      <td>NaN</td>\n",
       "    </tr>\n",
       "    <tr>\n",
       "      <th>4</th>\n",
       "      <td>5</td>\n",
       "      <td>a</td>\n",
       "      <td>a</td>\n",
       "      <td>29910.0</td>\n",
       "      <td>4</td>\n",
       "      <td>2015</td>\n",
       "      <td>0</td>\n",
       "      <td>NaN</td>\n",
       "      <td>NaN</td>\n",
       "      <td>NaN</td>\n",
       "    </tr>\n",
       "  </tbody>\n",
       "</table>\n",
       "</div>"
      ],
      "text/plain": [
       "   Store StoreType Assortment  CompetitionDistance CompetitionOpenSinceMonth  \\\n",
       "0      1         c          a               1270.0                         9   \n",
       "1      2         a          a                570.0                        11   \n",
       "2      3         a          a              14130.0                        12   \n",
       "3      4         c          c                620.0                         9   \n",
       "4      5         a          a              29910.0                         4   \n",
       "\n",
       "  CompetitionOpenSinceYear  Promo2  Promo2SinceWeek  Promo2SinceYear  \\\n",
       "0                     2008       0              NaN              NaN   \n",
       "1                     2007       1             13.0           2010.0   \n",
       "2                     2006       1             14.0           2011.0   \n",
       "3                     2009       0              NaN              NaN   \n",
       "4                     2015       0              NaN              NaN   \n",
       "\n",
       "     PromoInterval  \n",
       "0              NaN  \n",
       "1  Jan,Apr,Jul,Oct  \n",
       "2  Jan,Apr,Jul,Oct  \n",
       "3              NaN  \n",
       "4              NaN  "
      ]
     },
     "metadata": {},
     "output_type": "display_data"
    },
    {
     "name": "stdout",
     "output_type": "stream",
     "text": [
      "train的总行数为：1017209\n",
      "test的总行数为：41088\n"
     ]
    }
   ],
   "source": [
    "display(train.head())\n",
    "display(test.head())\n",
    "display(store.head())\n",
    "\n",
    "print(\"train的总行数为：{}\".format(len(train)))\n",
    "print(\"test的总行数为：{}\".format(len(test)))"
   ]
  },
  {
   "cell_type": "code",
   "execution_count": 5,
   "metadata": {},
   "outputs": [
    {
     "name": "stdout",
     "output_type": "stream",
     "text": [
      "竞争对手距离店铺的最大距离：75860.0\n",
      "竞争对手距离店铺的最小距离：20.0\n",
      "竞争对手距离店铺的均值距离：5404.901079136691\n"
     ]
    }
   ],
   "source": [
    "CompetitionDistance = store.CompetitionDistance\n",
    "print(\"竞争对手距离店铺的最大距离：{}\".format(max(CompetitionDistance)))\n",
    "print(\"竞争对手距离店铺的最小距离：{}\".format(min(CompetitionDistance)))\n",
    "print(\"竞争对手距离店铺的均值距离：{}\".format(np.mean(CompetitionDistance)))"
   ]
  },
  {
   "cell_type": "code",
   "execution_count": 6,
   "metadata": {},
   "outputs": [
    {
     "name": "stdout",
     "output_type": "stream",
     "text": [
      "店铺开门情况下每天到店顾客数量最大数量：7388\n",
      "店铺开门情况下每天到店顾客数量最小数量：3\n",
      "店铺开门情况下每天到店顾客数量平均数量：762.7753689272095\n"
     ]
    }
   ],
   "source": [
    "Customers = train['Customers']\n",
    "Customers = Customers[Customers!=0]\n",
    "print(\"店铺开门情况下每天到店顾客数量最大数量：{}\".format(max(Customers)))\n",
    "print(\"店铺开门情况下每天到店顾客数量最小数量：{}\".format(min(Customers)))\n",
    "print(\"店铺开门情况下每天到店顾客数量平均数量：{}\".format(np.mean(Customers)))"
   ]
  },
  {
   "cell_type": "code",
   "execution_count": 7,
   "metadata": {},
   "outputs": [
    {
     "name": "stdout",
     "output_type": "stream",
     "text": [
      "Store 的缺失值占比：0.0\n",
      "StoreType 的缺失值占比：0.0\n",
      "Assortment 的缺失值占比：0.0\n",
      "CompetitionDistance 的缺失值占比：0.26905829596412556\n",
      "CompetitionOpenSinceMonth 的缺失值占比：31.748878923766817\n",
      "CompetitionOpenSinceYear 的缺失值占比：31.748878923766817\n",
      "Promo2 的缺失值占比：0.0\n",
      "Promo2SinceWeek 的缺失值占比：48.789237668161434\n",
      "Promo2SinceYear 的缺失值占比：48.789237668161434\n",
      "PromoInterval 的缺失值占比：48.789237668161434\n"
     ]
    }
   ],
   "source": [
    "store_columun = list(store.columns)\n",
    "for i in store_columun:\n",
    "    te = store[i].isnull()    \n",
    "    print(i, \"的缺失值占比：{}\".format(np.sum(te)*100/len(te)) )"
   ]
  },
  {
   "cell_type": "code",
   "execution_count": 8,
   "metadata": {},
   "outputs": [
    {
     "name": "stdout",
     "output_type": "stream",
     "text": [
      "Store 的缺失值占比：0.0\n",
      "DayOfWeek 的缺失值占比：0.0\n",
      "Date 的缺失值占比：0.0\n",
      "Sales 的缺失值占比：0.0\n",
      "Customers 的缺失值占比：0.0\n",
      "Open 的缺失值占比：0.0\n",
      "Promo 的缺失值占比：0.0\n",
      "StateHoliday 的缺失值占比：0.0\n",
      "SchoolHoliday 的缺失值占比：0.0\n"
     ]
    }
   ],
   "source": [
    "train_columun = list(train.columns)\n",
    "for i in train_columun:\n",
    "    te = train[i].isnull()    \n",
    "    print(i, \"的缺失值占比：{}\".format(np.sum(te)*100/len(te)) )\n"
   ]
  },
  {
   "cell_type": "markdown",
   "metadata": {},
   "source": [
    "> 由于有许多天店铺是关门的，如果直接求均值，无法体现其销售额真实的均值，因此先去掉Sales=0的数据"
   ]
  },
  {
   "cell_type": "code",
   "execution_count": 9,
   "metadata": {},
   "outputs": [
    {
     "name": "stdout",
     "output_type": "stream",
     "text": [
      "Sales的最小值为:46.00\n",
      "Sales的最大值为:41,551.00\n",
      "Sales的均值为:6,955.96\n",
      "Sales的中位数为:6,369.00\n",
      "Sales的标准差为:3,103.82\n"
     ]
    }
   ],
   "source": [
    "# 给出Sales的最大值，最小值，平均值，中值\n",
    "Sales_train = train[train['Sales'] != 0]\n",
    "Sales = Sales_train['Sales']\n",
    "print(\"Sales的最小值为:{:,.2f}\".format(min(Sales)))\n",
    "print(\"Sales的最大值为:{:,.2f}\".format( max(Sales)))\n",
    "print(\"Sales的均值为:{:,.2f}\".format(np.mean(Sales)))\n",
    "print(\"Sales的中位数为:{:,.2f}\".format(np.median(Sales)))\n",
    "print(\"Sales的标准差为:{:,.2f}\".format(Sales.std()))"
   ]
  },
  {
   "cell_type": "code",
   "execution_count": 10,
   "metadata": {},
   "outputs": [
    {
     "data": {
      "image/png": "[encoded data removed]",
      "text/plain": [
       "<matplotlib.figure.Figure at 0x115ca93c8>"
      ]
     },
     "metadata": {},
     "output_type": "display_data"
    }
   ],
   "source": [
    "fig = plt.figure()\n",
    "ax = fig.add_subplot(111)\n",
    "ax.hist(Sales, bins=7)\n",
    "plt.title('Sales distribution')\n",
    "plt.xlabel('Sales')\n",
    "plt.ylabel('freq')\n",
    "plt.show()"
   ]
  },
  {
   "cell_type": "markdown",
   "metadata": {},
   "source": [
    "### 探索性可视化\n",
    "\n",
    "想探究一下每个店铺的历史平均销售额与竞争店铺的距离是什么关系？"
   ]
  },
  {
   "cell_type": "code",
   "execution_count": 11,
   "metadata": {
    "collapsed": true
   },
   "outputs": [],
   "source": [
    "sub_Sales_train = Sales_train[['Store', 'Sales']]\n",
    "mean_sales = sub_Sales_train.groupby('Store').apply(np.mean)"
   ]
  },
  {
   "cell_type": "code",
   "execution_count": 12,
   "metadata": {
    "collapsed": true
   },
   "outputs": [],
   "source": [
    "CompDist_store = store[['Store', 'CompetitionDistance']]\n",
    "sales_distance = pd.merge(mean_sales, CompDist_store)"
   ]
  },
  {
   "cell_type": "code",
   "execution_count": 13,
   "metadata": {},
   "outputs": [
    {
     "data": {
      "image/png": "[encoded data removed]",
      "text/plain": [
       "<matplotlib.figure.Figure at 0x1166aa080>"
      ]
     },
     "metadata": {},
     "output_type": "display_data"
    }
   ],
   "source": [
    "sales_distance = sales_distance.sort_values(by='CompetitionDistance', axis=0, ascending=True)\n",
    "sales_distance = sales_distance[['Sales', 'CompetitionDistance']]\n",
    "mean_sales_distance = sales_distance.groupby('CompetitionDistance').apply(np.mean)\n",
    "sub_mean_sales_distance = mean_sales_distance.iloc[0:700]\n",
    "\n",
    "plt.plot(sub_mean_sales_distance.CompetitionDistance, sub_mean_sales_distance.Sales, marker='o', mec='r', mfc='w',label=u'y')\n",
    "#plt.plot(plot_data.Date, plot_data.pred, marker='o', mec='b', mfc='w',label=u'y_hat')\n",
    "plt.legend()\n",
    "plt.show()"
   ]
  },
  {
   "cell_type": "markdown",
   "metadata": {},
   "source": [
    "店铺1的销售额的总体趋势"
   ]
  },
  {
   "cell_type": "code",
   "execution_count": 14,
   "metadata": {},
   "outputs": [
    {
     "data": {
      "text/html": [
       "<div>\n",
       "<style>\n",
       "    .dataframe thead tr:only-child th {\n",
       "        text-align: right;\n",
       "    }\n",
       "\n",
       "    .dataframe thead th {\n",
       "        text-align: left;\n",
       "    }\n",
       "\n",
       "    .dataframe tbody tr th {\n",
       "        vertical-align: top;\n",
       "    }\n",
       "</style>\n",
       "<table border=\"1\" class=\"dataframe\">\n",
       "  <thead>\n",
       "    <tr style=\"text-align: right;\">\n",
       "      <th></th>\n",
       "      <th>Date</th>\n",
       "      <th>Sales</th>\n",
       "    </tr>\n",
       "  </thead>\n",
       "  <tbody>\n",
       "    <tr>\n",
       "      <th>1115</th>\n",
       "      <td>2015-07-30</td>\n",
       "      <td>5020</td>\n",
       "    </tr>\n",
       "    <tr>\n",
       "      <th>2230</th>\n",
       "      <td>2015-07-29</td>\n",
       "      <td>4782</td>\n",
       "    </tr>\n",
       "    <tr>\n",
       "      <th>3345</th>\n",
       "      <td>2015-07-28</td>\n",
       "      <td>5011</td>\n",
       "    </tr>\n",
       "    <tr>\n",
       "      <th>4460</th>\n",
       "      <td>2015-07-27</td>\n",
       "      <td>6102</td>\n",
       "    </tr>\n",
       "    <tr>\n",
       "      <th>5575</th>\n",
       "      <td>2015-07-26</td>\n",
       "      <td>0</td>\n",
       "    </tr>\n",
       "    <tr>\n",
       "      <th>6690</th>\n",
       "      <td>2015-07-25</td>\n",
       "      <td>4364</td>\n",
       "    </tr>\n",
       "    <tr>\n",
       "      <th>7805</th>\n",
       "      <td>2015-07-24</td>\n",
       "      <td>3706</td>\n",
       "    </tr>\n",
       "    <tr>\n",
       "      <th>8920</th>\n",
       "      <td>2015-07-23</td>\n",
       "      <td>3769</td>\n",
       "    </tr>\n",
       "    <tr>\n",
       "      <th>10035</th>\n",
       "      <td>2015-07-22</td>\n",
       "      <td>3464</td>\n",
       "    </tr>\n",
       "  </tbody>\n",
       "</table>\n",
       "</div>"
      ],
      "text/plain": [
       "            Date  Sales\n",
       "1115  2015-07-30   5020\n",
       "2230  2015-07-29   4782\n",
       "3345  2015-07-28   5011\n",
       "4460  2015-07-27   6102\n",
       "5575  2015-07-26      0\n",
       "6690  2015-07-25   4364\n",
       "7805  2015-07-24   3706\n",
       "8920  2015-07-23   3769\n",
       "10035 2015-07-22   3464"
      ]
     },
     "execution_count": 14,
     "metadata": {},
     "output_type": "execute_result"
    }
   ],
   "source": [
    "train['Date'] = pd.to_datetime(train['Date'])\n",
    "indexN = np.where(train.Store == 1)[0].tolist()\n",
    "storeN_sale = train.loc[indexN, ['Date', 'Sales']]\n",
    "sub_storeN_sale = storeN_sale[1:60]\n",
    "storeN_sale[1:10]"
   ]
  },
  {
   "cell_type": "code",
   "execution_count": 15,
   "metadata": {},
   "outputs": [
    {
     "data": {
      "image/png": "[encoded data removed]",
      "text/plain": [
       "<matplotlib.figure.Figure at 0x115ca6358>"
      ]
     },
     "metadata": {},
     "output_type": "display_data"
    }
   ],
   "source": [
    "plt.plot(sub_storeN_sale.Date, sub_storeN_sale.Sales, marker='o', mec='r', mfc='w',label=u'y')\n",
    "plt.show()"
   ]
  },
  {
   "cell_type": "code",
   "execution_count": 16,
   "metadata": {},
   "outputs": [
    {
     "data": {
      "image/png": "[encoded data removed]",
      "text/plain": [
       "<matplotlib.figure.Figure at 0x1154bd978>"
      ]
     },
     "metadata": {},
     "output_type": "display_data"
    }
   ],
   "source": [
    "indexN = np.where(train.Store == 8)[0].tolist()\n",
    "storeN_sale = train.loc[indexN, ['Date', 'Sales']]\n",
    "sub_storeN_sale = storeN_sale[1:60]\n",
    "storeN_sale[1:10]\n",
    "plt.plot(sub_storeN_sale.Date, sub_storeN_sale.Sales, marker='o', mec='r', mfc='w',label=u'y')\n",
    "plt.show()"
   ]
  },
  {
   "cell_type": "markdown",
   "metadata": {},
   "source": [
    "## 特征工程\n",
    "### 第一阶段"
   ]
  },
  {
   "cell_type": "markdown",
   "metadata": {},
   "source": [
    "#### 1. 得到train_all\n",
    "train.csv有数据缺失，数据集的时间范围内，并不是每个店铺的每一天都有数据的，对缺失的补充0。"
   ]
  },
  {
   "cell_type": "code",
   "execution_count": 17,
   "metadata": {
    "collapsed": true
   },
   "outputs": [],
   "source": [
    "# 获取train的时间区间，以日为跨度\n",
    "Date = train['Date']\n",
    "Store = train['Store']\n",
    "date = pd.to_datetime(Date)\n",
    "min_date = min(date)\n",
    "max_date = max(date)\n",
    "date_range = pd.date_range(min_date, max_date)\n",
    "\n",
    "# 获取所有店铺\n",
    "Store_unq = Store.unique()\n",
    "\n",
    "# 将train中的Date也改为时间格式\n",
    "train['Date'] = date"
   ]
  },
  {
   "cell_type": "code",
   "execution_count": 18,
   "metadata": {
    "collapsed": true
   },
   "outputs": [],
   "source": [
    "# 把test中的Date改为时间格式\n",
    "test['Date'] = pd.to_datetime(test['Date'])"
   ]
  },
  {
   "cell_type": "code",
   "execution_count": 19,
   "metadata": {},
   "outputs": [
    {
     "name": "stdout",
     "output_type": "stream",
     "text": [
      "日期的区间范围从2013-01-01 00:00:00到2015-07-31 00:00:00\n"
     ]
    }
   ],
   "source": [
    "print(\"日期的区间范围从{}到{}\".format(*(min_date,max_date)))"
   ]
  },
  {
   "cell_type": "code",
   "execution_count": 20,
   "metadata": {},
   "outputs": [
    {
     "name": "stdout",
     "output_type": "stream",
     "text": [
      "总行数是 1050330\n"
     ]
    }
   ],
   "source": [
    "# 对店铺和日期做笛卡尔积，这种方法做笛卡尔积的效率会更高\n",
    "import itertools \n",
    "store_date = list()\n",
    "for i in itertools.product(Store_unq, date_range):  \n",
    "    store_date.append(np.array(i))\n",
    "    \n",
    "# 得到每个店铺对应每一天的数据，计算dtrain_cartesian的行数\n",
    "train_cartesian = DataFrame(store_date, columns=['Store', 'Date'])\n",
    "print(\"总行数是\", train_cartesian.iloc[:, 0].size)"
   ]
  },
  {
   "cell_type": "code",
   "execution_count": 21,
   "metadata": {},
   "outputs": [
    {
     "name": "stdout",
     "output_type": "stream",
     "text": [
      "train_all的行数为： 1050330\n"
     ]
    }
   ],
   "source": [
    "# 增加值为0的列，列名和train保持一致\n",
    "train_cartesian = train_cartesian.reindex(columns=train.columns, fill_value=0)\n",
    "\n",
    "# 获得Date对应周几。得到周几后，必须要+1，因为train里面的DayOfWeek是从1到7的。\n",
    "weekday = [i.weekday() for i in train_cartesian['Date']]\n",
    "train_cartesian['DayOfWeek'] = [i+1 for i in weekday]\n",
    "\n",
    "# 获取train和train_cartesian的差集\n",
    "train2_cartesian = train_cartesian.append(train)\n",
    "diff_train = train2_cartesian.drop_duplicates(subset=['Store', 'Date'],keep=False)\n",
    "\n",
    "# 获得train_all, 并打印其行数\n",
    "train_all = train.append(diff_train)\n",
    "print(\"train_all的行数为：\", train_all.iloc[:, 0].size)"
   ]
  },
  {
   "cell_type": "markdown",
   "metadata": {},
   "source": [
    "> 经过上述步骤处理后的数据集为：train_all"
   ]
  },
  {
   "cell_type": "markdown",
   "metadata": {},
   "source": [
    "#### 2. 获得竞争对手开业时间CompeteOpenDate\n",
    "\n",
    "CompeteOpenDate是字符型。"
   ]
  },
  {
   "cell_type": "code",
   "execution_count": 22,
   "metadata": {},
   "outputs": [
    {
     "data": {
      "text/html": [
       "<div>\n",
       "<style>\n",
       "    .dataframe thead tr:only-child th {\n",
       "        text-align: right;\n",
       "    }\n",
       "\n",
       "    .dataframe thead th {\n",
       "        text-align: left;\n",
       "    }\n",
       "\n",
       "    .dataframe tbody tr th {\n",
       "        vertical-align: top;\n",
       "    }\n",
       "</style>\n",
       "<table border=\"1\" class=\"dataframe\">\n",
       "  <thead>\n",
       "    <tr style=\"text-align: right;\">\n",
       "      <th></th>\n",
       "      <th>Store</th>\n",
       "      <th>StoreType</th>\n",
       "      <th>Assortment</th>\n",
       "      <th>CompetitionDistance</th>\n",
       "      <th>CompetitionOpenSinceMonth</th>\n",
       "      <th>CompetitionOpenSinceYear</th>\n",
       "      <th>Promo2</th>\n",
       "      <th>Promo2SinceWeek</th>\n",
       "      <th>Promo2SinceYear</th>\n",
       "      <th>PromoInterval</th>\n",
       "    </tr>\n",
       "  </thead>\n",
       "  <tbody>\n",
       "    <tr>\n",
       "      <th>0</th>\n",
       "      <td>1</td>\n",
       "      <td>c</td>\n",
       "      <td>a</td>\n",
       "      <td>1270.0</td>\n",
       "      <td>9</td>\n",
       "      <td>2008</td>\n",
       "      <td>0</td>\n",
       "      <td>NaN</td>\n",
       "      <td>NaN</td>\n",
       "      <td>NaN</td>\n",
       "    </tr>\n",
       "    <tr>\n",
       "      <th>1</th>\n",
       "      <td>2</td>\n",
       "      <td>a</td>\n",
       "      <td>a</td>\n",
       "      <td>570.0</td>\n",
       "      <td>11</td>\n",
       "      <td>2007</td>\n",
       "      <td>1</td>\n",
       "      <td>13.0</td>\n",
       "      <td>2010.0</td>\n",
       "      <td>Jan,Apr,Jul,Oct</td>\n",
       "    </tr>\n",
       "    <tr>\n",
       "      <th>2</th>\n",
       "      <td>3</td>\n",
       "      <td>a</td>\n",
       "      <td>a</td>\n",
       "      <td>14130.0</td>\n",
       "      <td>12</td>\n",
       "      <td>2006</td>\n",
       "      <td>1</td>\n",
       "      <td>14.0</td>\n",
       "      <td>2011.0</td>\n",
       "      <td>Jan,Apr,Jul,Oct</td>\n",
       "    </tr>\n",
       "    <tr>\n",
       "      <th>3</th>\n",
       "      <td>4</td>\n",
       "      <td>c</td>\n",
       "      <td>c</td>\n",
       "      <td>620.0</td>\n",
       "      <td>9</td>\n",
       "      <td>2009</td>\n",
       "      <td>0</td>\n",
       "      <td>NaN</td>\n",
       "      <td>NaN</td>\n",
       "      <td>NaN</td>\n",
       "    </tr>\n",
       "    <tr>\n",
       "      <th>4</th>\n",
       "      <td>5</td>\n",
       "      <td>a</td>\n",
       "      <td>a</td>\n",
       "      <td>29910.0</td>\n",
       "      <td>4</td>\n",
       "      <td>2015</td>\n",
       "      <td>0</td>\n",
       "      <td>NaN</td>\n",
       "      <td>NaN</td>\n",
       "      <td>NaN</td>\n",
       "    </tr>\n",
       "  </tbody>\n",
       "</table>\n",
       "</div>"
      ],
      "text/plain": [
       "   Store StoreType Assortment  CompetitionDistance CompetitionOpenSinceMonth  \\\n",
       "0      1         c          a               1270.0                         9   \n",
       "1      2         a          a                570.0                        11   \n",
       "2      3         a          a              14130.0                        12   \n",
       "3      4         c          c                620.0                         9   \n",
       "4      5         a          a              29910.0                         4   \n",
       "\n",
       "  CompetitionOpenSinceYear  Promo2  Promo2SinceWeek  Promo2SinceYear  \\\n",
       "0                     2008       0              NaN              NaN   \n",
       "1                     2007       1             13.0           2010.0   \n",
       "2                     2006       1             14.0           2011.0   \n",
       "3                     2009       0              NaN              NaN   \n",
       "4                     2015       0              NaN              NaN   \n",
       "\n",
       "     PromoInterval  \n",
       "0              NaN  \n",
       "1  Jan,Apr,Jul,Oct  \n",
       "2  Jan,Apr,Jul,Oct  \n",
       "3              NaN  \n",
       "4              NaN  "
      ]
     },
     "execution_count": 22,
     "metadata": {},
     "output_type": "execute_result"
    }
   ],
   "source": [
    "CompetitionOpenSinceYear = store['CompetitionOpenSinceYear']\n",
    "CompetitionOpenSinceMonth = store['CompetitionOpenSinceMonth']\n",
    "store.head()"
   ]
  },
  {
   "cell_type": "code",
   "execution_count": 23,
   "metadata": {
    "collapsed": true
   },
   "outputs": [],
   "source": [
    "\n",
    "def get_CompteOpenDate(data):\n",
    "    \n",
    "    is_na = list(data.loc[['CompetitionOpenSinceYear', 'CompetitionOpenSinceMonth']].isnull())\n",
    "    if True in is_na:\n",
    "        return(0)\n",
    "    else:\n",
    "        opendate = data['CompetitionOpenSinceYear']+'-' + data['CompetitionOpenSinceMonth']+'-01'\n",
    "    \n",
    "        data['CompeteOpenDate'] = opendate#pd.to_datetime(opendate, format=\"%Y-%m-%d\")\n",
    "        #data['CompeteOpenDate'] = datetime.strptime(opendate, \"%Y-%m-%d\")\n",
    "        return(data)\n",
    "    "
   ]
  },
  {
   "cell_type": "code",
   "execution_count": 24,
   "metadata": {
    "collapsed": true
   },
   "outputs": [],
   "source": [
    "store = store.apply(get_CompteOpenDate, axis=1)"
   ]
  },
  {
   "cell_type": "code",
   "execution_count": 25,
   "metadata": {},
   "outputs": [
    {
     "data": {
      "text/html": [
       "<div>\n",
       "<style>\n",
       "    .dataframe thead tr:only-child th {\n",
       "        text-align: right;\n",
       "    }\n",
       "\n",
       "    .dataframe thead th {\n",
       "        text-align: left;\n",
       "    }\n",
       "\n",
       "    .dataframe tbody tr th {\n",
       "        vertical-align: top;\n",
       "    }\n",
       "</style>\n",
       "<table border=\"1\" class=\"dataframe\">\n",
       "  <thead>\n",
       "    <tr style=\"text-align: right;\">\n",
       "      <th></th>\n",
       "      <th>Store</th>\n",
       "      <th>StoreType</th>\n",
       "      <th>Assortment</th>\n",
       "      <th>CompetitionDistance</th>\n",
       "      <th>CompetitionOpenSinceMonth</th>\n",
       "      <th>CompetitionOpenSinceYear</th>\n",
       "      <th>Promo2</th>\n",
       "      <th>Promo2SinceWeek</th>\n",
       "      <th>Promo2SinceYear</th>\n",
       "      <th>PromoInterval</th>\n",
       "      <th>CompeteOpenDate</th>\n",
       "    </tr>\n",
       "  </thead>\n",
       "  <tbody>\n",
       "    <tr>\n",
       "      <th>0</th>\n",
       "      <td>1</td>\n",
       "      <td>c</td>\n",
       "      <td>a</td>\n",
       "      <td>1270.0</td>\n",
       "      <td>9</td>\n",
       "      <td>2008</td>\n",
       "      <td>0</td>\n",
       "      <td>NaN</td>\n",
       "      <td>NaN</td>\n",
       "      <td>NaN</td>\n",
       "      <td>2008-9-01</td>\n",
       "    </tr>\n",
       "    <tr>\n",
       "      <th>1</th>\n",
       "      <td>2</td>\n",
       "      <td>a</td>\n",
       "      <td>a</td>\n",
       "      <td>570.0</td>\n",
       "      <td>11</td>\n",
       "      <td>2007</td>\n",
       "      <td>1</td>\n",
       "      <td>13.0</td>\n",
       "      <td>2010.0</td>\n",
       "      <td>Jan,Apr,Jul,Oct</td>\n",
       "      <td>2007-11-01</td>\n",
       "    </tr>\n",
       "    <tr>\n",
       "      <th>2</th>\n",
       "      <td>3</td>\n",
       "      <td>a</td>\n",
       "      <td>a</td>\n",
       "      <td>14130.0</td>\n",
       "      <td>12</td>\n",
       "      <td>2006</td>\n",
       "      <td>1</td>\n",
       "      <td>14.0</td>\n",
       "      <td>2011.0</td>\n",
       "      <td>Jan,Apr,Jul,Oct</td>\n",
       "      <td>2006-12-01</td>\n",
       "    </tr>\n",
       "    <tr>\n",
       "      <th>3</th>\n",
       "      <td>4</td>\n",
       "      <td>c</td>\n",
       "      <td>c</td>\n",
       "      <td>620.0</td>\n",
       "      <td>9</td>\n",
       "      <td>2009</td>\n",
       "      <td>0</td>\n",
       "      <td>NaN</td>\n",
       "      <td>NaN</td>\n",
       "      <td>NaN</td>\n",
       "      <td>2009-9-01</td>\n",
       "    </tr>\n",
       "    <tr>\n",
       "      <th>4</th>\n",
       "      <td>5</td>\n",
       "      <td>a</td>\n",
       "      <td>a</td>\n",
       "      <td>29910.0</td>\n",
       "      <td>4</td>\n",
       "      <td>2015</td>\n",
       "      <td>0</td>\n",
       "      <td>NaN</td>\n",
       "      <td>NaN</td>\n",
       "      <td>NaN</td>\n",
       "      <td>2015-4-01</td>\n",
       "    </tr>\n",
       "  </tbody>\n",
       "</table>\n",
       "</div>"
      ],
      "text/plain": [
       "   Store StoreType Assortment  CompetitionDistance CompetitionOpenSinceMonth  \\\n",
       "0      1         c          a               1270.0                         9   \n",
       "1      2         a          a                570.0                        11   \n",
       "2      3         a          a              14130.0                        12   \n",
       "3      4         c          c                620.0                         9   \n",
       "4      5         a          a              29910.0                         4   \n",
       "\n",
       "  CompetitionOpenSinceYear  Promo2  Promo2SinceWeek  Promo2SinceYear  \\\n",
       "0                     2008       0              NaN              NaN   \n",
       "1                     2007       1             13.0           2010.0   \n",
       "2                     2006       1             14.0           2011.0   \n",
       "3                     2009       0              NaN              NaN   \n",
       "4                     2015       0              NaN              NaN   \n",
       "\n",
       "     PromoInterval CompeteOpenDate  \n",
       "0              NaN       2008-9-01  \n",
       "1  Jan,Apr,Jul,Oct      2007-11-01  \n",
       "2  Jan,Apr,Jul,Oct      2006-12-01  \n",
       "3              NaN       2009-9-01  \n",
       "4              NaN       2015-4-01  "
      ]
     },
     "execution_count": 25,
     "metadata": {},
     "output_type": "execute_result"
    }
   ],
   "source": [
    "store.head()"
   ]
  },
  {
   "cell_type": "markdown",
   "metadata": {},
   "source": [
    "> 经过上述步骤处理后的数据集为：store"
   ]
  },
  {
   "cell_type": "markdown",
   "metadata": {
    "collapsed": true
   },
   "source": [
    "#### 3. 处理成one-hot-vector\n",
    "\n",
    "对train_all里的StateHoliday，DayOfWeek(为了不让其值影响到特征之间距离的计算)做one-hot处理，对store里的StoreType，Assortment做one-hot处理"
   ]
  },
  {
   "cell_type": "code",
   "execution_count": 26,
   "metadata": {
    "collapsed": true
   },
   "outputs": [],
   "source": [
    "# 原来的train_all['StateHoliday']存在问题：‘0’和0共存。\n",
    "train_all['StateHoliday'] = train_all.StateHoliday.apply(lambda x: 0 if x=='0' else x)"
   ]
  },
  {
   "cell_type": "code",
   "execution_count": 27,
   "metadata": {
    "collapsed": true
   },
   "outputs": [],
   "source": [
    "# 对test做上述处理,\n",
    "test['StateHoliday'] = test.StateHoliday.apply(lambda x:0 if x == '0' else x)"
   ]
  },
  {
   "cell_type": "markdown",
   "metadata": {},
   "source": [
    "**在进行onehot时少两列：'StateHoliday_b', 'StateHoliday_c'**，记得要调整列的顺序，和测试集保持一致"
   ]
  },
  {
   "cell_type": "code",
   "execution_count": 28,
   "metadata": {
    "collapsed": true
   },
   "outputs": [],
   "source": [
    "# 对test中的'DayOfWeek', 'StateHoliday'做one-hot-vect处理\n",
    "test_onehot = pd.get_dummies(test, columns=['DayOfWeek', 'StateHoliday'])\n",
    "test_onehot['StateHoliday_b'] = 0\n",
    "test_onehot['StateHoliday_c'] = 0"
   ]
  },
  {
   "cell_type": "code",
   "execution_count": 29,
   "metadata": {
    "collapsed": true
   },
   "outputs": [],
   "source": [
    "# 下面做one-hot-vector的处理\n",
    "train_all_onehot = pd.get_dummies(train_all, columns=['DayOfWeek', 'StateHoliday'])\n",
    "store_onehot = pd.get_dummies(store, columns=['StoreType'])"
   ]
  },
  {
   "cell_type": "code",
   "execution_count": 30,
   "metadata": {
    "collapsed": true
   },
   "outputs": [],
   "source": [
    "# 由于Assortment的取值大小是有一定意义的，因此，使用数值的映射。\n",
    "# Assortment_mapping = {label:idx for idx,label in enumerate(set(store['Assortment']))} \n",
    "Assortment_mapping = {'a':1, 'b': 2, 'c':3}\n",
    "store_onehot['Assortment'] = store_onehot['Assortment'].map(Assortment_mapping)"
   ]
  },
  {
   "cell_type": "markdown",
   "metadata": {},
   "source": [
    "> 经过该步骤处理后的数据集为：train_all_onehot、test_onehot和store_onehot"
   ]
  },
  {
   "cell_type": "markdown",
   "metadata": {},
   "source": [
    "#### 4. CompeteOpen竞争对手是否开门\n",
    "\n",
    "增加字段 CompeteOpen，判断竞争对手是否营业。通过Date >= CompetitionOpenDate和Open两个一起判断。也就是说首先判断CompetitionOpenDate是否早于Date，如果是，与该日期本店铺的Open一致，如果不是则为未开门0。"
   ]
  },
  {
   "cell_type": "code",
   "execution_count": 31,
   "metadata": {
    "collapsed": true,
    "scrolled": true
   },
   "outputs": [],
   "source": [
    "# 首先要做的是合并train_all_onehot和store_onehot\n",
    "all_data = pd.merge(train_all_onehot, store_onehot, on='Store', how='left')\n",
    "all_data['CompeteOpenDate'] = pd.to_datetime(all_data['CompeteOpenDate'])"
   ]
  },
  {
   "cell_type": "code",
   "execution_count": 32,
   "metadata": {
    "collapsed": true
   },
   "outputs": [],
   "source": [
    "all_test = pd.merge(test_onehot, store_onehot, on = 'Store', how='left')\n",
    "all_test['CompeteOpenDate'] = pd.to_datetime(all_test['CompeteOpenDate'])"
   ]
  },
  {
   "cell_type": "code",
   "execution_count": 33,
   "metadata": {
    "collapsed": true
   },
   "outputs": [],
   "source": [
    "def judge_compete_open(date, compete_date, opened):\n",
    "    if date > compete_date and opened == 1:\n",
    "        return(1)\n",
    "    else:\n",
    "        return(0)"
   ]
  },
  {
   "cell_type": "code",
   "execution_count": 34,
   "metadata": {
    "collapsed": true
   },
   "outputs": [],
   "source": [
    "all_data['CompeteOpen'] = all_data.apply(lambda x: judge_compete_open(x.Date, x.CompeteOpenDate, x.Open), axis=1)\n",
    "all_test['CompeteOpen'] = all_test.apply(lambda x: judge_compete_open(x.Date, x.CompeteOpenDate, x.Open), axis=1)"
   ]
  },
  {
   "cell_type": "markdown",
   "metadata": {},
   "source": [
    "> 经过该步骤处理后的数据集为：all_data和all_test"
   ]
  },
  {
   "cell_type": "markdown",
   "metadata": {},
   "source": [
    "#### 5. Promo2Active商品当天是否有特殊促销活动（Promo2）\n",
    "\n",
    "判断当天是否有Promo2的促销活动。"
   ]
  },
  {
   "cell_type": "code",
   "execution_count": 35,
   "metadata": {
    "collapsed": true
   },
   "outputs": [],
   "source": [
    "def judge_promot2(date, p2SinceWeek, p2SinceYear, p2Interval, promot2):\n",
    "    date_year = date.year\n",
    "    date_mon = date.month\n",
    "    date_week = date.week\n",
    "    month_abbr = ['Jan', 'Feb', 'Mar', 'Apr', 'May', 'Jun', 'Jul', 'Aug', 'Sep', 'Oct', 'Nov', 'Dec']\n",
    "    date_mon_abbr = month_abbr[date_mon-1]\n",
    "    judge = (date_year > p2SinceYear or (date_year == p2SinceYear and date_week > p2SinceWeek)) and date_mon_abbr in p2Interval\n",
    "        \n",
    "    return(promot2*judge)\n",
    "  \n"
   ]
  },
  {
   "cell_type": "code",
   "execution_count": 36,
   "metadata": {
    "collapsed": true
   },
   "outputs": [],
   "source": [
    "all_data['Promo2Active'] = all_data.apply(lambda x: judge_promot2(x.Date, x.Promo2SinceWeek, x.Promo2SinceYear, x.PromoInterval, x.Promo2), axis=1)\n",
    "all_test['Promo2Active'] = all_test.apply(lambda x: judge_promot2(x.Date, x.Promo2SinceWeek, x.Promo2SinceYear, x.PromoInterval, x.Promo2), axis=1)"
   ]
  },
  {
   "cell_type": "markdown",
   "metadata": {},
   "source": [
    "#### 6. 根据Gert建议增加特征\n",
    "\n",
    "参考[Gert](https://www.kaggle.com/c/rossmann-store-sales/discussion/18024)的工作，考虑一些特征，在all_data中增加特征：week, year, month, day"
   ]
  },
  {
   "cell_type": "code",
   "execution_count": 37,
   "metadata": {
    "collapsed": true
   },
   "outputs": [],
   "source": [
    "all_data['week'] = all_data.Date.apply(lambda x: x.week)\n",
    "all_data['month'] = all_data.Date.apply(lambda x: x.month)\n",
    "all_data['year'] = all_data.Date.apply(lambda x: x.year)\n",
    "all_data['day'] = all_data.Date.apply(lambda x: x.day)"
   ]
  },
  {
   "cell_type": "code",
   "execution_count": 38,
   "metadata": {
    "collapsed": true
   },
   "outputs": [],
   "source": [
    "all_test['week'] = all_test.Date.apply(lambda x: x.week)\n",
    "all_test['month'] = all_test.Date.apply(lambda x: x.month)\n",
    "all_test['year'] = all_test.Date.apply(lambda x: x.year)\n",
    "all_test['day'] = all_test.Date.apply(lambda x: x.day)"
   ]
  },
  {
   "cell_type": "markdown",
   "metadata": {},
   "source": [
    "### 第二阶段\n",
    "\n",
    "#### 8. 增加特征DayofYear\n",
    "\n",
    "对all_data和all_test都增加该特征"
   ]
  },
  {
   "cell_type": "code",
   "execution_count": 39,
   "metadata": {
    "collapsed": true
   },
   "outputs": [],
   "source": [
    "all_data['DayofYear'] = pd.Index(all_data['Date']).dayofyear\n",
    "all_test['DayofYear'] = pd.Index(all_test['Date']).dayofyear"
   ]
  },
  {
   "cell_type": "code",
   "execution_count": 40,
   "metadata": {},
   "outputs": [
    {
     "data": {
      "text/html": [
       "<div>\n",
       "<style>\n",
       "    .dataframe thead tr:only-child th {\n",
       "        text-align: right;\n",
       "    }\n",
       "\n",
       "    .dataframe thead th {\n",
       "        text-align: left;\n",
       "    }\n",
       "\n",
       "    .dataframe tbody tr th {\n",
       "        vertical-align: top;\n",
       "    }\n",
       "</style>\n",
       "<table border=\"1\" class=\"dataframe\">\n",
       "  <thead>\n",
       "    <tr style=\"text-align: right;\">\n",
       "      <th></th>\n",
       "      <th>Store</th>\n",
       "      <th>Date</th>\n",
       "      <th>Sales</th>\n",
       "      <th>Customers</th>\n",
       "      <th>Open</th>\n",
       "      <th>Promo</th>\n",
       "      <th>SchoolHoliday</th>\n",
       "      <th>DayOfWeek_1</th>\n",
       "      <th>DayOfWeek_2</th>\n",
       "      <th>DayOfWeek_3</th>\n",
       "      <th>...</th>\n",
       "      <th>StoreType_b</th>\n",
       "      <th>StoreType_c</th>\n",
       "      <th>StoreType_d</th>\n",
       "      <th>CompeteOpen</th>\n",
       "      <th>Promo2Active</th>\n",
       "      <th>week</th>\n",
       "      <th>month</th>\n",
       "      <th>year</th>\n",
       "      <th>day</th>\n",
       "      <th>DayofYear</th>\n",
       "    </tr>\n",
       "  </thead>\n",
       "  <tbody>\n",
       "    <tr>\n",
       "      <th>0</th>\n",
       "      <td>1</td>\n",
       "      <td>2015-07-31</td>\n",
       "      <td>5263</td>\n",
       "      <td>555</td>\n",
       "      <td>1</td>\n",
       "      <td>1</td>\n",
       "      <td>1</td>\n",
       "      <td>0</td>\n",
       "      <td>0</td>\n",
       "      <td>0</td>\n",
       "      <td>...</td>\n",
       "      <td>0.0</td>\n",
       "      <td>1.0</td>\n",
       "      <td>0.0</td>\n",
       "      <td>1</td>\n",
       "      <td>0.0</td>\n",
       "      <td>31</td>\n",
       "      <td>7</td>\n",
       "      <td>2015</td>\n",
       "      <td>31</td>\n",
       "      <td>212</td>\n",
       "    </tr>\n",
       "    <tr>\n",
       "      <th>1</th>\n",
       "      <td>2</td>\n",
       "      <td>2015-07-31</td>\n",
       "      <td>6064</td>\n",
       "      <td>625</td>\n",
       "      <td>1</td>\n",
       "      <td>1</td>\n",
       "      <td>1</td>\n",
       "      <td>0</td>\n",
       "      <td>0</td>\n",
       "      <td>0</td>\n",
       "      <td>...</td>\n",
       "      <td>0.0</td>\n",
       "      <td>0.0</td>\n",
       "      <td>0.0</td>\n",
       "      <td>1</td>\n",
       "      <td>1.0</td>\n",
       "      <td>31</td>\n",
       "      <td>7</td>\n",
       "      <td>2015</td>\n",
       "      <td>31</td>\n",
       "      <td>212</td>\n",
       "    </tr>\n",
       "    <tr>\n",
       "      <th>2</th>\n",
       "      <td>3</td>\n",
       "      <td>2015-07-31</td>\n",
       "      <td>8314</td>\n",
       "      <td>821</td>\n",
       "      <td>1</td>\n",
       "      <td>1</td>\n",
       "      <td>1</td>\n",
       "      <td>0</td>\n",
       "      <td>0</td>\n",
       "      <td>0</td>\n",
       "      <td>...</td>\n",
       "      <td>0.0</td>\n",
       "      <td>0.0</td>\n",
       "      <td>0.0</td>\n",
       "      <td>1</td>\n",
       "      <td>1.0</td>\n",
       "      <td>31</td>\n",
       "      <td>7</td>\n",
       "      <td>2015</td>\n",
       "      <td>31</td>\n",
       "      <td>212</td>\n",
       "    </tr>\n",
       "    <tr>\n",
       "      <th>3</th>\n",
       "      <td>4</td>\n",
       "      <td>2015-07-31</td>\n",
       "      <td>13995</td>\n",
       "      <td>1498</td>\n",
       "      <td>1</td>\n",
       "      <td>1</td>\n",
       "      <td>1</td>\n",
       "      <td>0</td>\n",
       "      <td>0</td>\n",
       "      <td>0</td>\n",
       "      <td>...</td>\n",
       "      <td>0.0</td>\n",
       "      <td>1.0</td>\n",
       "      <td>0.0</td>\n",
       "      <td>1</td>\n",
       "      <td>0.0</td>\n",
       "      <td>31</td>\n",
       "      <td>7</td>\n",
       "      <td>2015</td>\n",
       "      <td>31</td>\n",
       "      <td>212</td>\n",
       "    </tr>\n",
       "    <tr>\n",
       "      <th>4</th>\n",
       "      <td>5</td>\n",
       "      <td>2015-07-31</td>\n",
       "      <td>4822</td>\n",
       "      <td>559</td>\n",
       "      <td>1</td>\n",
       "      <td>1</td>\n",
       "      <td>1</td>\n",
       "      <td>0</td>\n",
       "      <td>0</td>\n",
       "      <td>0</td>\n",
       "      <td>...</td>\n",
       "      <td>0.0</td>\n",
       "      <td>0.0</td>\n",
       "      <td>0.0</td>\n",
       "      <td>1</td>\n",
       "      <td>0.0</td>\n",
       "      <td>31</td>\n",
       "      <td>7</td>\n",
       "      <td>2015</td>\n",
       "      <td>31</td>\n",
       "      <td>212</td>\n",
       "    </tr>\n",
       "  </tbody>\n",
       "</table>\n",
       "<p>5 rows × 39 columns</p>\n",
       "</div>"
      ],
      "text/plain": [
       "   Store       Date  Sales  Customers  Open  Promo  SchoolHoliday  \\\n",
       "0      1 2015-07-31   5263        555     1      1              1   \n",
       "1      2 2015-07-31   6064        625     1      1              1   \n",
       "2      3 2015-07-31   8314        821     1      1              1   \n",
       "3      4 2015-07-31  13995       1498     1      1              1   \n",
       "4      5 2015-07-31   4822        559     1      1              1   \n",
       "\n",
       "   DayOfWeek_1  DayOfWeek_2  DayOfWeek_3    ...      StoreType_b  StoreType_c  \\\n",
       "0            0            0            0    ...              0.0          1.0   \n",
       "1            0            0            0    ...              0.0          0.0   \n",
       "2            0            0            0    ...              0.0          0.0   \n",
       "3            0            0            0    ...              0.0          1.0   \n",
       "4            0            0            0    ...              0.0          0.0   \n",
       "\n",
       "   StoreType_d  CompeteOpen  Promo2Active  week  month  year  day  DayofYear  \n",
       "0          0.0            1           0.0    31      7  2015   31        212  \n",
       "1          0.0            1           1.0    31      7  2015   31        212  \n",
       "2          0.0            1           1.0    31      7  2015   31        212  \n",
       "3          0.0            1           0.0    31      7  2015   31        212  \n",
       "4          0.0            1           0.0    31      7  2015   31        212  \n",
       "\n",
       "[5 rows x 39 columns]"
      ]
     },
     "metadata": {},
     "output_type": "display_data"
    },
    {
     "data": {
      "text/html": [
       "<div>\n",
       "<style>\n",
       "    .dataframe thead tr:only-child th {\n",
       "        text-align: right;\n",
       "    }\n",
       "\n",
       "    .dataframe thead th {\n",
       "        text-align: left;\n",
       "    }\n",
       "\n",
       "    .dataframe tbody tr th {\n",
       "        vertical-align: top;\n",
       "    }\n",
       "</style>\n",
       "<table border=\"1\" class=\"dataframe\">\n",
       "  <thead>\n",
       "    <tr style=\"text-align: right;\">\n",
       "      <th></th>\n",
       "      <th>Id</th>\n",
       "      <th>Store</th>\n",
       "      <th>Date</th>\n",
       "      <th>Open</th>\n",
       "      <th>Promo</th>\n",
       "      <th>SchoolHoliday</th>\n",
       "      <th>DayOfWeek_1</th>\n",
       "      <th>DayOfWeek_2</th>\n",
       "      <th>DayOfWeek_3</th>\n",
       "      <th>DayOfWeek_4</th>\n",
       "      <th>...</th>\n",
       "      <th>StoreType_b</th>\n",
       "      <th>StoreType_c</th>\n",
       "      <th>StoreType_d</th>\n",
       "      <th>CompeteOpen</th>\n",
       "      <th>Promo2Active</th>\n",
       "      <th>week</th>\n",
       "      <th>month</th>\n",
       "      <th>year</th>\n",
       "      <th>day</th>\n",
       "      <th>DayofYear</th>\n",
       "    </tr>\n",
       "  </thead>\n",
       "  <tbody>\n",
       "    <tr>\n",
       "      <th>0</th>\n",
       "      <td>1</td>\n",
       "      <td>1</td>\n",
       "      <td>2015-09-17</td>\n",
       "      <td>1.0</td>\n",
       "      <td>1</td>\n",
       "      <td>0</td>\n",
       "      <td>0</td>\n",
       "      <td>0</td>\n",
       "      <td>0</td>\n",
       "      <td>1</td>\n",
       "      <td>...</td>\n",
       "      <td>0.0</td>\n",
       "      <td>1.0</td>\n",
       "      <td>0.0</td>\n",
       "      <td>1</td>\n",
       "      <td>0.0</td>\n",
       "      <td>38</td>\n",
       "      <td>9</td>\n",
       "      <td>2015</td>\n",
       "      <td>17</td>\n",
       "      <td>260</td>\n",
       "    </tr>\n",
       "    <tr>\n",
       "      <th>1</th>\n",
       "      <td>2</td>\n",
       "      <td>3</td>\n",
       "      <td>2015-09-17</td>\n",
       "      <td>1.0</td>\n",
       "      <td>1</td>\n",
       "      <td>0</td>\n",
       "      <td>0</td>\n",
       "      <td>0</td>\n",
       "      <td>0</td>\n",
       "      <td>1</td>\n",
       "      <td>...</td>\n",
       "      <td>0.0</td>\n",
       "      <td>0.0</td>\n",
       "      <td>0.0</td>\n",
       "      <td>1</td>\n",
       "      <td>0.0</td>\n",
       "      <td>38</td>\n",
       "      <td>9</td>\n",
       "      <td>2015</td>\n",
       "      <td>17</td>\n",
       "      <td>260</td>\n",
       "    </tr>\n",
       "    <tr>\n",
       "      <th>2</th>\n",
       "      <td>3</td>\n",
       "      <td>7</td>\n",
       "      <td>2015-09-17</td>\n",
       "      <td>1.0</td>\n",
       "      <td>1</td>\n",
       "      <td>0</td>\n",
       "      <td>0</td>\n",
       "      <td>0</td>\n",
       "      <td>0</td>\n",
       "      <td>1</td>\n",
       "      <td>...</td>\n",
       "      <td>0.0</td>\n",
       "      <td>0.0</td>\n",
       "      <td>0.0</td>\n",
       "      <td>1</td>\n",
       "      <td>0.0</td>\n",
       "      <td>38</td>\n",
       "      <td>9</td>\n",
       "      <td>2015</td>\n",
       "      <td>17</td>\n",
       "      <td>260</td>\n",
       "    </tr>\n",
       "    <tr>\n",
       "      <th>3</th>\n",
       "      <td>4</td>\n",
       "      <td>8</td>\n",
       "      <td>2015-09-17</td>\n",
       "      <td>1.0</td>\n",
       "      <td>1</td>\n",
       "      <td>0</td>\n",
       "      <td>0</td>\n",
       "      <td>0</td>\n",
       "      <td>0</td>\n",
       "      <td>1</td>\n",
       "      <td>...</td>\n",
       "      <td>0.0</td>\n",
       "      <td>0.0</td>\n",
       "      <td>0.0</td>\n",
       "      <td>1</td>\n",
       "      <td>0.0</td>\n",
       "      <td>38</td>\n",
       "      <td>9</td>\n",
       "      <td>2015</td>\n",
       "      <td>17</td>\n",
       "      <td>260</td>\n",
       "    </tr>\n",
       "    <tr>\n",
       "      <th>4</th>\n",
       "      <td>5</td>\n",
       "      <td>9</td>\n",
       "      <td>2015-09-17</td>\n",
       "      <td>1.0</td>\n",
       "      <td>1</td>\n",
       "      <td>0</td>\n",
       "      <td>0</td>\n",
       "      <td>0</td>\n",
       "      <td>0</td>\n",
       "      <td>1</td>\n",
       "      <td>...</td>\n",
       "      <td>0.0</td>\n",
       "      <td>0.0</td>\n",
       "      <td>0.0</td>\n",
       "      <td>1</td>\n",
       "      <td>0.0</td>\n",
       "      <td>38</td>\n",
       "      <td>9</td>\n",
       "      <td>2015</td>\n",
       "      <td>17</td>\n",
       "      <td>260</td>\n",
       "    </tr>\n",
       "  </tbody>\n",
       "</table>\n",
       "<p>5 rows × 38 columns</p>\n",
       "</div>"
      ],
      "text/plain": [
       "   Id  Store       Date  Open  Promo  SchoolHoliday  DayOfWeek_1  DayOfWeek_2  \\\n",
       "0   1      1 2015-09-17   1.0      1              0            0            0   \n",
       "1   2      3 2015-09-17   1.0      1              0            0            0   \n",
       "2   3      7 2015-09-17   1.0      1              0            0            0   \n",
       "3   4      8 2015-09-17   1.0      1              0            0            0   \n",
       "4   5      9 2015-09-17   1.0      1              0            0            0   \n",
       "\n",
       "   DayOfWeek_3  DayOfWeek_4    ...     StoreType_b  StoreType_c  StoreType_d  \\\n",
       "0            0            1    ...             0.0          1.0          0.0   \n",
       "1            0            1    ...             0.0          0.0          0.0   \n",
       "2            0            1    ...             0.0          0.0          0.0   \n",
       "3            0            1    ...             0.0          0.0          0.0   \n",
       "4            0            1    ...             0.0          0.0          0.0   \n",
       "\n",
       "   CompeteOpen  Promo2Active  week  month  year  day DayofYear  \n",
       "0            1           0.0    38      9  2015   17       260  \n",
       "1            1           0.0    38      9  2015   17       260  \n",
       "2            1           0.0    38      9  2015   17       260  \n",
       "3            1           0.0    38      9  2015   17       260  \n",
       "4            1           0.0    38      9  2015   17       260  \n",
       "\n",
       "[5 rows x 38 columns]"
      ]
     },
     "metadata": {},
     "output_type": "display_data"
    }
   ],
   "source": [
    "display(all_data.head())\n",
    "display(all_test.head())"
   ]
  },
  {
   "cell_type": "markdown",
   "metadata": {},
   "source": [
    "#### 9.删除异常值\n",
    "\n",
    "对all_data进行处理，删除异常值;删除'Open'== 1 但'Sales' == 0的数据"
   ]
  },
  {
   "cell_type": "code",
   "execution_count": 41,
   "metadata": {
    "collapsed": true
   },
   "outputs": [],
   "source": [
    "# 异常值：删除'Open'== 1 但'Sales' == 0的数据\n",
    "all_data = all_data.loc[~((all_data['Open'] == 1) & (all_data['Sales'] == 0))]"
   ]
  },
  {
   "cell_type": "code",
   "execution_count": 42,
   "metadata": {
    "collapsed": true
   },
   "outputs": [],
   "source": [
    "def mad_based_outlier(points, thresh=3.5):\n",
    "    if len(points.shape) == 1:\n",
    "        #将points变为array\n",
    "        points = points[:,None]\n",
    "    # 取中位数\n",
    "    median = np.median(points, axis=0)\n",
    "    diff = np.sum((points - median)**2, axis=-1)\n",
    "    diff = np.sqrt(diff)\n",
    "    med_abs_deviation = np.median(diff)\n",
    "\n",
    "    modified_z_score = 0.6745 * diff / med_abs_deviation\n",
    "\n",
    "    return modified_z_score > thresh"
   ]
  },
  {
   "cell_type": "code",
   "execution_count": 43,
   "metadata": {
    "collapsed": true
   },
   "outputs": [],
   "source": [
    "for i in all_data['Store'].unique():\n",
    "    all_data.loc[(all_data['Store'] == i) & (all_data['Open'] == 1), 'Outlier'] = \\\n",
    "        mad_based_outlier(all_data.loc[(all_data['Store'] == i) & (all_data['Open'] == 1)]['Sales'], 3)"
   ]
  },
  {
   "cell_type": "code",
   "execution_count": 44,
   "metadata": {
    "scrolled": true
   },
   "outputs": [
    {
     "data": {
      "image/png": "[encoded data removed]",
      "text/plain": [
       "<matplotlib.figure.Figure at 0x115a58240>"
      ]
     },
     "metadata": {},
     "output_type": "display_data"
    }
   ],
   "source": [
    "stores_to_check = [105,163,172,364,378,523,589,663,676,681,700,708,730,764,837,845,861,882,969,986]\n",
    "\n",
    "plt.rcParams[\"figure.figsize\"] = [20,len(stores_to_check)*5]\n",
    "\n",
    "j = 1\n",
    "for i in stores_to_check:\n",
    "    \n",
    "    # Normal sales\n",
    "    X1 = all_data.loc[(all_data['Store'] == i) & (all_data['Open'] == 1) & (all_data['Outlier'] == False)]\n",
    "    y1 = all_data.loc[(all_data['Store'] == i) & (all_data['Open'] == 1) & (all_data['Outlier'] == False)]['Sales']\n",
    "\n",
    "    # Outliers\n",
    "    X2 = all_data.loc[(all_data['Store'] == i) & (all_data['Open'] == 1) & (all_data['Outlier'] == True)]\n",
    "    y2 = all_data.loc[(all_data['Store'] == i) & (all_data['Open'] == 1) & (all_data['Outlier'] == True)]['Sales']\n",
    "\n",
    "    # Xt = df.loc[(df['Store'] == i)]\n",
    "    \n",
    "    plt.subplot(10,5,j)\n",
    "    plt.plot(X1['Date'], y1, '-')\n",
    "    plt.plot(X2['Date'], y2, 'r.')\n",
    "    plt.title(i)\n",
    "    plt.axis('off')\n",
    "    j = j + 1"
   ]
  },
  {
   "cell_type": "markdown",
   "metadata": {},
   "source": [
    "从上图中可以看出来，删除的异常值点都是合理的\n",
    "\n",
    "保留删除异常点后的数据"
   ]
  },
  {
   "cell_type": "markdown",
   "metadata": {},
   "source": [
    "#### 10. 增加关于store的特征"
   ]
  },
  {
   "cell_type": "code",
   "execution_count": 45,
   "metadata": {
    "scrolled": true
   },
   "outputs": [
    {
     "name": "stdout",
     "output_type": "stream",
     "text": [
      "<class 'pandas.core.frame.DataFrame'>\n",
      "Int64Index: 1050276 entries, 0 to 1050329\n",
      "Data columns (total 40 columns):\n",
      "Store                        1050276 non-null int64\n",
      "Date                         1050276 non-null datetime64[ns]\n",
      "Sales                        1050276 non-null int64\n",
      "Customers                    1050276 non-null int64\n",
      "Open                         1050276 non-null int64\n",
      "Promo                        1050276 non-null int64\n",
      "SchoolHoliday                1050276 non-null int64\n",
      "DayOfWeek_1                  1050276 non-null uint8\n",
      "DayOfWeek_2                  1050276 non-null uint8\n",
      "DayOfWeek_3                  1050276 non-null uint8\n",
      "DayOfWeek_4                  1050276 non-null uint8\n",
      "DayOfWeek_5                  1050276 non-null uint8\n",
      "DayOfWeek_6                  1050276 non-null uint8\n",
      "DayOfWeek_7                  1050276 non-null uint8\n",
      "StateHoliday_0               1050276 non-null uint8\n",
      "StateHoliday_a               1050276 non-null uint8\n",
      "StateHoliday_b               1050276 non-null uint8\n",
      "StateHoliday_c               1050276 non-null uint8\n",
      "Assortment                   716827 non-null float64\n",
      "CompetitionDistance          716827 non-null float64\n",
      "CompetitionOpenSinceMonth    716827 non-null object\n",
      "CompetitionOpenSinceYear     716827 non-null object\n",
      "Promo2                       716827 non-null float64\n",
      "Promo2SinceWeek              343806 non-null float64\n",
      "Promo2SinceYear              343806 non-null float64\n",
      "PromoInterval                343806 non-null object\n",
      "CompeteOpenDate              716827 non-null datetime64[ns]\n",
      "StoreType_0                  716827 non-null float64\n",
      "StoreType_a                  716827 non-null float64\n",
      "StoreType_b                  716827 non-null float64\n",
      "StoreType_c                  716827 non-null float64\n",
      "StoreType_d                  716827 non-null float64\n",
      "CompeteOpen                  1050276 non-null int64\n",
      "Promo2Active                 716827 non-null float64\n",
      "week                         1050276 non-null int64\n",
      "month                        1050276 non-null int64\n",
      "year                         1050276 non-null int64\n",
      "day                          1050276 non-null int64\n",
      "DayofYear                    1050276 non-null int64\n",
      "Outlier                      844338 non-null object\n",
      "dtypes: datetime64[ns](2), float64(11), int64(12), object(4), uint8(11)\n",
      "memory usage: 251.4+ MB\n"
     ]
    }
   ],
   "source": [
    "all_data.info()"
   ]
  },
  {
   "cell_type": "code",
   "execution_count": 71,
   "metadata": {
    "collapsed": true
   },
   "outputs": [],
   "source": [
    "# 得到商铺历史销售总额，历史顾客数量，历史开业天数\n",
    "store_sales = all_data['Sales'].groupby(all_data['Store']).sum()\n",
    "store_customers = all_data['Customers'].groupby(all_data['Store']).sum()\n",
    "store_opendays = all_data['Open'].groupby(all_data['Store']).count()\n",
    "\n",
    "# 增加了店铺的三个特征\n",
    "EachDay_store_sales = store_sales/store_opendays\n",
    "EachDay_store_customers = store_customers/store_opendays\n",
    "EachCustomer_cosume = EachDay_store_sales/EachDay_store_customers"
   ]
  },
  {
   "cell_type": "code",
   "execution_count": 72,
   "metadata": {},
   "outputs": [
    {
     "data": {
      "text/plain": [
       "Store\n",
       "1    3609953\n",
       "2    3802007\n",
       "3    5348909\n",
       "4    7271939\n",
       "5    3580890\n",
       "Name: Sales, dtype: int64"
      ]
     },
     "metadata": {},
     "output_type": "display_data"
    },
    {
     "data": {
      "text/plain": [
       "Store\n",
       "1     428749\n",
       "2     450417\n",
       "3     578972\n",
       "4    1001373\n",
       "5     413061\n",
       "Name: Customers, dtype: int64"
      ]
     },
     "metadata": {},
     "output_type": "display_data"
    },
    {
     "data": {
      "text/plain": [
       "Store\n",
       "1    929\n",
       "2    934\n",
       "3    938\n",
       "4    924\n",
       "5    936\n",
       "Name: Open, dtype: int64"
      ]
     },
     "metadata": {},
     "output_type": "display_data"
    }
   ],
   "source": [
    "display(store_sales.head())\n",
    "display(store_customers.head())\n",
    "display(store_opendays.head())"
   ]
  },
  {
   "cell_type": "code",
   "execution_count": 48,
   "metadata": {
    "collapsed": true
   },
   "outputs": [],
   "source": [
    "df_store = pd.merge(store, EachDay_store_sales.reset_index(name='SalesPerDay'), how='left', on=['Store'])\n",
    "df_store = pd.merge(df_store, EachDay_store_customers.reset_index(name='CustomersPerDay'), how='left', on=['Store'])\n",
    "df_store = pd.merge(df_store, EachCustomer_cosume.reset_index(name='SalesPerCustomersPerDay'), how='left', on=['Store'])"
   ]
  },
  {
   "cell_type": "code",
   "execution_count": 49,
   "metadata": {
    "collapsed": true
   },
   "outputs": [],
   "source": [
    "store_features = ['Store', 'SalesPerDay', 'CustomersPerDay', 'SalesPerCustomersPerDay']\n",
    "all_data = pd.merge(all_data, df_store[store_features], how='left', on=['Store'])"
   ]
  },
  {
   "cell_type": "code",
   "execution_count": 50,
   "metadata": {
    "collapsed": true
   },
   "outputs": [],
   "source": [
    "all_test = pd.merge(all_test, df_store[store_features], how='left', on=['Store'])"
   ]
  },
  {
   "cell_type": "code",
   "execution_count": 53,
   "metadata": {
    "scrolled": true
   },
   "outputs": [
    {
     "data": {
      "text/plain": [
       "Index(['Store', 'Date', 'Sales', 'Customers', 'Open', 'Promo', 'SchoolHoliday',\n",
       "       'DayOfWeek_1', 'DayOfWeek_2', 'DayOfWeek_3', 'DayOfWeek_4',\n",
       "       'DayOfWeek_5', 'DayOfWeek_6', 'DayOfWeek_7', 'StateHoliday_0',\n",
       "       'StateHoliday_a', 'StateHoliday_b', 'StateHoliday_c', 'Assortment',\n",
       "       'CompetitionDistance', 'CompetitionOpenSinceMonth',\n",
       "       'CompetitionOpenSinceYear', 'Promo2', 'Promo2SinceWeek',\n",
       "       'Promo2SinceYear', 'PromoInterval', 'CompeteOpenDate', 'StoreType_0',\n",
       "       'StoreType_a', 'StoreType_b', 'StoreType_c', 'StoreType_d',\n",
       "       'CompeteOpen', 'Promo2Active', 'week', 'month', 'year', 'day',\n",
       "       'DayofYear', 'Outlier', 'SalesPerDay', 'CustomersPerDay',\n",
       "       'SalesPerCustomersPerDay'],\n",
       "      dtype='object')"
      ]
     },
     "metadata": {},
     "output_type": "display_data"
    },
    {
     "data": {
      "text/plain": [
       "Index(['Id', 'Store', 'Date', 'Open', 'Promo', 'SchoolHoliday', 'DayOfWeek_1',\n",
       "       'DayOfWeek_2', 'DayOfWeek_3', 'DayOfWeek_4', 'DayOfWeek_5',\n",
       "       'DayOfWeek_6', 'DayOfWeek_7', 'StateHoliday_0', 'StateHoliday_a',\n",
       "       'StateHoliday_b', 'StateHoliday_c', 'Assortment', 'CompetitionDistance',\n",
       "       'CompetitionOpenSinceMonth', 'CompetitionOpenSinceYear', 'Promo2',\n",
       "       'Promo2SinceWeek', 'Promo2SinceYear', 'PromoInterval',\n",
       "       'CompeteOpenDate', 'StoreType_0', 'StoreType_a', 'StoreType_b',\n",
       "       'StoreType_c', 'StoreType_d', 'CompeteOpen', 'Promo2Active', 'week',\n",
       "       'month', 'year', 'day', 'DayofYear', 'SalesPerDay', 'CustomersPerDay',\n",
       "       'SalesPerCustomersPerDay'],\n",
       "      dtype='object')"
      ]
     },
     "metadata": {},
     "output_type": "display_data"
    }
   ],
   "source": [
    "display(all_data.columns)\n",
    "display(all_test.columns)"
   ]
  },
  {
   "cell_type": "code",
   "execution_count": 54,
   "metadata": {
    "collapsed": true
   },
   "outputs": [],
   "source": [
    "all_data.to_pickle('all_data_train3.pkl')\n",
    "all_test.to_pickle('all_test_train3.pkl')"
   ]
  },
  {
   "cell_type": "markdown",
   "metadata": {},
   "source": [
    "### LastStep  删除一些不使用的特征\n",
    "\n",
    "有一些特征通过上面利用到了，需要删除。为了划分训练集合测试集，首先要保留Date和Sales\n",
    "\n",
    "- 确定需要删除的列有： Promo2SinceWeek, Promo2SinceYear, PromoInterval, Promo2, CompeteOpenDate, CompetitionOpenSinceYear, CompetitionOpenSinceMonth, Customers(因为test数据集里没有这一特征)"
   ]
  },
  {
   "cell_type": "markdown",
   "metadata": {},
   "source": [
    "**Attention：再次打开时，可以不需要进行上面步骤，直接加载数据，开始运行下面的代码**"
   ]
  },
  {
   "cell_type": "code",
   "execution_count": 36,
   "metadata": {
    "scrolled": true
   },
   "outputs": [
    {
     "data": {
      "text/html": [
       "<div>\n",
       "<style>\n",
       "    .dataframe thead tr:only-child th {\n",
       "        text-align: right;\n",
       "    }\n",
       "\n",
       "    .dataframe thead th {\n",
       "        text-align: left;\n",
       "    }\n",
       "\n",
       "    .dataframe tbody tr th {\n",
       "        vertical-align: top;\n",
       "    }\n",
       "</style>\n",
       "<table border=\"1\" class=\"dataframe\">\n",
       "  <thead>\n",
       "    <tr style=\"text-align: right;\">\n",
       "      <th></th>\n",
       "      <th>Store</th>\n",
       "      <th>Date</th>\n",
       "      <th>Sales</th>\n",
       "      <th>Customers</th>\n",
       "      <th>Open</th>\n",
       "      <th>Promo</th>\n",
       "      <th>SchoolHoliday</th>\n",
       "      <th>DayOfWeek_1</th>\n",
       "      <th>DayOfWeek_2</th>\n",
       "      <th>DayOfWeek_3</th>\n",
       "      <th>...</th>\n",
       "      <th>StoreType_c</th>\n",
       "      <th>StoreType_d</th>\n",
       "      <th>CompeteOpen</th>\n",
       "      <th>Promo2Active</th>\n",
       "      <th>week</th>\n",
       "      <th>month</th>\n",
       "      <th>year</th>\n",
       "      <th>day</th>\n",
       "      <th>DayofYear</th>\n",
       "      <th>Outlier</th>\n",
       "    </tr>\n",
       "  </thead>\n",
       "  <tbody>\n",
       "    <tr>\n",
       "      <th>0</th>\n",
       "      <td>1</td>\n",
       "      <td>2015-07-31</td>\n",
       "      <td>5263</td>\n",
       "      <td>555</td>\n",
       "      <td>1</td>\n",
       "      <td>1</td>\n",
       "      <td>1</td>\n",
       "      <td>0</td>\n",
       "      <td>0</td>\n",
       "      <td>0</td>\n",
       "      <td>...</td>\n",
       "      <td>1.0</td>\n",
       "      <td>0.0</td>\n",
       "      <td>1</td>\n",
       "      <td>0.0</td>\n",
       "      <td>31</td>\n",
       "      <td>7</td>\n",
       "      <td>2015</td>\n",
       "      <td>31</td>\n",
       "      <td>212</td>\n",
       "      <td>False</td>\n",
       "    </tr>\n",
       "    <tr>\n",
       "      <th>1</th>\n",
       "      <td>2</td>\n",
       "      <td>2015-07-31</td>\n",
       "      <td>6064</td>\n",
       "      <td>625</td>\n",
       "      <td>1</td>\n",
       "      <td>1</td>\n",
       "      <td>1</td>\n",
       "      <td>0</td>\n",
       "      <td>0</td>\n",
       "      <td>0</td>\n",
       "      <td>...</td>\n",
       "      <td>0.0</td>\n",
       "      <td>0.0</td>\n",
       "      <td>1</td>\n",
       "      <td>1.0</td>\n",
       "      <td>31</td>\n",
       "      <td>7</td>\n",
       "      <td>2015</td>\n",
       "      <td>31</td>\n",
       "      <td>212</td>\n",
       "      <td>False</td>\n",
       "    </tr>\n",
       "    <tr>\n",
       "      <th>2</th>\n",
       "      <td>3</td>\n",
       "      <td>2015-07-31</td>\n",
       "      <td>8314</td>\n",
       "      <td>821</td>\n",
       "      <td>1</td>\n",
       "      <td>1</td>\n",
       "      <td>1</td>\n",
       "      <td>0</td>\n",
       "      <td>0</td>\n",
       "      <td>0</td>\n",
       "      <td>...</td>\n",
       "      <td>0.0</td>\n",
       "      <td>0.0</td>\n",
       "      <td>1</td>\n",
       "      <td>1.0</td>\n",
       "      <td>31</td>\n",
       "      <td>7</td>\n",
       "      <td>2015</td>\n",
       "      <td>31</td>\n",
       "      <td>212</td>\n",
       "      <td>False</td>\n",
       "    </tr>\n",
       "    <tr>\n",
       "      <th>3</th>\n",
       "      <td>4</td>\n",
       "      <td>2015-07-31</td>\n",
       "      <td>13995</td>\n",
       "      <td>1498</td>\n",
       "      <td>1</td>\n",
       "      <td>1</td>\n",
       "      <td>1</td>\n",
       "      <td>0</td>\n",
       "      <td>0</td>\n",
       "      <td>0</td>\n",
       "      <td>...</td>\n",
       "      <td>1.0</td>\n",
       "      <td>0.0</td>\n",
       "      <td>1</td>\n",
       "      <td>0.0</td>\n",
       "      <td>31</td>\n",
       "      <td>7</td>\n",
       "      <td>2015</td>\n",
       "      <td>31</td>\n",
       "      <td>212</td>\n",
       "      <td>False</td>\n",
       "    </tr>\n",
       "    <tr>\n",
       "      <th>4</th>\n",
       "      <td>5</td>\n",
       "      <td>2015-07-31</td>\n",
       "      <td>4822</td>\n",
       "      <td>559</td>\n",
       "      <td>1</td>\n",
       "      <td>1</td>\n",
       "      <td>1</td>\n",
       "      <td>0</td>\n",
       "      <td>0</td>\n",
       "      <td>0</td>\n",
       "      <td>...</td>\n",
       "      <td>0.0</td>\n",
       "      <td>0.0</td>\n",
       "      <td>1</td>\n",
       "      <td>0.0</td>\n",
       "      <td>31</td>\n",
       "      <td>7</td>\n",
       "      <td>2015</td>\n",
       "      <td>31</td>\n",
       "      <td>212</td>\n",
       "      <td>False</td>\n",
       "    </tr>\n",
       "  </tbody>\n",
       "</table>\n",
       "<p>5 rows × 40 columns</p>\n",
       "</div>"
      ],
      "text/plain": [
       "   Store       Date  Sales  Customers  Open  Promo  SchoolHoliday  \\\n",
       "0      1 2015-07-31   5263        555     1      1              1   \n",
       "1      2 2015-07-31   6064        625     1      1              1   \n",
       "2      3 2015-07-31   8314        821     1      1              1   \n",
       "3      4 2015-07-31  13995       1498     1      1              1   \n",
       "4      5 2015-07-31   4822        559     1      1              1   \n",
       "\n",
       "   DayOfWeek_1  DayOfWeek_2  DayOfWeek_3   ...     StoreType_c  StoreType_d  \\\n",
       "0            0            0            0   ...             1.0          0.0   \n",
       "1            0            0            0   ...             0.0          0.0   \n",
       "2            0            0            0   ...             0.0          0.0   \n",
       "3            0            0            0   ...             1.0          0.0   \n",
       "4            0            0            0   ...             0.0          0.0   \n",
       "\n",
       "   CompeteOpen  Promo2Active  week  month  year  day  DayofYear  Outlier  \n",
       "0            1           0.0    31      7  2015   31        212    False  \n",
       "1            1           1.0    31      7  2015   31        212    False  \n",
       "2            1           1.0    31      7  2015   31        212    False  \n",
       "3            1           0.0    31      7  2015   31        212    False  \n",
       "4            1           0.0    31      7  2015   31        212    False  \n",
       "\n",
       "[5 rows x 40 columns]"
      ]
     },
     "metadata": {},
     "output_type": "display_data"
    },
    {
     "data": {
      "text/html": [
       "<div>\n",
       "<style>\n",
       "    .dataframe thead tr:only-child th {\n",
       "        text-align: right;\n",
       "    }\n",
       "\n",
       "    .dataframe thead th {\n",
       "        text-align: left;\n",
       "    }\n",
       "\n",
       "    .dataframe tbody tr th {\n",
       "        vertical-align: top;\n",
       "    }\n",
       "</style>\n",
       "<table border=\"1\" class=\"dataframe\">\n",
       "  <thead>\n",
       "    <tr style=\"text-align: right;\">\n",
       "      <th></th>\n",
       "      <th>Id</th>\n",
       "      <th>Store</th>\n",
       "      <th>Date</th>\n",
       "      <th>Open</th>\n",
       "      <th>Promo</th>\n",
       "      <th>SchoolHoliday</th>\n",
       "      <th>DayOfWeek_1</th>\n",
       "      <th>DayOfWeek_2</th>\n",
       "      <th>DayOfWeek_3</th>\n",
       "      <th>DayOfWeek_4</th>\n",
       "      <th>...</th>\n",
       "      <th>StoreType_b</th>\n",
       "      <th>StoreType_c</th>\n",
       "      <th>StoreType_d</th>\n",
       "      <th>CompeteOpen</th>\n",
       "      <th>Promo2Active</th>\n",
       "      <th>week</th>\n",
       "      <th>month</th>\n",
       "      <th>year</th>\n",
       "      <th>day</th>\n",
       "      <th>DayofYear</th>\n",
       "    </tr>\n",
       "  </thead>\n",
       "  <tbody>\n",
       "    <tr>\n",
       "      <th>0</th>\n",
       "      <td>1</td>\n",
       "      <td>1</td>\n",
       "      <td>2015-09-17</td>\n",
       "      <td>1.0</td>\n",
       "      <td>1</td>\n",
       "      <td>0</td>\n",
       "      <td>0</td>\n",
       "      <td>0</td>\n",
       "      <td>0</td>\n",
       "      <td>1</td>\n",
       "      <td>...</td>\n",
       "      <td>0.0</td>\n",
       "      <td>1.0</td>\n",
       "      <td>0.0</td>\n",
       "      <td>1</td>\n",
       "      <td>0.0</td>\n",
       "      <td>38</td>\n",
       "      <td>9</td>\n",
       "      <td>2015</td>\n",
       "      <td>17</td>\n",
       "      <td>260</td>\n",
       "    </tr>\n",
       "    <tr>\n",
       "      <th>1</th>\n",
       "      <td>2</td>\n",
       "      <td>3</td>\n",
       "      <td>2015-09-17</td>\n",
       "      <td>1.0</td>\n",
       "      <td>1</td>\n",
       "      <td>0</td>\n",
       "      <td>0</td>\n",
       "      <td>0</td>\n",
       "      <td>0</td>\n",
       "      <td>1</td>\n",
       "      <td>...</td>\n",
       "      <td>0.0</td>\n",
       "      <td>0.0</td>\n",
       "      <td>0.0</td>\n",
       "      <td>1</td>\n",
       "      <td>0.0</td>\n",
       "      <td>38</td>\n",
       "      <td>9</td>\n",
       "      <td>2015</td>\n",
       "      <td>17</td>\n",
       "      <td>260</td>\n",
       "    </tr>\n",
       "    <tr>\n",
       "      <th>2</th>\n",
       "      <td>3</td>\n",
       "      <td>7</td>\n",
       "      <td>2015-09-17</td>\n",
       "      <td>1.0</td>\n",
       "      <td>1</td>\n",
       "      <td>0</td>\n",
       "      <td>0</td>\n",
       "      <td>0</td>\n",
       "      <td>0</td>\n",
       "      <td>1</td>\n",
       "      <td>...</td>\n",
       "      <td>0.0</td>\n",
       "      <td>0.0</td>\n",
       "      <td>0.0</td>\n",
       "      <td>1</td>\n",
       "      <td>0.0</td>\n",
       "      <td>38</td>\n",
       "      <td>9</td>\n",
       "      <td>2015</td>\n",
       "      <td>17</td>\n",
       "      <td>260</td>\n",
       "    </tr>\n",
       "    <tr>\n",
       "      <th>3</th>\n",
       "      <td>4</td>\n",
       "      <td>8</td>\n",
       "      <td>2015-09-17</td>\n",
       "      <td>1.0</td>\n",
       "      <td>1</td>\n",
       "      <td>0</td>\n",
       "      <td>0</td>\n",
       "      <td>0</td>\n",
       "      <td>0</td>\n",
       "      <td>1</td>\n",
       "      <td>...</td>\n",
       "      <td>0.0</td>\n",
       "      <td>0.0</td>\n",
       "      <td>0.0</td>\n",
       "      <td>1</td>\n",
       "      <td>0.0</td>\n",
       "      <td>38</td>\n",
       "      <td>9</td>\n",
       "      <td>2015</td>\n",
       "      <td>17</td>\n",
       "      <td>260</td>\n",
       "    </tr>\n",
       "    <tr>\n",
       "      <th>4</th>\n",
       "      <td>5</td>\n",
       "      <td>9</td>\n",
       "      <td>2015-09-17</td>\n",
       "      <td>1.0</td>\n",
       "      <td>1</td>\n",
       "      <td>0</td>\n",
       "      <td>0</td>\n",
       "      <td>0</td>\n",
       "      <td>0</td>\n",
       "      <td>1</td>\n",
       "      <td>...</td>\n",
       "      <td>0.0</td>\n",
       "      <td>0.0</td>\n",
       "      <td>0.0</td>\n",
       "      <td>1</td>\n",
       "      <td>0.0</td>\n",
       "      <td>38</td>\n",
       "      <td>9</td>\n",
       "      <td>2015</td>\n",
       "      <td>17</td>\n",
       "      <td>260</td>\n",
       "    </tr>\n",
       "  </tbody>\n",
       "</table>\n",
       "<p>5 rows × 38 columns</p>\n",
       "</div>"
      ],
      "text/plain": [
       "   Id  Store       Date  Open  Promo  SchoolHoliday  DayOfWeek_1  DayOfWeek_2  \\\n",
       "0   1      1 2015-09-17   1.0      1              0            0            0   \n",
       "1   2      3 2015-09-17   1.0      1              0            0            0   \n",
       "2   3      7 2015-09-17   1.0      1              0            0            0   \n",
       "3   4      8 2015-09-17   1.0      1              0            0            0   \n",
       "4   5      9 2015-09-17   1.0      1              0            0            0   \n",
       "\n",
       "   DayOfWeek_3  DayOfWeek_4    ...     StoreType_b  StoreType_c  StoreType_d  \\\n",
       "0            0            1    ...             0.0          1.0          0.0   \n",
       "1            0            1    ...             0.0          0.0          0.0   \n",
       "2            0            1    ...             0.0          0.0          0.0   \n",
       "3            0            1    ...             0.0          0.0          0.0   \n",
       "4            0            1    ...             0.0          0.0          0.0   \n",
       "\n",
       "   CompeteOpen  Promo2Active  week  month  year  day DayofYear  \n",
       "0            1           0.0    38      9  2015   17       260  \n",
       "1            1           0.0    38      9  2015   17       260  \n",
       "2            1           0.0    38      9  2015   17       260  \n",
       "3            1           0.0    38      9  2015   17       260  \n",
       "4            1           0.0    38      9  2015   17       260  \n",
       "\n",
       "[5 rows x 38 columns]"
      ]
     },
     "metadata": {},
     "output_type": "display_data"
    }
   ],
   "source": [
    "# 读取pickle文件\n",
    "all_data = pd.read_pickle('all_data_train3.pkl')\n",
    "all_test = pd.read_pickle('all_test_train3.pkl')\n",
    "display(all_data.head())\n",
    "display(all_test.head())"
   ]
  },
  {
   "cell_type": "code",
   "execution_count": 56,
   "metadata": {
    "collapsed": true
   },
   "outputs": [],
   "source": [
    "sub_all_data = all_data.loc[~(all_data['Outlier'] == True)]\n",
    "del_colums = ['Promo2SinceWeek','Promo2SinceYear','PromoInterval','Promo2','CompeteOpenDate',\n",
    "              'CompetitionOpenSinceYear','CompetitionOpenSinceMonth', 'Customers', 'Outlier']\n",
    "sub_all_data = sub_all_data.drop(del_colums, axis=1)\n"
   ]
  },
  {
   "cell_type": "code",
   "execution_count": 57,
   "metadata": {
    "collapsed": true
   },
   "outputs": [],
   "source": [
    "test_del_colums = ['Promo2SinceWeek','Promo2SinceYear','PromoInterval','Promo2','CompeteOpenDate',\n",
    "              'CompetitionOpenSinceYear','CompetitionOpenSinceMonth']\n",
    "sub_all_test = all_test.drop(test_del_colums, axis=1)"
   ]
  },
  {
   "cell_type": "code",
   "execution_count": 58,
   "metadata": {
    "scrolled": true
   },
   "outputs": [
    {
     "data": {
      "text/plain": [
       "Index(['Store', 'Date', 'Sales', 'Open', 'Promo', 'SchoolHoliday',\n",
       "       'DayOfWeek_1', 'DayOfWeek_2', 'DayOfWeek_3', 'DayOfWeek_4',\n",
       "       'DayOfWeek_5', 'DayOfWeek_6', 'DayOfWeek_7', 'StateHoliday_0',\n",
       "       'StateHoliday_a', 'StateHoliday_b', 'StateHoliday_c', 'Assortment',\n",
       "       'CompetitionDistance', 'StoreType_0', 'StoreType_a', 'StoreType_b',\n",
       "       'StoreType_c', 'StoreType_d', 'CompeteOpen', 'Promo2Active', 'week',\n",
       "       'month', 'year', 'day', 'DayofYear', 'SalesPerDay', 'CustomersPerDay',\n",
       "       'SalesPerCustomersPerDay'],\n",
       "      dtype='object')"
      ]
     },
     "metadata": {},
     "output_type": "display_data"
    },
    {
     "data": {
      "text/plain": [
       "Index(['Id', 'Store', 'Date', 'Open', 'Promo', 'SchoolHoliday', 'DayOfWeek_1',\n",
       "       'DayOfWeek_2', 'DayOfWeek_3', 'DayOfWeek_4', 'DayOfWeek_5',\n",
       "       'DayOfWeek_6', 'DayOfWeek_7', 'StateHoliday_0', 'StateHoliday_a',\n",
       "       'StateHoliday_b', 'StateHoliday_c', 'Assortment', 'CompetitionDistance',\n",
       "       'StoreType_0', 'StoreType_a', 'StoreType_b', 'StoreType_c',\n",
       "       'StoreType_d', 'CompeteOpen', 'Promo2Active', 'week', 'month', 'year',\n",
       "       'day', 'DayofYear', 'SalesPerDay', 'CustomersPerDay',\n",
       "       'SalesPerCustomersPerDay'],\n",
       "      dtype='object')"
      ]
     },
     "metadata": {},
     "output_type": "display_data"
    }
   ],
   "source": [
    "display(sub_all_data.columns)\n",
    "display(sub_all_test.columns)"
   ]
  },
  {
   "cell_type": "markdown",
   "metadata": {},
   "source": [
    "## 模型训练和预测\n",
    "\n",
    "### 划分训练集、验证集和测试集\n",
    "\n",
    "根据Date来划分训练集、验证集和测试集：原则是validation data和test data分别保留6周的数据，因此按照时间划分后，从2013-01-01到2015-06-19的数据作为train_data，从2015-06-20到2015-07-31的数据作为validation_data。"
   ]
  },
  {
   "cell_type": "code",
   "execution_count": 59,
   "metadata": {
    "collapsed": true
   },
   "outputs": [],
   "source": [
    "seeds = 44"
   ]
  },
  {
   "cell_type": "code",
   "execution_count": 60,
   "metadata": {
    "collapsed": true
   },
   "outputs": [],
   "source": [
    "# 这里使用位运算，可以得到两个条件的子集\n",
    "train = sub_all_data[sub_all_data.Date < datetime.strptime('2015-06-20', '%Y-%m-%d') ]\n",
    "valid = sub_all_data[sub_all_data.Date >= datetime.strptime('2015-06-20', '%Y-%m-%d')]\n",
    "#valid = sub_all_data.loc[(sub_all_data['Date'] > datetime.strptime('2015-05-08', '%Y-%m-%d')) \n",
    "                         #& (datetime.strptime('2015-06-19', '%Y-%m-%d') >= sub_all_data['Date'])]"
   ]
  },
  {
   "cell_type": "code",
   "execution_count": 70,
   "metadata": {},
   "outputs": [
    {
     "data": {
      "text/plain": [
       "(1037297, 34)"
      ]
     },
     "execution_count": 70,
     "metadata": {},
     "output_type": "execute_result"
    }
   ],
   "source": [
    "sub_all_data.shape"
   ]
  },
  {
   "cell_type": "code",
   "execution_count": 61,
   "metadata": {
    "scrolled": true
   },
   "outputs": [
    {
     "data": {
      "text/plain": [
       "1037297"
      ]
     },
     "execution_count": 61,
     "metadata": {},
     "output_type": "execute_result"
    }
   ],
   "source": [
    "len(valid)+len(train)"
   ]
  },
  {
   "cell_type": "markdown",
   "metadata": {},
   "source": [
    "所有的特征如下："
   ]
  },
  {
   "cell_type": "code",
   "execution_count": 62,
   "metadata": {},
   "outputs": [
    {
     "data": {
      "text/plain": [
       "Index(['Store', 'Date', 'Sales', 'Open', 'Promo', 'SchoolHoliday',\n",
       "       'DayOfWeek_1', 'DayOfWeek_2', 'DayOfWeek_3', 'DayOfWeek_4',\n",
       "       'DayOfWeek_5', 'DayOfWeek_6', 'DayOfWeek_7', 'StateHoliday_0',\n",
       "       'StateHoliday_a', 'StateHoliday_b', 'StateHoliday_c', 'Assortment',\n",
       "       'CompetitionDistance', 'StoreType_0', 'StoreType_a', 'StoreType_b',\n",
       "       'StoreType_c', 'StoreType_d', 'CompeteOpen', 'Promo2Active', 'week',\n",
       "       'month', 'year', 'day', 'DayofYear', 'SalesPerDay', 'CustomersPerDay',\n",
       "       'SalesPerCustomersPerDay'],\n",
       "      dtype='object')"
      ]
     },
     "execution_count": 62,
     "metadata": {},
     "output_type": "execute_result"
    }
   ],
   "source": [
    "train.columns"
   ]
  },
  {
   "cell_type": "markdown",
   "metadata": {
    "collapsed": true
   },
   "source": [
    "### XGboost模型训练\n",
    "\n",
    "#### 训练1（train1）\n",
    "训练XGboost模型"
   ]
  },
  {
   "cell_type": "code",
   "execution_count": 46,
   "metadata": {
    "collapsed": true
   },
   "outputs": [],
   "source": [
    "# 准备数据，对Y进行log处理\n",
    "X_train = train.drop(['Date', 'Sales'], axis=1)\n",
    "Y_train = np.log(train['Sales'] + 1)\n",
    "\n",
    "X_valid = valid.drop(['Date', 'Sales'], axis=1)\n",
    "Y_valid = np.log(valid['Sales'] + 1)\n",
    "\n",
    "#X_test = test.drop(['Date', 'Sales'], axis=1)\n",
    "#Y_test = np.log(test['Sales'] + 1)\n",
    "#xg_test = xgb.DMatrix(X_test, label = Y_test)\n",
    "\n",
    "xg_train = xgb.DMatrix(X_train, label=Y_train)\n",
    "xg_valid = xgb.DMatrix(X_valid, label=Y_valid)\n",
    "watchlist = [(xg_train, 'train'), (xg_valid, 'valid')]"
   ]
  },
  {
   "cell_type": "code",
   "execution_count": 48,
   "metadata": {
    "collapsed": true
   },
   "outputs": [],
   "source": [
    "# eta太小时，收敛的太慢了\n",
    "param = {'max_depth':12, 'eta':0.01, 'subsample':0.9, 'colsample_bytree':0.7, 'silent':1, \n",
    "         'objective':'reg:linear' , 'booster': \"gbtree\", 'nthread':6, 'seed':seeds}\n",
    "num_round = 10000"
   ]
  },
  {
   "cell_type": "code",
   "execution_count": 49,
   "metadata": {
    "scrolled": true
   },
   "outputs": [
    {
     "name": "stdout",
     "output_type": "stream",
     "text": [
      "[0]\ttrain-rmse:7.31194\tvalid-rmse:7.59298\ttrain-rmspe:0.893635\tvalid-rmspe:0.926447\n",
      "Multiple eval metrics have been passed: 'valid-rmspe' will be used for early stopping.\n",
      "\n",
      "Will train until valid-rmspe hasn't improved in 100 rounds.\n",
      "[100]\ttrain-rmse:2.71563\tvalid-rmse:2.84794\ttrain-rmspe:0.847406\tvalid-rmspe:0.880285\n",
      "[200]\ttrain-rmse:1.04232\tvalid-rmse:1.13157\ttrain-rmspe:0.596633\tvalid-rmspe:0.633222\n",
      "[300]\ttrain-rmse:0.451078\tvalid-rmse:0.517618\ttrain-rmspe:0.342501\tvalid-rmspe:0.370427\n",
      "[400]\ttrain-rmse:0.269294\tvalid-rmse:0.320158\ttrain-rmspe:0.259486\tvalid-rmspe:0.26381\n",
      "[500]\ttrain-rmse:0.215903\tvalid-rmse:0.256766\ttrain-rmspe:0.24658\tvalid-rmspe:0.235308\n",
      "[600]\ttrain-rmse:0.196251\tvalid-rmse:0.232175\ttrain-rmspe:0.241594\tvalid-rmspe:0.223608\n",
      "[700]\ttrain-rmse:0.186035\tvalid-rmse:0.220249\ttrain-rmspe:0.236948\tvalid-rmspe:0.216537\n",
      "[800]\ttrain-rmse:0.175084\tvalid-rmse:0.20962\ttrain-rmspe:0.228447\tvalid-rmspe:0.207319\n",
      "[900]\ttrain-rmse:0.165798\tvalid-rmse:0.201053\ttrain-rmspe:0.22044\tvalid-rmspe:0.198857\n",
      "[1000]\ttrain-rmse:0.156827\tvalid-rmse:0.192803\ttrain-rmspe:0.210512\tvalid-rmspe:0.190148\n",
      "[1100]\ttrain-rmse:0.148562\tvalid-rmse:0.185559\ttrain-rmspe:0.201744\tvalid-rmspe:0.182488\n",
      "[1200]\ttrain-rmse:0.140943\tvalid-rmse:0.178926\ttrain-rmspe:0.192034\tvalid-rmspe:0.175592\n",
      "[1300]\ttrain-rmse:0.133304\tvalid-rmse:0.17262\ttrain-rmspe:0.17272\tvalid-rmspe:0.168936\n",
      "[1400]\ttrain-rmse:0.127325\tvalid-rmse:0.167488\ttrain-rmspe:0.159111\tvalid-rmspe:0.16353\n",
      "[1500]\ttrain-rmse:0.12262\tvalid-rmse:0.163473\ttrain-rmspe:0.150351\tvalid-rmspe:0.159449\n",
      "[1600]\ttrain-rmse:0.117953\tvalid-rmse:0.159708\ttrain-rmspe:0.142115\tvalid-rmspe:0.155426\n",
      "[1700]\ttrain-rmse:0.113481\tvalid-rmse:0.156221\ttrain-rmspe:0.134812\tvalid-rmspe:0.151723\n",
      "[1800]\ttrain-rmse:0.109912\tvalid-rmse:0.153419\ttrain-rmspe:0.129052\tvalid-rmspe:0.148789\n",
      "[1900]\ttrain-rmse:0.1065\tvalid-rmse:0.150792\ttrain-rmspe:0.124148\tvalid-rmspe:0.145943\n",
      "[2000]\ttrain-rmse:0.103359\tvalid-rmse:0.148445\ttrain-rmspe:0.118903\tvalid-rmspe:0.143414\n",
      "[2100]\ttrain-rmse:0.100684\tvalid-rmse:0.146522\ttrain-rmspe:0.115085\tvalid-rmspe:0.141322\n",
      "[2200]\ttrain-rmse:0.098273\tvalid-rmse:0.144751\ttrain-rmspe:0.111712\tvalid-rmspe:0.139497\n",
      "[2300]\ttrain-rmse:0.09611\tvalid-rmse:0.143204\ttrain-rmspe:0.108919\tvalid-rmspe:0.137791\n",
      "[2400]\ttrain-rmse:0.093798\tvalid-rmse:0.141626\ttrain-rmspe:0.105791\tvalid-rmspe:0.136086\n",
      "[2500]\ttrain-rmse:0.091965\tvalid-rmse:0.140391\ttrain-rmspe:0.103274\tvalid-rmspe:0.134793\n",
      "[2600]\ttrain-rmse:0.090258\tvalid-rmse:0.139312\ttrain-rmspe:0.101225\tvalid-rmspe:0.133645\n",
      "[2700]\ttrain-rmse:0.088386\tvalid-rmse:0.13805\ttrain-rmspe:0.098385\tvalid-rmspe:0.132333\n",
      "[2800]\ttrain-rmse:0.086722\tvalid-rmse:0.136957\ttrain-rmspe:0.096118\tvalid-rmspe:0.131192\n",
      "[2900]\ttrain-rmse:0.085213\tvalid-rmse:0.136012\ttrain-rmspe:0.094088\tvalid-rmspe:0.130194\n",
      "[3000]\ttrain-rmse:0.084014\tvalid-rmse:0.135172\ttrain-rmspe:0.09262\tvalid-rmspe:0.129327\n",
      "[3100]\ttrain-rmse:0.082749\tvalid-rmse:0.134433\ttrain-rmspe:0.090932\tvalid-rmspe:0.128523\n",
      "[3200]\ttrain-rmse:0.081608\tvalid-rmse:0.133772\ttrain-rmspe:0.089343\tvalid-rmspe:0.127841\n",
      "[3300]\ttrain-rmse:0.080614\tvalid-rmse:0.133195\ttrain-rmspe:0.088041\tvalid-rmspe:0.127285\n",
      "[3400]\ttrain-rmse:0.079442\tvalid-rmse:0.132531\ttrain-rmspe:0.086623\tvalid-rmspe:0.126575\n",
      "[3500]\ttrain-rmse:0.078431\tvalid-rmse:0.131988\ttrain-rmspe:0.085349\tvalid-rmspe:0.126004\n",
      "[3600]\ttrain-rmse:0.077525\tvalid-rmse:0.131525\ttrain-rmspe:0.084288\tvalid-rmspe:0.125524\n",
      "[3700]\ttrain-rmse:0.076581\tvalid-rmse:0.131026\ttrain-rmspe:0.08321\tvalid-rmspe:0.125034\n",
      "[3800]\ttrain-rmse:0.075691\tvalid-rmse:0.130573\ttrain-rmspe:0.082058\tvalid-rmspe:0.124583\n",
      "[3900]\ttrain-rmse:0.07486\tvalid-rmse:0.13018\ttrain-rmspe:0.081065\tvalid-rmspe:0.124162\n",
      "[4000]\ttrain-rmse:0.074138\tvalid-rmse:0.129826\ttrain-rmspe:0.080164\tvalid-rmspe:0.123803\n",
      "[4100]\ttrain-rmse:0.073346\tvalid-rmse:0.129451\ttrain-rmspe:0.079193\tvalid-rmspe:0.123427\n",
      "[4200]\ttrain-rmse:0.072545\tvalid-rmse:0.129061\ttrain-rmspe:0.078142\tvalid-rmspe:0.123048\n",
      "[4300]\ttrain-rmse:0.071837\tvalid-rmse:0.12876\ttrain-rmspe:0.077318\tvalid-rmspe:0.122742\n",
      "[4400]\ttrain-rmse:0.07117\tvalid-rmse:0.128494\ttrain-rmspe:0.076464\tvalid-rmspe:0.122477\n",
      "[4500]\ttrain-rmse:0.070595\tvalid-rmse:0.128257\ttrain-rmspe:0.075775\tvalid-rmspe:0.122231\n",
      "[4600]\ttrain-rmse:0.069894\tvalid-rmse:0.127977\ttrain-rmspe:0.074947\tvalid-rmspe:0.121948\n",
      "[4700]\ttrain-rmse:0.069345\tvalid-rmse:0.127773\ttrain-rmspe:0.074272\tvalid-rmspe:0.121746\n",
      "[4800]\ttrain-rmse:0.068753\tvalid-rmse:0.127527\ttrain-rmspe:0.073493\tvalid-rmspe:0.121496\n",
      "[4900]\ttrain-rmse:0.068206\tvalid-rmse:0.127305\ttrain-rmspe:0.072827\tvalid-rmspe:0.121275\n",
      "[5000]\ttrain-rmse:0.06764\tvalid-rmse:0.127095\ttrain-rmspe:0.072107\tvalid-rmspe:0.121064\n",
      "[5100]\ttrain-rmse:0.067077\tvalid-rmse:0.126888\ttrain-rmspe:0.071436\tvalid-rmspe:0.120863\n",
      "[5200]\ttrain-rmse:0.066565\tvalid-rmse:0.126693\ttrain-rmspe:0.070819\tvalid-rmspe:0.120675\n",
      "[5300]\ttrain-rmse:0.06603\tvalid-rmse:0.126493\ttrain-rmspe:0.070207\tvalid-rmspe:0.120471\n",
      "[5400]\ttrain-rmse:0.065564\tvalid-rmse:0.126352\ttrain-rmspe:0.069622\tvalid-rmspe:0.120332\n",
      "[5500]\ttrain-rmse:0.065128\tvalid-rmse:0.126228\ttrain-rmspe:0.069065\tvalid-rmspe:0.120208\n",
      "[5600]\ttrain-rmse:0.064659\tvalid-rmse:0.126077\ttrain-rmspe:0.068447\tvalid-rmspe:0.120073\n",
      "[5700]\ttrain-rmse:0.064229\tvalid-rmse:0.125939\ttrain-rmspe:0.06788\tvalid-rmspe:0.119942\n",
      "[5800]\ttrain-rmse:0.063791\tvalid-rmse:0.125815\ttrain-rmspe:0.067355\tvalid-rmspe:0.119819\n",
      "[5900]\ttrain-rmse:0.063391\tvalid-rmse:0.125702\ttrain-rmspe:0.066872\tvalid-rmspe:0.119704\n",
      "[6000]\ttrain-rmse:0.062984\tvalid-rmse:0.125596\ttrain-rmspe:0.066386\tvalid-rmspe:0.119591\n",
      "[6100]\ttrain-rmse:0.062552\tvalid-rmse:0.125486\ttrain-rmspe:0.065849\tvalid-rmspe:0.119482\n",
      "[6200]\ttrain-rmse:0.062138\tvalid-rmse:0.125387\ttrain-rmspe:0.065329\tvalid-rmspe:0.11938\n",
      "[6300]\ttrain-rmse:0.061743\tvalid-rmse:0.125266\ttrain-rmspe:0.064816\tvalid-rmspe:0.119273\n",
      "[6400]\ttrain-rmse:0.06135\tvalid-rmse:0.125161\ttrain-rmspe:0.064364\tvalid-rmspe:0.119173\n",
      "[6500]\ttrain-rmse:0.06098\tvalid-rmse:0.125072\ttrain-rmspe:0.063924\tvalid-rmspe:0.11908\n",
      "[6600]\ttrain-rmse:0.060617\tvalid-rmse:0.124991\ttrain-rmspe:0.06349\tvalid-rmspe:0.118994\n",
      "[6700]\ttrain-rmse:0.060243\tvalid-rmse:0.124918\ttrain-rmspe:0.063027\tvalid-rmspe:0.118918\n",
      "[6800]\ttrain-rmse:0.059886\tvalid-rmse:0.124853\ttrain-rmspe:0.062601\tvalid-rmspe:0.118856\n",
      "[6900]\ttrain-rmse:0.059535\tvalid-rmse:0.124808\ttrain-rmspe:0.062175\tvalid-rmspe:0.118806\n",
      "[7000]\ttrain-rmse:0.05921\tvalid-rmse:0.124749\ttrain-rmspe:0.0618\tvalid-rmspe:0.118746\n",
      "[7100]\ttrain-rmse:0.058859\tvalid-rmse:0.124693\ttrain-rmspe:0.061379\tvalid-rmspe:0.118685\n",
      "[7200]\ttrain-rmse:0.058536\tvalid-rmse:0.12464\ttrain-rmspe:0.060984\tvalid-rmspe:0.118638\n",
      "[7300]\ttrain-rmse:0.058213\tvalid-rmse:0.124586\ttrain-rmspe:0.060595\tvalid-rmspe:0.118585\n",
      "[7400]\ttrain-rmse:0.057899\tvalid-rmse:0.124551\ttrain-rmspe:0.06022\tvalid-rmspe:0.118549\n",
      "[7500]\ttrain-rmse:0.057552\tvalid-rmse:0.124481\ttrain-rmspe:0.059802\tvalid-rmspe:0.118482\n",
      "[7600]\ttrain-rmse:0.05724\tvalid-rmse:0.124436\ttrain-rmspe:0.059435\tvalid-rmspe:0.11844\n",
      "[7700]\ttrain-rmse:0.056938\tvalid-rmse:0.124382\ttrain-rmspe:0.059072\tvalid-rmspe:0.118387\n",
      "[7800]\ttrain-rmse:0.056629\tvalid-rmse:0.124334\ttrain-rmspe:0.0587\tvalid-rmspe:0.11834\n",
      "[7900]\ttrain-rmse:0.056332\tvalid-rmse:0.124283\ttrain-rmspe:0.058344\tvalid-rmspe:0.118292\n",
      "[8000]\ttrain-rmse:0.056003\tvalid-rmse:0.124241\ttrain-rmspe:0.057957\tvalid-rmspe:0.118253\n",
      "[8100]\ttrain-rmse:0.055721\tvalid-rmse:0.124181\ttrain-rmspe:0.057624\tvalid-rmspe:0.118199\n",
      "[8200]\ttrain-rmse:0.055419\tvalid-rmse:0.124137\ttrain-rmspe:0.057274\tvalid-rmspe:0.118159\n",
      "[8300]\ttrain-rmse:0.055124\tvalid-rmse:0.124091\ttrain-rmspe:0.056917\tvalid-rmspe:0.118116\n",
      "[8400]\ttrain-rmse:0.054838\tvalid-rmse:0.124042\ttrain-rmspe:0.056584\tvalid-rmspe:0.118065\n",
      "[8500]\ttrain-rmse:0.054563\tvalid-rmse:0.124021\ttrain-rmspe:0.056267\tvalid-rmspe:0.118037\n",
      "[8600]\ttrain-rmse:0.054277\tvalid-rmse:0.123974\ttrain-rmspe:0.055933\tvalid-rmspe:0.117996\n",
      "[8700]\ttrain-rmse:0.054016\tvalid-rmse:0.123941\ttrain-rmspe:0.055631\tvalid-rmspe:0.117961\n",
      "[8800]\ttrain-rmse:0.053739\tvalid-rmse:0.123918\ttrain-rmspe:0.055315\tvalid-rmspe:0.11794\n",
      "[8900]\ttrain-rmse:0.053458\tvalid-rmse:0.123893\ttrain-rmspe:0.054982\tvalid-rmspe:0.117912\n",
      "[9000]\ttrain-rmse:0.053193\tvalid-rmse:0.123859\ttrain-rmspe:0.054679\tvalid-rmspe:0.117884\n",
      "[9100]\ttrain-rmse:0.052937\tvalid-rmse:0.123848\ttrain-rmspe:0.054391\tvalid-rmspe:0.117876\n"
     ]
    },
    {
     "name": "stdout",
     "output_type": "stream",
     "text": [
      "[9200]\ttrain-rmse:0.052677\tvalid-rmse:0.123812\ttrain-rmspe:0.054096\tvalid-rmspe:0.117843\n",
      "[9300]\ttrain-rmse:0.052424\tvalid-rmse:0.123786\ttrain-rmspe:0.053803\tvalid-rmspe:0.11782\n",
      "[9400]\ttrain-rmse:0.052157\tvalid-rmse:0.123775\ttrain-rmspe:0.053503\tvalid-rmspe:0.117808\n",
      "[9500]\ttrain-rmse:0.05191\tvalid-rmse:0.123755\ttrain-rmspe:0.053223\tvalid-rmspe:0.117788\n",
      "[9600]\ttrain-rmse:0.051653\tvalid-rmse:0.123734\ttrain-rmspe:0.052938\tvalid-rmspe:0.117771\n",
      "[9700]\ttrain-rmse:0.051422\tvalid-rmse:0.123713\ttrain-rmspe:0.052682\tvalid-rmspe:0.117755\n",
      "[9800]\ttrain-rmse:0.05118\tvalid-rmse:0.123689\ttrain-rmspe:0.052415\tvalid-rmspe:0.117732\n",
      "[9900]\ttrain-rmse:0.050948\tvalid-rmse:0.123675\ttrain-rmspe:0.052154\tvalid-rmspe:0.117717\n",
      "[9999]\ttrain-rmse:0.050722\tvalid-rmse:0.123672\ttrain-rmspe:0.051904\tvalid-rmspe:0.117707\n"
     ]
    }
   ],
   "source": [
    "bst = xgb.train(params=param, dtrain=xg_train, num_boost_round=num_round, evals=watchlist, verbose_eval = 100,\n",
    "                 early_stopping_rounds = 100, maximize = False, feval=rmspe_xg)\n"
   ]
  },
  {
   "cell_type": "markdown",
   "metadata": {},
   "source": [
    "从上面的计算结果可以看出来，模型在这些特征下已经产生了很好的样本内估计效果，样本外不出意外的话会造成过拟合的现象。\n",
    "\n",
    "**保存训练模型，为了之后做预测时使用**"
   ]
  },
  {
   "cell_type": "code",
   "execution_count": 50,
   "metadata": {
    "collapsed": true
   },
   "outputs": [],
   "source": [
    "bst.save_model(\"xgb_train1.model\")"
   ]
  },
  {
   "cell_type": "markdown",
   "metadata": {},
   "source": [
    "#### 训练2（train2）\n",
    "\n",
    "与train1不同在于，增加了3个特征：'SalesPerDay', 'CustomersPerDay', 'SalesPerCustomersPerDay'。训练XGboost模型"
   ]
  },
  {
   "cell_type": "code",
   "execution_count": 91,
   "metadata": {
    "collapsed": true
   },
   "outputs": [],
   "source": [
    "# 准备数据，对Y进行log处理\n",
    "X_train = train.drop(['Date', 'Sales'], axis=1)\n",
    "Y_train = np.log(train['Sales'] + 1)\n",
    "\n",
    "X_valid = valid.drop(['Date', 'Sales'], axis=1)\n",
    "Y_valid = np.log(valid['Sales'] + 1)\n",
    "\n",
    "#X_test = test.drop(['Date', 'Sales'], axis=1)\n",
    "#Y_test = np.log(test['Sales'] + 1)\n",
    "#xg_test = xgb.DMatrix(X_test, label = Y_test)\n",
    "\n",
    "xg_train = xgb.DMatrix(X_train, label=Y_train)\n",
    "xg_valid = xgb.DMatrix(X_valid, label=Y_valid)\n",
    "watchlist = [(xg_train, 'train'), (xg_valid, 'valid')]"
   ]
  },
  {
   "cell_type": "code",
   "execution_count": 92,
   "metadata": {
    "collapsed": true
   },
   "outputs": [],
   "source": [
    "# eta太小时，收敛的太慢了\n",
    "param = {'max_depth':10, 'eta':0.03, 'subsample':0.8, 'colsample_bytree':0.7, 'silent':1, \n",
    "         'objective':'reg:linear' , 'booster': \"gbtree\", 'nthread':6, 'seed':seeds}\n",
    "num_round = 10000"
   ]
  },
  {
   "cell_type": "code",
   "execution_count": 93,
   "metadata": {
    "scrolled": true
   },
   "outputs": [
    {
     "name": "stdout",
     "output_type": "stream",
     "text": [
      "[0]\ttrain-rmse:7.16751\tvalid-rmse:7.45278\ttrain-rmspe:0.893588\tvalid-rmspe:0.926403\n",
      "Multiple eval metrics have been passed: 'valid-rmspe' will be used for early stopping.\n",
      "\n",
      "Will train until valid-rmspe hasn't improved in 100 rounds.\n",
      "[10]\ttrain-rmse:5.31918\tvalid-rmse:5.5726\ttrain-rmspe:0.891404\tvalid-rmspe:0.924308\n",
      "[20]\ttrain-rmse:3.93995\tvalid-rmse:4.17676\ttrain-rmspe:0.88233\tvalid-rmspe:0.915845\n",
      "[30]\ttrain-rmse:2.91436\tvalid-rmse:3.11434\ttrain-rmspe:0.85777\tvalid-rmspe:0.892637\n",
      "[40]\ttrain-rmse:2.16344\tvalid-rmse:2.34192\ttrain-rmspe:0.810777\tvalid-rmspe:0.848293\n",
      "[50]\ttrain-rmse:1.60243\tvalid-rmse:1.76014\ttrain-rmspe:0.73934\tvalid-rmspe:0.780107\n",
      "[60]\ttrain-rmse:1.18942\tvalid-rmse:1.33177\ttrain-rmspe:0.650104\tvalid-rmspe:0.694534\n",
      "[70]\ttrain-rmse:0.892986\tvalid-rmse:1.02479\ttrain-rmspe:0.555551\tvalid-rmspe:0.60319\n",
      "[80]\ttrain-rmse:0.673637\tvalid-rmse:0.799817\ttrain-rmspe:0.463889\tvalid-rmspe:0.514326\n",
      "[90]\ttrain-rmse:0.512797\tvalid-rmse:0.630802\ttrain-rmspe:0.383287\tvalid-rmspe:0.433444\n",
      "[100]\ttrain-rmse:0.393826\tvalid-rmse:0.506869\ttrain-rmspe:0.317321\tvalid-rmspe:0.365444\n",
      "[110]\ttrain-rmse:0.310885\tvalid-rmse:0.418617\ttrain-rmspe:0.268805\tvalid-rmspe:0.31226\n",
      "[120]\ttrain-rmse:0.253928\tvalid-rmse:0.358205\ttrain-rmspe:0.236237\tvalid-rmspe:0.273898\n",
      "[130]\ttrain-rmse:0.214573\tvalid-rmse:0.314126\ttrain-rmspe:0.21606\tvalid-rmspe:0.246127\n",
      "[140]\ttrain-rmse:0.187751\tvalid-rmse:0.284451\ttrain-rmspe:0.204437\tvalid-rmspe:0.22754\n",
      "[150]\ttrain-rmse:0.170128\tvalid-rmse:0.263058\ttrain-rmspe:0.198936\tvalid-rmspe:0.215021\n",
      "[160]\ttrain-rmse:0.159244\tvalid-rmse:0.24911\ttrain-rmspe:0.195143\tvalid-rmspe:0.207159\n",
      "[170]\ttrain-rmse:0.151694\tvalid-rmse:0.237311\ttrain-rmspe:0.193686\tvalid-rmspe:0.200793\n",
      "[180]\ttrain-rmse:0.146726\tvalid-rmse:0.229526\ttrain-rmspe:0.193038\tvalid-rmspe:0.196946\n",
      "[190]\ttrain-rmse:0.143183\tvalid-rmse:0.223414\ttrain-rmspe:0.192571\tvalid-rmspe:0.193997\n",
      "[200]\ttrain-rmse:0.140467\tvalid-rmse:0.217539\ttrain-rmspe:0.19221\tvalid-rmspe:0.19113\n",
      "[210]\ttrain-rmse:0.138617\tvalid-rmse:0.212692\ttrain-rmspe:0.191908\tvalid-rmspe:0.188741\n",
      "[220]\ttrain-rmse:0.136415\tvalid-rmse:0.209554\ttrain-rmspe:0.190937\tvalid-rmspe:0.186856\n",
      "[230]\ttrain-rmse:0.134911\tvalid-rmse:0.206562\ttrain-rmspe:0.190267\tvalid-rmspe:0.185045\n",
      "[240]\ttrain-rmse:0.13331\tvalid-rmse:0.203788\ttrain-rmspe:0.189298\tvalid-rmspe:0.183566\n",
      "[250]\ttrain-rmse:0.131963\tvalid-rmse:0.200919\ttrain-rmspe:0.188143\tvalid-rmspe:0.181653\n",
      "[260]\ttrain-rmse:0.130632\tvalid-rmse:0.198403\ttrain-rmspe:0.187222\tvalid-rmspe:0.180112\n",
      "[270]\ttrain-rmse:0.129557\tvalid-rmse:0.196051\ttrain-rmspe:0.186392\tvalid-rmspe:0.178687\n",
      "[280]\ttrain-rmse:0.128192\tvalid-rmse:0.193325\ttrain-rmspe:0.184229\tvalid-rmspe:0.17674\n",
      "[290]\ttrain-rmse:0.127343\tvalid-rmse:0.191949\ttrain-rmspe:0.183694\tvalid-rmspe:0.175758\n",
      "[300]\ttrain-rmse:0.126464\tvalid-rmse:0.190299\ttrain-rmspe:0.183044\tvalid-rmspe:0.174659\n",
      "[310]\ttrain-rmse:0.125504\tvalid-rmse:0.188874\ttrain-rmspe:0.182139\tvalid-rmspe:0.173601\n",
      "[320]\ttrain-rmse:0.124296\tvalid-rmse:0.18716\ttrain-rmspe:0.180957\tvalid-rmspe:0.17213\n",
      "[330]\ttrain-rmse:0.123356\tvalid-rmse:0.185692\ttrain-rmspe:0.179694\tvalid-rmspe:0.170966\n",
      "[340]\ttrain-rmse:0.12252\tvalid-rmse:0.184407\ttrain-rmspe:0.178139\tvalid-rmspe:0.16991\n",
      "[350]\ttrain-rmse:0.121717\tvalid-rmse:0.1826\ttrain-rmspe:0.175403\tvalid-rmspe:0.168578\n",
      "[360]\ttrain-rmse:0.120542\tvalid-rmse:0.181202\ttrain-rmspe:0.17383\tvalid-rmspe:0.167198\n",
      "[370]\ttrain-rmse:0.119662\tvalid-rmse:0.180199\ttrain-rmspe:0.172944\tvalid-rmspe:0.166197\n",
      "[380]\ttrain-rmse:0.118787\tvalid-rmse:0.179016\ttrain-rmspe:0.172039\tvalid-rmspe:0.165168\n",
      "[390]\ttrain-rmse:0.118153\tvalid-rmse:0.178044\ttrain-rmspe:0.171462\tvalid-rmspe:0.164402\n",
      "[400]\ttrain-rmse:0.117033\tvalid-rmse:0.177044\ttrain-rmspe:0.170098\tvalid-rmspe:0.163358\n",
      "[410]\ttrain-rmse:0.116353\tvalid-rmse:0.175937\ttrain-rmspe:0.164666\tvalid-rmspe:0.162496\n",
      "[420]\ttrain-rmse:0.115616\tvalid-rmse:0.175158\ttrain-rmspe:0.163723\tvalid-rmspe:0.161763\n",
      "[430]\ttrain-rmse:0.114606\tvalid-rmse:0.173858\ttrain-rmspe:0.162687\tvalid-rmspe:0.160626\n",
      "[440]\ttrain-rmse:0.11393\tvalid-rmse:0.172907\ttrain-rmspe:0.162095\tvalid-rmspe:0.159803\n",
      "[450]\ttrain-rmse:0.113197\tvalid-rmse:0.171854\ttrain-rmspe:0.161413\tvalid-rmspe:0.158834\n",
      "[460]\ttrain-rmse:0.112547\tvalid-rmse:0.171101\ttrain-rmspe:0.16057\tvalid-rmspe:0.158175\n",
      "[470]\ttrain-rmse:0.111759\tvalid-rmse:0.170138\ttrain-rmspe:0.159798\tvalid-rmspe:0.157295\n",
      "[480]\ttrain-rmse:0.110939\tvalid-rmse:0.169154\ttrain-rmspe:0.158827\tvalid-rmspe:0.156385\n",
      "[490]\ttrain-rmse:0.110406\tvalid-rmse:0.16866\ttrain-rmspe:0.158319\tvalid-rmspe:0.155928\n",
      "[500]\ttrain-rmse:0.109894\tvalid-rmse:0.168001\ttrain-rmspe:0.157874\tvalid-rmspe:0.155345\n",
      "[510]\ttrain-rmse:0.109144\tvalid-rmse:0.167253\ttrain-rmspe:0.157048\tvalid-rmspe:0.154685\n",
      "[520]\ttrain-rmse:0.10876\tvalid-rmse:0.166794\ttrain-rmspe:0.156737\tvalid-rmspe:0.154308\n",
      "[530]\ttrain-rmse:0.108168\tvalid-rmse:0.166122\ttrain-rmspe:0.155877\tvalid-rmspe:0.153749\n",
      "[540]\ttrain-rmse:0.107519\tvalid-rmse:0.165198\ttrain-rmspe:0.155104\tvalid-rmspe:0.152977\n",
      "[550]\ttrain-rmse:0.10703\tvalid-rmse:0.164848\ttrain-rmspe:0.154617\tvalid-rmspe:0.152544\n",
      "[560]\ttrain-rmse:0.106405\tvalid-rmse:0.164132\ttrain-rmspe:0.153652\tvalid-rmspe:0.151948\n",
      "[570]\ttrain-rmse:0.105891\tvalid-rmse:0.16378\ttrain-rmspe:0.152926\tvalid-rmspe:0.151639\n",
      "[580]\ttrain-rmse:0.105399\tvalid-rmse:0.163298\ttrain-rmspe:0.152433\tvalid-rmspe:0.151213\n",
      "[590]\ttrain-rmse:0.104913\tvalid-rmse:0.162688\ttrain-rmspe:0.152082\tvalid-rmspe:0.150631\n",
      "[600]\ttrain-rmse:0.104335\tvalid-rmse:0.162077\ttrain-rmspe:0.151544\tvalid-rmspe:0.150089\n",
      "[610]\ttrain-rmse:0.103797\tvalid-rmse:0.161725\ttrain-rmspe:0.150592\tvalid-rmspe:0.149681\n",
      "[620]\ttrain-rmse:0.103334\tvalid-rmse:0.161379\ttrain-rmspe:0.142298\tvalid-rmspe:0.149335\n",
      "[630]\ttrain-rmse:0.10293\tvalid-rmse:0.160898\ttrain-rmspe:0.141993\tvalid-rmspe:0.148873\n",
      "[640]\ttrain-rmse:0.102248\tvalid-rmse:0.160151\ttrain-rmspe:0.141398\tvalid-rmspe:0.148141\n",
      "[650]\ttrain-rmse:0.101756\tvalid-rmse:0.159626\ttrain-rmspe:0.140624\tvalid-rmspe:0.147656\n",
      "[660]\ttrain-rmse:0.101277\tvalid-rmse:0.159189\ttrain-rmspe:0.14017\tvalid-rmspe:0.147255\n",
      "[670]\ttrain-rmse:0.100847\tvalid-rmse:0.158729\ttrain-rmspe:0.13962\tvalid-rmspe:0.146824\n",
      "[680]\ttrain-rmse:0.100498\tvalid-rmse:0.158356\ttrain-rmspe:0.139227\tvalid-rmspe:0.146484\n",
      "[690]\ttrain-rmse:0.100047\tvalid-rmse:0.158106\ttrain-rmspe:0.138718\tvalid-rmspe:0.146176\n",
      "[700]\ttrain-rmse:0.099665\tvalid-rmse:0.157683\ttrain-rmspe:0.138308\tvalid-rmspe:0.145776\n",
      "[710]\ttrain-rmse:0.099095\tvalid-rmse:0.15714\ttrain-rmspe:0.137624\tvalid-rmspe:0.145261\n",
      "[720]\ttrain-rmse:0.098515\tvalid-rmse:0.15657\ttrain-rmspe:0.136516\tvalid-rmspe:0.144718\n",
      "[730]\ttrain-rmse:0.098091\tvalid-rmse:0.156182\ttrain-rmspe:0.13592\tvalid-rmspe:0.144361\n",
      "[740]\ttrain-rmse:0.097785\tvalid-rmse:0.155944\ttrain-rmspe:0.135527\tvalid-rmspe:0.144123\n",
      "[750]\ttrain-rmse:0.097388\tvalid-rmse:0.15562\ttrain-rmspe:0.133561\tvalid-rmspe:0.14379\n",
      "[760]\ttrain-rmse:0.097103\tvalid-rmse:0.155432\ttrain-rmspe:0.133172\tvalid-rmspe:0.14361\n",
      "[770]\ttrain-rmse:0.096653\tvalid-rmse:0.155049\ttrain-rmspe:0.132731\tvalid-rmspe:0.143256\n",
      "[780]\ttrain-rmse:0.09628\tvalid-rmse:0.154773\ttrain-rmspe:0.132374\tvalid-rmspe:0.142935\n",
      "[790]\ttrain-rmse:0.09592\tvalid-rmse:0.15449\ttrain-rmspe:0.131971\tvalid-rmspe:0.142628\n",
      "[800]\ttrain-rmse:0.095552\tvalid-rmse:0.1541\ttrain-rmspe:0.131541\tvalid-rmspe:0.142255\n",
      "[810]\ttrain-rmse:0.095158\tvalid-rmse:0.153745\ttrain-rmspe:0.130878\tvalid-rmspe:0.141921\n",
      "[820]\ttrain-rmse:0.09482\tvalid-rmse:0.153463\ttrain-rmspe:0.130573\tvalid-rmspe:0.141655\n",
      "[830]\ttrain-rmse:0.094573\tvalid-rmse:0.153286\ttrain-rmspe:0.130268\tvalid-rmspe:0.141503\n",
      "[840]\ttrain-rmse:0.094258\tvalid-rmse:0.153005\ttrain-rmspe:0.129948\tvalid-rmspe:0.141236\n",
      "[850]\ttrain-rmse:0.093973\tvalid-rmse:0.152772\ttrain-rmspe:0.129691\tvalid-rmspe:0.141024\n",
      "[860]\ttrain-rmse:0.093617\tvalid-rmse:0.152471\ttrain-rmspe:0.124254\tvalid-rmspe:0.140723\n",
      "[870]\ttrain-rmse:0.093168\tvalid-rmse:0.152087\ttrain-rmspe:0.123837\tvalid-rmspe:0.140344\n",
      "[880]\ttrain-rmse:0.092812\tvalid-rmse:0.151627\ttrain-rmspe:0.123531\tvalid-rmspe:0.139963\n",
      "[890]\ttrain-rmse:0.092501\tvalid-rmse:0.151302\ttrain-rmspe:0.123216\tvalid-rmspe:0.139694\n",
      "[900]\ttrain-rmse:0.092232\tvalid-rmse:0.150996\ttrain-rmspe:0.122979\tvalid-rmspe:0.139466\n",
      "[910]\ttrain-rmse:0.091915\tvalid-rmse:0.150801\ttrain-rmspe:0.12011\tvalid-rmspe:0.139263\n",
      "[920]\ttrain-rmse:0.091514\tvalid-rmse:0.150452\ttrain-rmspe:0.11976\tvalid-rmspe:0.138929\n"
     ]
    },
    {
     "name": "stdout",
     "output_type": "stream",
     "text": [
      "[930]\ttrain-rmse:0.091287\tvalid-rmse:0.150246\ttrain-rmspe:0.119566\tvalid-rmspe:0.138751\n",
      "[940]\ttrain-rmse:0.090984\tvalid-rmse:0.150025\ttrain-rmspe:0.11663\tvalid-rmspe:0.138581\n",
      "[950]\ttrain-rmse:0.090684\tvalid-rmse:0.149783\ttrain-rmspe:0.11636\tvalid-rmspe:0.138364\n",
      "[960]\ttrain-rmse:0.090413\tvalid-rmse:0.149582\ttrain-rmspe:0.116089\tvalid-rmspe:0.138128\n",
      "[970]\ttrain-rmse:0.090195\tvalid-rmse:0.149428\ttrain-rmspe:0.112081\tvalid-rmspe:0.13795\n",
      "[980]\ttrain-rmse:0.089911\tvalid-rmse:0.149201\ttrain-rmspe:0.111773\tvalid-rmspe:0.13773\n",
      "[990]\ttrain-rmse:0.089713\tvalid-rmse:0.149046\ttrain-rmspe:0.111553\tvalid-rmspe:0.137601\n",
      "[1000]\ttrain-rmse:0.089385\tvalid-rmse:0.148823\ttrain-rmspe:0.109623\tvalid-rmspe:0.137365\n",
      "[1010]\ttrain-rmse:0.089136\tvalid-rmse:0.148646\ttrain-rmspe:0.109266\tvalid-rmspe:0.13718\n",
      "[1020]\ttrain-rmse:0.088886\tvalid-rmse:0.148397\ttrain-rmspe:0.109038\tvalid-rmspe:0.136947\n",
      "[1030]\ttrain-rmse:0.08858\tvalid-rmse:0.14815\ttrain-rmspe:0.107824\tvalid-rmspe:0.136702\n",
      "[1040]\ttrain-rmse:0.088377\tvalid-rmse:0.14787\ttrain-rmspe:0.106299\tvalid-rmspe:0.136476\n",
      "[1050]\ttrain-rmse:0.088104\tvalid-rmse:0.147681\ttrain-rmspe:0.106\tvalid-rmspe:0.136291\n",
      "[1060]\ttrain-rmse:0.087798\tvalid-rmse:0.147433\ttrain-rmspe:0.105671\tvalid-rmspe:0.13606\n",
      "[1070]\ttrain-rmse:0.087594\tvalid-rmse:0.147284\ttrain-rmspe:0.105325\tvalid-rmspe:0.135924\n",
      "[1080]\ttrain-rmse:0.087349\tvalid-rmse:0.147049\ttrain-rmspe:0.105018\tvalid-rmspe:0.135702\n",
      "[1090]\ttrain-rmse:0.087043\tvalid-rmse:0.146794\ttrain-rmspe:0.104721\tvalid-rmspe:0.135444\n",
      "[1100]\ttrain-rmse:0.086793\tvalid-rmse:0.14659\ttrain-rmspe:0.104471\tvalid-rmspe:0.135268\n",
      "[1110]\ttrain-rmse:0.086581\tvalid-rmse:0.146332\ttrain-rmspe:0.104261\tvalid-rmspe:0.135059\n",
      "[1120]\ttrain-rmse:0.086366\tvalid-rmse:0.146175\ttrain-rmspe:0.104053\tvalid-rmspe:0.134912\n",
      "[1130]\ttrain-rmse:0.086137\tvalid-rmse:0.145966\ttrain-rmspe:0.103787\tvalid-rmspe:0.134734\n",
      "[1140]\ttrain-rmse:0.085936\tvalid-rmse:0.145737\ttrain-rmspe:0.103577\tvalid-rmspe:0.134544\n",
      "[1150]\ttrain-rmse:0.085746\tvalid-rmse:0.14556\ttrain-rmspe:0.103385\tvalid-rmspe:0.134391\n",
      "[1160]\ttrain-rmse:0.085449\tvalid-rmse:0.14536\ttrain-rmspe:0.102985\tvalid-rmspe:0.134199\n",
      "[1170]\ttrain-rmse:0.085254\tvalid-rmse:0.145257\ttrain-rmspe:0.102793\tvalid-rmspe:0.134105\n",
      "[1180]\ttrain-rmse:0.085038\tvalid-rmse:0.145093\ttrain-rmspe:0.102529\tvalid-rmspe:0.133953\n",
      "[1190]\ttrain-rmse:0.084815\tvalid-rmse:0.144886\ttrain-rmspe:0.102309\tvalid-rmspe:0.133777\n",
      "[1200]\ttrain-rmse:0.084601\tvalid-rmse:0.144721\ttrain-rmspe:0.102097\tvalid-rmspe:0.13361\n",
      "[1210]\ttrain-rmse:0.084394\tvalid-rmse:0.144556\ttrain-rmspe:0.100678\tvalid-rmspe:0.13346\n",
      "[1220]\ttrain-rmse:0.084188\tvalid-rmse:0.144426\ttrain-rmspe:0.100451\tvalid-rmspe:0.133333\n",
      "[1230]\ttrain-rmse:0.084031\tvalid-rmse:0.144317\ttrain-rmspe:0.100281\tvalid-rmspe:0.133235\n",
      "[1240]\ttrain-rmse:0.083796\tvalid-rmse:0.144206\ttrain-rmspe:0.100049\tvalid-rmspe:0.133086\n",
      "[1250]\ttrain-rmse:0.083588\tvalid-rmse:0.144099\ttrain-rmspe:0.098793\tvalid-rmspe:0.132971\n",
      "[1260]\ttrain-rmse:0.083379\tvalid-rmse:0.143883\ttrain-rmspe:0.098625\tvalid-rmspe:0.132789\n",
      "[1270]\ttrain-rmse:0.083152\tvalid-rmse:0.143724\ttrain-rmspe:0.098367\tvalid-rmspe:0.132613\n",
      "[1280]\ttrain-rmse:0.082978\tvalid-rmse:0.143605\ttrain-rmspe:0.098175\tvalid-rmspe:0.132502\n",
      "[1290]\ttrain-rmse:0.082824\tvalid-rmse:0.143479\ttrain-rmspe:0.097961\tvalid-rmspe:0.132369\n",
      "[1300]\ttrain-rmse:0.08265\tvalid-rmse:0.143295\ttrain-rmspe:0.097784\tvalid-rmspe:0.132216\n",
      "[1310]\ttrain-rmse:0.082491\tvalid-rmse:0.143199\ttrain-rmspe:0.096614\tvalid-rmspe:0.132127\n",
      "[1320]\ttrain-rmse:0.082313\tvalid-rmse:0.143105\ttrain-rmspe:0.096384\tvalid-rmspe:0.132026\n",
      "[1330]\ttrain-rmse:0.082173\tvalid-rmse:0.14305\ttrain-rmspe:0.095639\tvalid-rmspe:0.131954\n",
      "[1340]\ttrain-rmse:0.081983\tvalid-rmse:0.142916\ttrain-rmspe:0.095439\tvalid-rmspe:0.131823\n",
      "[1350]\ttrain-rmse:0.081818\tvalid-rmse:0.142862\ttrain-rmspe:0.09523\tvalid-rmspe:0.131739\n",
      "[1360]\ttrain-rmse:0.081612\tvalid-rmse:0.142732\ttrain-rmspe:0.09502\tvalid-rmspe:0.131603\n",
      "[1370]\ttrain-rmse:0.081431\tvalid-rmse:0.142623\ttrain-rmspe:0.094825\tvalid-rmspe:0.1315\n",
      "[1380]\ttrain-rmse:0.081278\tvalid-rmse:0.14254\ttrain-rmspe:0.094664\tvalid-rmspe:0.13143\n",
      "[1390]\ttrain-rmse:0.081118\tvalid-rmse:0.142448\ttrain-rmspe:0.094498\tvalid-rmspe:0.131339\n",
      "[1400]\ttrain-rmse:0.080919\tvalid-rmse:0.142326\ttrain-rmspe:0.094247\tvalid-rmspe:0.131211\n",
      "[1410]\ttrain-rmse:0.080755\tvalid-rmse:0.14225\ttrain-rmspe:0.094047\tvalid-rmspe:0.131136\n",
      "[1420]\ttrain-rmse:0.08059\tvalid-rmse:0.142124\ttrain-rmspe:0.09389\tvalid-rmspe:0.131008\n",
      "[1430]\ttrain-rmse:0.080422\tvalid-rmse:0.142016\ttrain-rmspe:0.09368\tvalid-rmspe:0.130903\n",
      "[1440]\ttrain-rmse:0.08025\tvalid-rmse:0.141929\ttrain-rmspe:0.093492\tvalid-rmspe:0.130819\n",
      "[1450]\ttrain-rmse:0.080107\tvalid-rmse:0.141854\ttrain-rmspe:0.093333\tvalid-rmspe:0.130753\n",
      "[1460]\ttrain-rmse:0.079945\tvalid-rmse:0.141759\ttrain-rmspe:0.092383\tvalid-rmspe:0.13065\n",
      "[1470]\ttrain-rmse:0.079769\tvalid-rmse:0.141635\ttrain-rmspe:0.092177\tvalid-rmspe:0.130529\n",
      "[1480]\ttrain-rmse:0.079616\tvalid-rmse:0.141529\ttrain-rmspe:0.091885\tvalid-rmspe:0.13044\n",
      "[1490]\ttrain-rmse:0.079477\tvalid-rmse:0.141429\ttrain-rmspe:0.091737\tvalid-rmspe:0.130355\n",
      "[1500]\ttrain-rmse:0.079291\tvalid-rmse:0.141277\ttrain-rmspe:0.091553\tvalid-rmspe:0.13022\n",
      "[1510]\ttrain-rmse:0.079136\tvalid-rmse:0.141159\ttrain-rmspe:0.091338\tvalid-rmspe:0.130116\n",
      "[1520]\ttrain-rmse:0.078996\tvalid-rmse:0.141078\ttrain-rmspe:0.091177\tvalid-rmspe:0.130045\n",
      "[1530]\ttrain-rmse:0.078805\tvalid-rmse:0.140966\ttrain-rmspe:0.090993\tvalid-rmspe:0.129944\n",
      "[1540]\ttrain-rmse:0.078706\tvalid-rmse:0.140932\ttrain-rmspe:0.09087\tvalid-rmspe:0.129912\n",
      "[1550]\ttrain-rmse:0.078559\tvalid-rmse:0.140804\ttrain-rmspe:0.090712\tvalid-rmspe:0.1298\n",
      "[1560]\ttrain-rmse:0.078406\tvalid-rmse:0.140711\ttrain-rmspe:0.089797\tvalid-rmspe:0.129714\n",
      "[1570]\ttrain-rmse:0.078275\tvalid-rmse:0.140647\ttrain-rmspe:0.089655\tvalid-rmspe:0.129652\n",
      "[1580]\ttrain-rmse:0.078111\tvalid-rmse:0.140524\ttrain-rmspe:0.089414\tvalid-rmspe:0.129543\n",
      "[1590]\ttrain-rmse:0.077975\tvalid-rmse:0.140452\ttrain-rmspe:0.088067\tvalid-rmspe:0.129474\n",
      "[1600]\ttrain-rmse:0.077858\tvalid-rmse:0.140399\ttrain-rmspe:0.087936\tvalid-rmspe:0.129413\n",
      "[1610]\ttrain-rmse:0.077741\tvalid-rmse:0.140355\ttrain-rmspe:0.087793\tvalid-rmspe:0.129373\n",
      "[1620]\ttrain-rmse:0.077619\tvalid-rmse:0.140283\ttrain-rmspe:0.087658\tvalid-rmspe:0.129311\n",
      "[1630]\ttrain-rmse:0.077491\tvalid-rmse:0.140149\ttrain-rmspe:0.087512\tvalid-rmspe:0.129194\n",
      "[1640]\ttrain-rmse:0.07734\tvalid-rmse:0.14007\ttrain-rmspe:0.087342\tvalid-rmspe:0.129111\n",
      "[1650]\ttrain-rmse:0.077225\tvalid-rmse:0.139999\ttrain-rmspe:0.087218\tvalid-rmspe:0.129052\n",
      "[1660]\ttrain-rmse:0.077092\tvalid-rmse:0.139919\ttrain-rmspe:0.086735\tvalid-rmspe:0.128962\n",
      "[1670]\ttrain-rmse:0.076941\tvalid-rmse:0.139872\ttrain-rmspe:0.086584\tvalid-rmspe:0.12889\n",
      "[1680]\ttrain-rmse:0.076816\tvalid-rmse:0.139846\ttrain-rmspe:0.085961\tvalid-rmspe:0.128849\n",
      "[1690]\ttrain-rmse:0.076681\tvalid-rmse:0.139762\ttrain-rmspe:0.085417\tvalid-rmspe:0.128786\n",
      "[1700]\ttrain-rmse:0.076559\tvalid-rmse:0.139667\ttrain-rmspe:0.085291\tvalid-rmspe:0.128707\n",
      "[1710]\ttrain-rmse:0.076422\tvalid-rmse:0.13962\ttrain-rmspe:0.085148\tvalid-rmspe:0.128654\n",
      "[1720]\ttrain-rmse:0.076279\tvalid-rmse:0.139557\ttrain-rmspe:0.084979\tvalid-rmspe:0.128588\n",
      "[1730]\ttrain-rmse:0.076155\tvalid-rmse:0.139507\ttrain-rmspe:0.084806\tvalid-rmspe:0.12854\n",
      "[1740]\ttrain-rmse:0.076069\tvalid-rmse:0.139473\ttrain-rmspe:0.084701\tvalid-rmspe:0.128509\n",
      "[1750]\ttrain-rmse:0.075933\tvalid-rmse:0.139391\ttrain-rmspe:0.084566\tvalid-rmspe:0.128432\n",
      "[1760]\ttrain-rmse:0.075818\tvalid-rmse:0.139329\ttrain-rmspe:0.084428\tvalid-rmspe:0.12837\n",
      "[1770]\ttrain-rmse:0.075694\tvalid-rmse:0.139237\ttrain-rmspe:0.084246\tvalid-rmspe:0.128277\n",
      "[1780]\ttrain-rmse:0.07555\tvalid-rmse:0.139146\ttrain-rmspe:0.084092\tvalid-rmspe:0.128182\n",
      "[1790]\ttrain-rmse:0.075428\tvalid-rmse:0.139086\ttrain-rmspe:0.083953\tvalid-rmspe:0.128128\n",
      "[1800]\ttrain-rmse:0.075321\tvalid-rmse:0.139023\ttrain-rmspe:0.083834\tvalid-rmspe:0.128069\n",
      "[1810]\ttrain-rmse:0.075201\tvalid-rmse:0.138979\ttrain-rmspe:0.083685\tvalid-rmspe:0.128025\n",
      "[1820]\ttrain-rmse:0.075064\tvalid-rmse:0.138901\ttrain-rmspe:0.083525\tvalid-rmspe:0.127946\n",
      "[1830]\ttrain-rmse:0.074948\tvalid-rmse:0.138823\ttrain-rmspe:0.083399\tvalid-rmspe:0.127879\n",
      "[1840]\ttrain-rmse:0.074838\tvalid-rmse:0.138743\ttrain-rmspe:0.083259\tvalid-rmspe:0.12781\n",
      "[1850]\ttrain-rmse:0.074735\tvalid-rmse:0.138692\ttrain-rmspe:0.083152\tvalid-rmspe:0.127773\n"
     ]
    },
    {
     "name": "stdout",
     "output_type": "stream",
     "text": [
      "[1860]\ttrain-rmse:0.074579\tvalid-rmse:0.138613\ttrain-rmspe:0.082606\tvalid-rmspe:0.127701\n",
      "[1870]\ttrain-rmse:0.074466\tvalid-rmse:0.138594\ttrain-rmspe:0.082462\tvalid-rmspe:0.127668\n",
      "[1880]\ttrain-rmse:0.074379\tvalid-rmse:0.138584\ttrain-rmspe:0.082372\tvalid-rmspe:0.127651\n",
      "[1890]\ttrain-rmse:0.074273\tvalid-rmse:0.138524\ttrain-rmspe:0.081776\tvalid-rmspe:0.127591\n",
      "[1900]\ttrain-rmse:0.074171\tvalid-rmse:0.13844\ttrain-rmspe:0.081671\tvalid-rmspe:0.127527\n",
      "[1910]\ttrain-rmse:0.07404\tvalid-rmse:0.138377\ttrain-rmspe:0.081248\tvalid-rmspe:0.127464\n",
      "[1920]\ttrain-rmse:0.073925\tvalid-rmse:0.13833\ttrain-rmspe:0.081113\tvalid-rmspe:0.127416\n",
      "[1930]\ttrain-rmse:0.073814\tvalid-rmse:0.138318\ttrain-rmspe:0.080965\tvalid-rmspe:0.127396\n",
      "[1940]\ttrain-rmse:0.073701\tvalid-rmse:0.138255\ttrain-rmspe:0.080598\tvalid-rmspe:0.127342\n",
      "[1950]\ttrain-rmse:0.073602\tvalid-rmse:0.13823\ttrain-rmspe:0.080481\tvalid-rmspe:0.127314\n",
      "[1960]\ttrain-rmse:0.073482\tvalid-rmse:0.138175\ttrain-rmspe:0.080349\tvalid-rmspe:0.127269\n",
      "[1970]\ttrain-rmse:0.073389\tvalid-rmse:0.138137\ttrain-rmspe:0.080246\tvalid-rmspe:0.12723\n",
      "[1980]\ttrain-rmse:0.073286\tvalid-rmse:0.138101\ttrain-rmspe:0.080133\tvalid-rmspe:0.127184\n",
      "[1990]\ttrain-rmse:0.073171\tvalid-rmse:0.138036\ttrain-rmspe:0.079702\tvalid-rmspe:0.127129\n",
      "[2000]\ttrain-rmse:0.073072\tvalid-rmse:0.137993\ttrain-rmspe:0.079593\tvalid-rmspe:0.127091\n",
      "[2010]\ttrain-rmse:0.072965\tvalid-rmse:0.137897\ttrain-rmspe:0.079285\tvalid-rmspe:0.127017\n",
      "[2020]\ttrain-rmse:0.072858\tvalid-rmse:0.137848\ttrain-rmspe:0.079153\tvalid-rmspe:0.126969\n",
      "[2030]\ttrain-rmse:0.072757\tvalid-rmse:0.137814\ttrain-rmspe:0.079032\tvalid-rmspe:0.126937\n",
      "[2040]\ttrain-rmse:0.072662\tvalid-rmse:0.137778\ttrain-rmspe:0.078842\tvalid-rmspe:0.126904\n",
      "[2050]\ttrain-rmse:0.072536\tvalid-rmse:0.137729\ttrain-rmspe:0.078699\tvalid-rmspe:0.126852\n",
      "[2060]\ttrain-rmse:0.072441\tvalid-rmse:0.137707\ttrain-rmspe:0.078594\tvalid-rmspe:0.126823\n",
      "[2070]\ttrain-rmse:0.072333\tvalid-rmse:0.137664\ttrain-rmspe:0.078467\tvalid-rmspe:0.126762\n",
      "[2080]\ttrain-rmse:0.072231\tvalid-rmse:0.137628\ttrain-rmspe:0.078356\tvalid-rmspe:0.126725\n",
      "[2090]\ttrain-rmse:0.072131\tvalid-rmse:0.137576\ttrain-rmspe:0.078073\tvalid-rmspe:0.126664\n",
      "[2100]\ttrain-rmse:0.07203\tvalid-rmse:0.137575\ttrain-rmspe:0.077814\tvalid-rmspe:0.126656\n",
      "[2110]\ttrain-rmse:0.071946\tvalid-rmse:0.137532\ttrain-rmspe:0.077724\tvalid-rmspe:0.126619\n",
      "[2120]\ttrain-rmse:0.071853\tvalid-rmse:0.137489\ttrain-rmspe:0.077612\tvalid-rmspe:0.126582\n",
      "[2130]\ttrain-rmse:0.071756\tvalid-rmse:0.137464\ttrain-rmspe:0.077498\tvalid-rmspe:0.126551\n",
      "[2140]\ttrain-rmse:0.071669\tvalid-rmse:0.137418\ttrain-rmspe:0.077399\tvalid-rmspe:0.126503\n",
      "[2150]\ttrain-rmse:0.071577\tvalid-rmse:0.137349\ttrain-rmspe:0.077293\tvalid-rmspe:0.126456\n",
      "[2160]\ttrain-rmse:0.071498\tvalid-rmse:0.137325\ttrain-rmspe:0.077207\tvalid-rmspe:0.126433\n",
      "[2170]\ttrain-rmse:0.071404\tvalid-rmse:0.137269\ttrain-rmspe:0.077096\tvalid-rmspe:0.12638\n",
      "[2180]\ttrain-rmse:0.071298\tvalid-rmse:0.137194\ttrain-rmspe:0.076983\tvalid-rmspe:0.126317\n",
      "[2190]\ttrain-rmse:0.071209\tvalid-rmse:0.137142\ttrain-rmspe:0.076885\tvalid-rmspe:0.126274\n",
      "[2200]\ttrain-rmse:0.071115\tvalid-rmse:0.137092\ttrain-rmspe:0.076785\tvalid-rmspe:0.126227\n",
      "[2210]\ttrain-rmse:0.071029\tvalid-rmse:0.137065\ttrain-rmspe:0.07655\tvalid-rmspe:0.126183\n",
      "[2220]\ttrain-rmse:0.070926\tvalid-rmse:0.137063\ttrain-rmspe:0.076442\tvalid-rmspe:0.126169\n",
      "[2230]\ttrain-rmse:0.07083\tvalid-rmse:0.137007\ttrain-rmspe:0.076308\tvalid-rmspe:0.126118\n",
      "[2240]\ttrain-rmse:0.070733\tvalid-rmse:0.136959\ttrain-rmspe:0.076139\tvalid-rmspe:0.126079\n",
      "[2250]\ttrain-rmse:0.070631\tvalid-rmse:0.136902\ttrain-rmspe:0.076028\tvalid-rmspe:0.126027\n",
      "[2260]\ttrain-rmse:0.070545\tvalid-rmse:0.136834\ttrain-rmspe:0.075938\tvalid-rmspe:0.125962\n",
      "[2270]\ttrain-rmse:0.070453\tvalid-rmse:0.136783\ttrain-rmspe:0.075826\tvalid-rmspe:0.125919\n",
      "[2280]\ttrain-rmse:0.07037\tvalid-rmse:0.136754\ttrain-rmspe:0.075732\tvalid-rmspe:0.12589\n",
      "[2290]\ttrain-rmse:0.070294\tvalid-rmse:0.136729\ttrain-rmspe:0.07565\tvalid-rmspe:0.125867\n",
      "[2300]\ttrain-rmse:0.070192\tvalid-rmse:0.136662\ttrain-rmspe:0.075526\tvalid-rmspe:0.125814\n",
      "[2310]\ttrain-rmse:0.070108\tvalid-rmse:0.136624\ttrain-rmspe:0.075432\tvalid-rmspe:0.12578\n",
      "[2320]\ttrain-rmse:0.070025\tvalid-rmse:0.136607\ttrain-rmspe:0.075332\tvalid-rmspe:0.125762\n",
      "[2330]\ttrain-rmse:0.069949\tvalid-rmse:0.136572\ttrain-rmspe:0.07524\tvalid-rmspe:0.125727\n",
      "[2340]\ttrain-rmse:0.069878\tvalid-rmse:0.136554\ttrain-rmspe:0.075158\tvalid-rmspe:0.125716\n",
      "[2350]\ttrain-rmse:0.069809\tvalid-rmse:0.136525\ttrain-rmspe:0.075077\tvalid-rmspe:0.125693\n",
      "[2360]\ttrain-rmse:0.069727\tvalid-rmse:0.136506\ttrain-rmspe:0.074984\tvalid-rmspe:0.125675\n",
      "[2370]\ttrain-rmse:0.069658\tvalid-rmse:0.13646\ttrain-rmspe:0.074911\tvalid-rmspe:0.125627\n",
      "[2380]\ttrain-rmse:0.06957\tvalid-rmse:0.136398\ttrain-rmspe:0.074806\tvalid-rmspe:0.125562\n",
      "[2390]\ttrain-rmse:0.069477\tvalid-rmse:0.136348\ttrain-rmspe:0.074697\tvalid-rmspe:0.125518\n",
      "[2400]\ttrain-rmse:0.069393\tvalid-rmse:0.136322\ttrain-rmspe:0.074601\tvalid-rmspe:0.125495\n",
      "[2410]\ttrain-rmse:0.069314\tvalid-rmse:0.136248\ttrain-rmspe:0.074513\tvalid-rmspe:0.125435\n",
      "[2420]\ttrain-rmse:0.06923\tvalid-rmse:0.136227\ttrain-rmspe:0.074397\tvalid-rmspe:0.125418\n",
      "[2430]\ttrain-rmse:0.069155\tvalid-rmse:0.136211\ttrain-rmspe:0.0743\tvalid-rmspe:0.125381\n",
      "[2440]\ttrain-rmse:0.069063\tvalid-rmse:0.136182\ttrain-rmspe:0.074185\tvalid-rmspe:0.125358\n",
      "[2450]\ttrain-rmse:0.068986\tvalid-rmse:0.136166\ttrain-rmspe:0.074093\tvalid-rmspe:0.125341\n",
      "[2460]\ttrain-rmse:0.068911\tvalid-rmse:0.136141\ttrain-rmspe:0.07401\tvalid-rmspe:0.125303\n",
      "[2470]\ttrain-rmse:0.068834\tvalid-rmse:0.136106\ttrain-rmspe:0.073829\tvalid-rmspe:0.125274\n",
      "[2480]\ttrain-rmse:0.06876\tvalid-rmse:0.136066\ttrain-rmspe:0.073737\tvalid-rmspe:0.125242\n",
      "[2490]\ttrain-rmse:0.068693\tvalid-rmse:0.136064\ttrain-rmspe:0.073659\tvalid-rmspe:0.125248\n",
      "[2500]\ttrain-rmse:0.068613\tvalid-rmse:0.136024\ttrain-rmspe:0.073558\tvalid-rmspe:0.125212\n",
      "[2510]\ttrain-rmse:0.068534\tvalid-rmse:0.13599\ttrain-rmspe:0.073474\tvalid-rmspe:0.125176\n",
      "[2520]\ttrain-rmse:0.06846\tvalid-rmse:0.135969\ttrain-rmspe:0.073397\tvalid-rmspe:0.125154\n",
      "[2530]\ttrain-rmse:0.068393\tvalid-rmse:0.135932\ttrain-rmspe:0.073322\tvalid-rmspe:0.125113\n",
      "[2540]\ttrain-rmse:0.068321\tvalid-rmse:0.135901\ttrain-rmspe:0.073242\tvalid-rmspe:0.125087\n",
      "[2550]\ttrain-rmse:0.068251\tvalid-rmse:0.135882\ttrain-rmspe:0.073153\tvalid-rmspe:0.125067\n",
      "[2560]\ttrain-rmse:0.068166\tvalid-rmse:0.135835\ttrain-rmspe:0.073043\tvalid-rmspe:0.125021\n",
      "[2570]\ttrain-rmse:0.068084\tvalid-rmse:0.135814\ttrain-rmspe:0.072937\tvalid-rmspe:0.125\n",
      "[2580]\ttrain-rmse:0.068009\tvalid-rmse:0.135789\ttrain-rmspe:0.072851\tvalid-rmspe:0.124985\n",
      "[2590]\ttrain-rmse:0.06794\tvalid-rmse:0.135753\ttrain-rmspe:0.072771\tvalid-rmspe:0.124954\n",
      "[2600]\ttrain-rmse:0.067859\tvalid-rmse:0.135725\ttrain-rmspe:0.072684\tvalid-rmspe:0.124923\n",
      "[2610]\ttrain-rmse:0.067783\tvalid-rmse:0.135685\ttrain-rmspe:0.072593\tvalid-rmspe:0.124885\n",
      "[2620]\ttrain-rmse:0.067718\tvalid-rmse:0.135653\ttrain-rmspe:0.072515\tvalid-rmspe:0.124858\n",
      "[2630]\ttrain-rmse:0.067651\tvalid-rmse:0.135628\ttrain-rmspe:0.072215\tvalid-rmspe:0.124836\n",
      "[2640]\ttrain-rmse:0.067576\tvalid-rmse:0.135617\ttrain-rmspe:0.072112\tvalid-rmspe:0.12483\n",
      "[2650]\ttrain-rmse:0.067494\tvalid-rmse:0.135563\ttrain-rmspe:0.072011\tvalid-rmspe:0.124784\n",
      "[2660]\ttrain-rmse:0.067424\tvalid-rmse:0.135524\ttrain-rmspe:0.071929\tvalid-rmspe:0.124746\n",
      "[2670]\ttrain-rmse:0.067363\tvalid-rmse:0.135508\ttrain-rmspe:0.071863\tvalid-rmspe:0.124733\n",
      "[2680]\ttrain-rmse:0.067294\tvalid-rmse:0.135491\ttrain-rmspe:0.071784\tvalid-rmspe:0.12472\n",
      "[2690]\ttrain-rmse:0.067216\tvalid-rmse:0.13544\ttrain-rmspe:0.071689\tvalid-rmspe:0.124687\n",
      "[2700]\ttrain-rmse:0.067148\tvalid-rmse:0.13542\ttrain-rmspe:0.071603\tvalid-rmspe:0.124667\n",
      "[2710]\ttrain-rmse:0.067075\tvalid-rmse:0.1354\ttrain-rmspe:0.071514\tvalid-rmspe:0.124648\n",
      "[2720]\ttrain-rmse:0.066989\tvalid-rmse:0.135369\ttrain-rmspe:0.071214\tvalid-rmspe:0.12462\n",
      "[2730]\ttrain-rmse:0.066933\tvalid-rmse:0.135352\ttrain-rmspe:0.071155\tvalid-rmspe:0.124604\n",
      "[2740]\ttrain-rmse:0.066856\tvalid-rmse:0.13529\ttrain-rmspe:0.071071\tvalid-rmspe:0.124557\n",
      "[2750]\ttrain-rmse:0.06678\tvalid-rmse:0.135255\ttrain-rmspe:0.070986\tvalid-rmspe:0.124531\n",
      "[2760]\ttrain-rmse:0.066724\tvalid-rmse:0.135244\ttrain-rmspe:0.070911\tvalid-rmspe:0.124522\n",
      "[2770]\ttrain-rmse:0.066659\tvalid-rmse:0.135212\ttrain-rmspe:0.070805\tvalid-rmspe:0.124491\n",
      "[2780]\ttrain-rmse:0.066589\tvalid-rmse:0.135172\ttrain-rmspe:0.070674\tvalid-rmspe:0.124447\n"
     ]
    },
    {
     "name": "stdout",
     "output_type": "stream",
     "text": [
      "[2790]\ttrain-rmse:0.066523\tvalid-rmse:0.13516\ttrain-rmspe:0.070593\tvalid-rmspe:0.124437\n",
      "[2800]\ttrain-rmse:0.066459\tvalid-rmse:0.135155\ttrain-rmspe:0.070516\tvalid-rmspe:0.124431\n",
      "[2810]\ttrain-rmse:0.066393\tvalid-rmse:0.135127\ttrain-rmspe:0.070433\tvalid-rmspe:0.124411\n",
      "[2820]\ttrain-rmse:0.066329\tvalid-rmse:0.135125\ttrain-rmspe:0.070362\tvalid-rmspe:0.124412\n",
      "[2830]\ttrain-rmse:0.066261\tvalid-rmse:0.135101\ttrain-rmspe:0.070282\tvalid-rmspe:0.124397\n",
      "[2840]\ttrain-rmse:0.066198\tvalid-rmse:0.135082\ttrain-rmspe:0.070135\tvalid-rmspe:0.124376\n",
      "[2850]\ttrain-rmse:0.066152\tvalid-rmse:0.135071\ttrain-rmspe:0.070087\tvalid-rmspe:0.124366\n",
      "[2860]\ttrain-rmse:0.066092\tvalid-rmse:0.135044\ttrain-rmspe:0.069955\tvalid-rmspe:0.124336\n",
      "[2870]\ttrain-rmse:0.06603\tvalid-rmse:0.135012\ttrain-rmspe:0.069879\tvalid-rmspe:0.124312\n",
      "[2880]\ttrain-rmse:0.065971\tvalid-rmse:0.134989\ttrain-rmspe:0.069808\tvalid-rmspe:0.124292\n",
      "[2890]\ttrain-rmse:0.065911\tvalid-rmse:0.134973\ttrain-rmspe:0.06973\tvalid-rmspe:0.124287\n",
      "[2900]\ttrain-rmse:0.065842\tvalid-rmse:0.134958\ttrain-rmspe:0.069654\tvalid-rmspe:0.124273\n",
      "[2910]\ttrain-rmse:0.06577\tvalid-rmse:0.134936\ttrain-rmspe:0.069558\tvalid-rmspe:0.124247\n",
      "[2920]\ttrain-rmse:0.065703\tvalid-rmse:0.134913\ttrain-rmspe:0.069478\tvalid-rmspe:0.124226\n",
      "[2930]\ttrain-rmse:0.065643\tvalid-rmse:0.134934\ttrain-rmspe:0.069406\tvalid-rmspe:0.124233\n",
      "[2940]\ttrain-rmse:0.065573\tvalid-rmse:0.134902\ttrain-rmspe:0.069323\tvalid-rmspe:0.124195\n",
      "[2950]\ttrain-rmse:0.065512\tvalid-rmse:0.134883\ttrain-rmspe:0.069255\tvalid-rmspe:0.124182\n",
      "[2960]\ttrain-rmse:0.065449\tvalid-rmse:0.134843\ttrain-rmspe:0.069186\tvalid-rmspe:0.124149\n",
      "[2970]\ttrain-rmse:0.065387\tvalid-rmse:0.134831\ttrain-rmspe:0.069112\tvalid-rmspe:0.124132\n",
      "[2980]\ttrain-rmse:0.065326\tvalid-rmse:0.134813\ttrain-rmspe:0.06903\tvalid-rmspe:0.124114\n",
      "[2990]\ttrain-rmse:0.065256\tvalid-rmse:0.134757\ttrain-rmspe:0.068949\tvalid-rmspe:0.124073\n",
      "[3000]\ttrain-rmse:0.065185\tvalid-rmse:0.134728\ttrain-rmspe:0.068861\tvalid-rmspe:0.124047\n",
      "[3010]\ttrain-rmse:0.065127\tvalid-rmse:0.134718\ttrain-rmspe:0.06879\tvalid-rmspe:0.124037\n",
      "[3020]\ttrain-rmse:0.06507\tvalid-rmse:0.134714\ttrain-rmspe:0.068713\tvalid-rmspe:0.124037\n",
      "[3030]\ttrain-rmse:0.065015\tvalid-rmse:0.134707\ttrain-rmspe:0.068648\tvalid-rmspe:0.124033\n",
      "[3040]\ttrain-rmse:0.064959\tvalid-rmse:0.134714\ttrain-rmspe:0.06858\tvalid-rmspe:0.124034\n",
      "[3050]\ttrain-rmse:0.064901\tvalid-rmse:0.134696\ttrain-rmspe:0.06851\tvalid-rmspe:0.124016\n",
      "[3060]\ttrain-rmse:0.064848\tvalid-rmse:0.134682\ttrain-rmspe:0.068444\tvalid-rmspe:0.124007\n",
      "[3070]\ttrain-rmse:0.064788\tvalid-rmse:0.134675\ttrain-rmspe:0.068375\tvalid-rmspe:0.124004\n",
      "[3080]\ttrain-rmse:0.064725\tvalid-rmse:0.134629\ttrain-rmspe:0.068235\tvalid-rmspe:0.123971\n",
      "[3090]\ttrain-rmse:0.064659\tvalid-rmse:0.134611\ttrain-rmspe:0.068158\tvalid-rmspe:0.123955\n",
      "[3100]\ttrain-rmse:0.064604\tvalid-rmse:0.134598\ttrain-rmspe:0.068085\tvalid-rmspe:0.123939\n",
      "[3110]\ttrain-rmse:0.064541\tvalid-rmse:0.134601\ttrain-rmspe:0.068011\tvalid-rmspe:0.123935\n",
      "[3120]\ttrain-rmse:0.064484\tvalid-rmse:0.134594\ttrain-rmspe:0.067944\tvalid-rmspe:0.123927\n",
      "[3130]\ttrain-rmse:0.06443\tvalid-rmse:0.134589\ttrain-rmspe:0.067882\tvalid-rmspe:0.123921\n",
      "[3140]\ttrain-rmse:0.064365\tvalid-rmse:0.13458\ttrain-rmspe:0.067809\tvalid-rmspe:0.123907\n",
      "[3150]\ttrain-rmse:0.064311\tvalid-rmse:0.134574\ttrain-rmspe:0.067752\tvalid-rmspe:0.123902\n",
      "[3160]\ttrain-rmse:0.064254\tvalid-rmse:0.134546\ttrain-rmspe:0.067687\tvalid-rmspe:0.12388\n",
      "[3170]\ttrain-rmse:0.064203\tvalid-rmse:0.134539\ttrain-rmspe:0.067628\tvalid-rmspe:0.123872\n",
      "[3180]\ttrain-rmse:0.064145\tvalid-rmse:0.134516\ttrain-rmspe:0.067557\tvalid-rmspe:0.123851\n",
      "[3190]\ttrain-rmse:0.064091\tvalid-rmse:0.134492\ttrain-rmspe:0.067496\tvalid-rmspe:0.123832\n",
      "[3200]\ttrain-rmse:0.064025\tvalid-rmse:0.134459\ttrain-rmspe:0.067366\tvalid-rmspe:0.123808\n",
      "[3210]\ttrain-rmse:0.063963\tvalid-rmse:0.134426\ttrain-rmspe:0.067292\tvalid-rmspe:0.123781\n",
      "[3220]\ttrain-rmse:0.063904\tvalid-rmse:0.134408\ttrain-rmspe:0.067227\tvalid-rmspe:0.123764\n",
      "[3230]\ttrain-rmse:0.063857\tvalid-rmse:0.134375\ttrain-rmspe:0.067173\tvalid-rmspe:0.123738\n",
      "[3240]\ttrain-rmse:0.063799\tvalid-rmse:0.134365\ttrain-rmspe:0.067101\tvalid-rmspe:0.12373\n",
      "[3250]\ttrain-rmse:0.063741\tvalid-rmse:0.134353\ttrain-rmspe:0.067038\tvalid-rmspe:0.123717\n",
      "[3260]\ttrain-rmse:0.063684\tvalid-rmse:0.134344\ttrain-rmspe:0.066965\tvalid-rmspe:0.123704\n",
      "[3270]\ttrain-rmse:0.063627\tvalid-rmse:0.134331\ttrain-rmspe:0.066902\tvalid-rmspe:0.12368\n",
      "[3280]\ttrain-rmse:0.063573\tvalid-rmse:0.134318\ttrain-rmspe:0.066791\tvalid-rmspe:0.123669\n",
      "[3290]\ttrain-rmse:0.063522\tvalid-rmse:0.134298\ttrain-rmspe:0.066698\tvalid-rmspe:0.123653\n",
      "[3300]\ttrain-rmse:0.063462\tvalid-rmse:0.134292\ttrain-rmspe:0.066632\tvalid-rmspe:0.12365\n",
      "[3310]\ttrain-rmse:0.063407\tvalid-rmse:0.134271\ttrain-rmspe:0.066567\tvalid-rmspe:0.123634\n",
      "[3320]\ttrain-rmse:0.063357\tvalid-rmse:0.134275\ttrain-rmspe:0.066505\tvalid-rmspe:0.123633\n",
      "[3330]\ttrain-rmse:0.063303\tvalid-rmse:0.134277\ttrain-rmspe:0.066402\tvalid-rmspe:0.123625\n",
      "[3340]\ttrain-rmse:0.063246\tvalid-rmse:0.134262\ttrain-rmspe:0.066332\tvalid-rmspe:0.12361\n",
      "[3350]\ttrain-rmse:0.063194\tvalid-rmse:0.134252\ttrain-rmspe:0.066266\tvalid-rmspe:0.123604\n",
      "[3360]\ttrain-rmse:0.063145\tvalid-rmse:0.134244\ttrain-rmspe:0.066175\tvalid-rmspe:0.1236\n",
      "[3370]\ttrain-rmse:0.063093\tvalid-rmse:0.134234\ttrain-rmspe:0.066108\tvalid-rmspe:0.123586\n",
      "[3380]\ttrain-rmse:0.063038\tvalid-rmse:0.13421\ttrain-rmspe:0.066038\tvalid-rmspe:0.123567\n",
      "[3390]\ttrain-rmse:0.062983\tvalid-rmse:0.134204\ttrain-rmspe:0.06596\tvalid-rmspe:0.123551\n",
      "[3400]\ttrain-rmse:0.062933\tvalid-rmse:0.134192\ttrain-rmspe:0.065869\tvalid-rmspe:0.123545\n",
      "[3410]\ttrain-rmse:0.062873\tvalid-rmse:0.134191\ttrain-rmspe:0.06576\tvalid-rmspe:0.123546\n",
      "[3420]\ttrain-rmse:0.06282\tvalid-rmse:0.134183\ttrain-rmspe:0.065697\tvalid-rmspe:0.123538\n",
      "[3430]\ttrain-rmse:0.062764\tvalid-rmse:0.134159\ttrain-rmspe:0.065636\tvalid-rmspe:0.123524\n",
      "[3440]\ttrain-rmse:0.062716\tvalid-rmse:0.134157\ttrain-rmspe:0.06557\tvalid-rmspe:0.123523\n",
      "[3450]\ttrain-rmse:0.062658\tvalid-rmse:0.134132\ttrain-rmspe:0.065502\tvalid-rmspe:0.123506\n",
      "[3460]\ttrain-rmse:0.062602\tvalid-rmse:0.134124\ttrain-rmspe:0.065434\tvalid-rmspe:0.123499\n",
      "[3470]\ttrain-rmse:0.062557\tvalid-rmse:0.134097\ttrain-rmspe:0.065387\tvalid-rmspe:0.123478\n",
      "[3480]\ttrain-rmse:0.062505\tvalid-rmse:0.134104\ttrain-rmspe:0.065324\tvalid-rmspe:0.123479\n",
      "[3490]\ttrain-rmse:0.062451\tvalid-rmse:0.134088\ttrain-rmspe:0.065264\tvalid-rmspe:0.123468\n",
      "[3500]\ttrain-rmse:0.062399\tvalid-rmse:0.134089\ttrain-rmspe:0.065201\tvalid-rmspe:0.123464\n",
      "[3510]\ttrain-rmse:0.062347\tvalid-rmse:0.134085\ttrain-rmspe:0.065138\tvalid-rmspe:0.123461\n",
      "[3520]\ttrain-rmse:0.062309\tvalid-rmse:0.134077\ttrain-rmspe:0.065096\tvalid-rmspe:0.123452\n",
      "[3530]\ttrain-rmse:0.062268\tvalid-rmse:0.134065\ttrain-rmspe:0.065047\tvalid-rmspe:0.123443\n",
      "[3540]\ttrain-rmse:0.062214\tvalid-rmse:0.134048\ttrain-rmspe:0.064986\tvalid-rmspe:0.123419\n",
      "[3550]\ttrain-rmse:0.062165\tvalid-rmse:0.134031\ttrain-rmspe:0.064929\tvalid-rmspe:0.123407\n",
      "[3560]\ttrain-rmse:0.062117\tvalid-rmse:0.134025\ttrain-rmspe:0.064874\tvalid-rmspe:0.123403\n",
      "[3570]\ttrain-rmse:0.062071\tvalid-rmse:0.134023\ttrain-rmspe:0.064823\tvalid-rmspe:0.123401\n",
      "[3580]\ttrain-rmse:0.062023\tvalid-rmse:0.13401\ttrain-rmspe:0.064736\tvalid-rmspe:0.123389\n",
      "[3590]\ttrain-rmse:0.061967\tvalid-rmse:0.134002\ttrain-rmspe:0.064672\tvalid-rmspe:0.123374\n",
      "[3600]\ttrain-rmse:0.061911\tvalid-rmse:0.134005\ttrain-rmspe:0.064599\tvalid-rmspe:0.123371\n",
      "[3610]\ttrain-rmse:0.061869\tvalid-rmse:0.133994\ttrain-rmspe:0.064551\tvalid-rmspe:0.12336\n",
      "[3620]\ttrain-rmse:0.061813\tvalid-rmse:0.133958\ttrain-rmspe:0.064481\tvalid-rmspe:0.123342\n",
      "[3630]\ttrain-rmse:0.061764\tvalid-rmse:0.133952\ttrain-rmspe:0.064426\tvalid-rmspe:0.123333\n",
      "[3640]\ttrain-rmse:0.061714\tvalid-rmse:0.133946\ttrain-rmspe:0.064371\tvalid-rmspe:0.123324\n",
      "[3650]\ttrain-rmse:0.061665\tvalid-rmse:0.133947\ttrain-rmspe:0.064313\tvalid-rmspe:0.123325\n",
      "[3660]\ttrain-rmse:0.061611\tvalid-rmse:0.13394\ttrain-rmspe:0.064251\tvalid-rmspe:0.123318\n",
      "[3670]\ttrain-rmse:0.061569\tvalid-rmse:0.133919\ttrain-rmspe:0.064205\tvalid-rmspe:0.123304\n",
      "[3680]\ttrain-rmse:0.061521\tvalid-rmse:0.133912\ttrain-rmspe:0.064152\tvalid-rmspe:0.123299\n",
      "[3690]\ttrain-rmse:0.061472\tvalid-rmse:0.133891\ttrain-rmspe:0.064098\tvalid-rmspe:0.123283\n",
      "[3700]\ttrain-rmse:0.06142\tvalid-rmse:0.133873\ttrain-rmspe:0.064034\tvalid-rmspe:0.123267\n",
      "[3710]\ttrain-rmse:0.06137\tvalid-rmse:0.133864\ttrain-rmspe:0.063981\tvalid-rmspe:0.123259\n"
     ]
    },
    {
     "name": "stdout",
     "output_type": "stream",
     "text": [
      "[3720]\ttrain-rmse:0.061324\tvalid-rmse:0.133847\ttrain-rmspe:0.06393\tvalid-rmspe:0.123248\n",
      "[3730]\ttrain-rmse:0.061272\tvalid-rmse:0.133839\ttrain-rmspe:0.06387\tvalid-rmspe:0.123239\n",
      "[3740]\ttrain-rmse:0.061215\tvalid-rmse:0.133816\ttrain-rmspe:0.063799\tvalid-rmspe:0.123215\n",
      "[3750]\ttrain-rmse:0.061173\tvalid-rmse:0.13381\ttrain-rmspe:0.063734\tvalid-rmspe:0.123209\n",
      "[3760]\ttrain-rmse:0.061127\tvalid-rmse:0.133805\ttrain-rmspe:0.063681\tvalid-rmspe:0.123206\n",
      "[3770]\ttrain-rmse:0.061072\tvalid-rmse:0.133784\ttrain-rmspe:0.063614\tvalid-rmspe:0.123188\n",
      "[3780]\ttrain-rmse:0.061029\tvalid-rmse:0.133767\ttrain-rmspe:0.06354\tvalid-rmspe:0.123176\n",
      "[3790]\ttrain-rmse:0.060981\tvalid-rmse:0.133761\ttrain-rmspe:0.063479\tvalid-rmspe:0.123171\n",
      "[3800]\ttrain-rmse:0.060937\tvalid-rmse:0.133769\ttrain-rmspe:0.06343\tvalid-rmspe:0.123182\n",
      "[3810]\ttrain-rmse:0.060894\tvalid-rmse:0.133763\ttrain-rmspe:0.063357\tvalid-rmspe:0.123175\n",
      "[3820]\ttrain-rmse:0.060848\tvalid-rmse:0.133773\ttrain-rmspe:0.063303\tvalid-rmspe:0.123169\n",
      "[3830]\ttrain-rmse:0.060795\tvalid-rmse:0.133744\ttrain-rmspe:0.063241\tvalid-rmspe:0.123151\n",
      "[3840]\ttrain-rmse:0.060742\tvalid-rmse:0.133717\ttrain-rmspe:0.063175\tvalid-rmspe:0.123126\n",
      "[3850]\ttrain-rmse:0.0607\tvalid-rmse:0.133723\ttrain-rmspe:0.063129\tvalid-rmspe:0.123129\n",
      "[3860]\ttrain-rmse:0.060654\tvalid-rmse:0.13371\ttrain-rmspe:0.063077\tvalid-rmspe:0.123113\n",
      "[3870]\ttrain-rmse:0.060615\tvalid-rmse:0.133709\ttrain-rmspe:0.063035\tvalid-rmspe:0.123111\n",
      "[3880]\ttrain-rmse:0.060566\tvalid-rmse:0.133711\ttrain-rmspe:0.062954\tvalid-rmspe:0.123112\n",
      "[3890]\ttrain-rmse:0.060522\tvalid-rmse:0.133707\ttrain-rmspe:0.062905\tvalid-rmspe:0.123108\n",
      "[3900]\ttrain-rmse:0.060483\tvalid-rmse:0.133708\ttrain-rmspe:0.062859\tvalid-rmspe:0.123107\n",
      "[3910]\ttrain-rmse:0.06043\tvalid-rmse:0.133713\ttrain-rmspe:0.062797\tvalid-rmspe:0.123107\n",
      "[3920]\ttrain-rmse:0.060389\tvalid-rmse:0.13371\ttrain-rmspe:0.062743\tvalid-rmspe:0.123104\n",
      "[3930]\ttrain-rmse:0.060345\tvalid-rmse:0.133704\ttrain-rmspe:0.062691\tvalid-rmspe:0.123098\n",
      "[3940]\ttrain-rmse:0.060298\tvalid-rmse:0.133698\ttrain-rmspe:0.062635\tvalid-rmspe:0.123092\n",
      "[3950]\ttrain-rmse:0.060245\tvalid-rmse:0.133687\ttrain-rmspe:0.062562\tvalid-rmspe:0.123082\n",
      "[3960]\ttrain-rmse:0.060196\tvalid-rmse:0.133676\ttrain-rmspe:0.062494\tvalid-rmspe:0.123071\n",
      "[3970]\ttrain-rmse:0.060149\tvalid-rmse:0.133674\ttrain-rmspe:0.062435\tvalid-rmspe:0.123065\n",
      "[3980]\ttrain-rmse:0.060106\tvalid-rmse:0.13367\ttrain-rmspe:0.06238\tvalid-rmspe:0.12306\n",
      "[3990]\ttrain-rmse:0.06006\tvalid-rmse:0.133653\ttrain-rmspe:0.062328\tvalid-rmspe:0.123051\n",
      "[4000]\ttrain-rmse:0.060023\tvalid-rmse:0.133645\ttrain-rmspe:0.062286\tvalid-rmspe:0.123045\n",
      "[4010]\ttrain-rmse:0.059976\tvalid-rmse:0.133625\ttrain-rmspe:0.062233\tvalid-rmspe:0.123027\n",
      "[4020]\ttrain-rmse:0.059934\tvalid-rmse:0.133619\ttrain-rmspe:0.062189\tvalid-rmspe:0.123023\n",
      "[4030]\ttrain-rmse:0.059889\tvalid-rmse:0.133611\ttrain-rmspe:0.062137\tvalid-rmspe:0.123018\n",
      "[4040]\ttrain-rmse:0.05984\tvalid-rmse:0.133594\ttrain-rmspe:0.06208\tvalid-rmspe:0.123003\n",
      "[4050]\ttrain-rmse:0.059794\tvalid-rmse:0.133604\ttrain-rmspe:0.062008\tvalid-rmspe:0.123002\n",
      "[4060]\ttrain-rmse:0.059752\tvalid-rmse:0.133614\ttrain-rmspe:0.061945\tvalid-rmspe:0.123004\n",
      "[4070]\ttrain-rmse:0.059705\tvalid-rmse:0.133611\ttrain-rmspe:0.061889\tvalid-rmspe:0.122997\n",
      "[4080]\ttrain-rmse:0.059663\tvalid-rmse:0.133603\ttrain-rmspe:0.061841\tvalid-rmspe:0.122992\n",
      "[4090]\ttrain-rmse:0.059623\tvalid-rmse:0.133605\ttrain-rmspe:0.061797\tvalid-rmspe:0.122988\n",
      "[4100]\ttrain-rmse:0.059579\tvalid-rmse:0.133611\ttrain-rmspe:0.061742\tvalid-rmspe:0.12299\n",
      "[4110]\ttrain-rmse:0.059534\tvalid-rmse:0.133592\ttrain-rmspe:0.061691\tvalid-rmspe:0.122975\n",
      "[4120]\ttrain-rmse:0.059494\tvalid-rmse:0.133582\ttrain-rmspe:0.061646\tvalid-rmspe:0.122968\n",
      "[4130]\ttrain-rmse:0.059442\tvalid-rmse:0.133576\ttrain-rmspe:0.061582\tvalid-rmspe:0.122961\n",
      "[4140]\ttrain-rmse:0.059397\tvalid-rmse:0.133569\ttrain-rmspe:0.061533\tvalid-rmspe:0.122952\n",
      "[4150]\ttrain-rmse:0.059353\tvalid-rmse:0.133575\ttrain-rmspe:0.061486\tvalid-rmspe:0.122956\n",
      "[4160]\ttrain-rmse:0.059307\tvalid-rmse:0.133568\ttrain-rmspe:0.061432\tvalid-rmspe:0.12295\n",
      "[4170]\ttrain-rmse:0.059268\tvalid-rmse:0.13357\ttrain-rmspe:0.061384\tvalid-rmspe:0.122951\n",
      "[4180]\ttrain-rmse:0.059214\tvalid-rmse:0.133558\ttrain-rmspe:0.061325\tvalid-rmspe:0.122945\n",
      "[4190]\ttrain-rmse:0.059168\tvalid-rmse:0.13355\ttrain-rmspe:0.061269\tvalid-rmspe:0.122941\n",
      "[4200]\ttrain-rmse:0.059122\tvalid-rmse:0.133541\ttrain-rmspe:0.061203\tvalid-rmspe:0.122933\n",
      "[4210]\ttrain-rmse:0.059081\tvalid-rmse:0.133545\ttrain-rmspe:0.061154\tvalid-rmspe:0.122929\n",
      "[4220]\ttrain-rmse:0.059043\tvalid-rmse:0.133547\ttrain-rmspe:0.061109\tvalid-rmspe:0.122935\n",
      "[4230]\ttrain-rmse:0.059004\tvalid-rmse:0.133546\ttrain-rmspe:0.061063\tvalid-rmspe:0.122934\n",
      "[4240]\ttrain-rmse:0.058962\tvalid-rmse:0.133555\ttrain-rmspe:0.061012\tvalid-rmspe:0.12294\n",
      "[4250]\ttrain-rmse:0.058915\tvalid-rmse:0.133553\ttrain-rmspe:0.060952\tvalid-rmspe:0.122941\n",
      "[4260]\ttrain-rmse:0.058876\tvalid-rmse:0.133546\ttrain-rmspe:0.060906\tvalid-rmspe:0.122938\n",
      "[4270]\ttrain-rmse:0.058833\tvalid-rmse:0.13355\ttrain-rmspe:0.060833\tvalid-rmspe:0.122935\n",
      "[4280]\ttrain-rmse:0.05879\tvalid-rmse:0.133552\ttrain-rmspe:0.060783\tvalid-rmspe:0.122938\n",
      "[4290]\ttrain-rmse:0.058751\tvalid-rmse:0.13356\ttrain-rmspe:0.060737\tvalid-rmspe:0.122938\n",
      "[4300]\ttrain-rmse:0.058702\tvalid-rmse:0.133556\ttrain-rmspe:0.060679\tvalid-rmspe:0.122932\n",
      "[4310]\ttrain-rmse:0.058665\tvalid-rmse:0.133551\ttrain-rmspe:0.060636\tvalid-rmspe:0.122929\n",
      "[4320]\ttrain-rmse:0.058627\tvalid-rmse:0.133546\ttrain-rmspe:0.060592\tvalid-rmspe:0.122923\n",
      "[4330]\ttrain-rmse:0.058583\tvalid-rmse:0.133539\ttrain-rmspe:0.060536\tvalid-rmspe:0.122921\n",
      "[4340]\ttrain-rmse:0.058539\tvalid-rmse:0.133532\ttrain-rmspe:0.060488\tvalid-rmspe:0.122916\n",
      "[4350]\ttrain-rmse:0.058499\tvalid-rmse:0.133529\ttrain-rmspe:0.060444\tvalid-rmspe:0.122909\n",
      "[4360]\ttrain-rmse:0.058458\tvalid-rmse:0.133533\ttrain-rmspe:0.060393\tvalid-rmspe:0.122907\n",
      "[4370]\ttrain-rmse:0.058417\tvalid-rmse:0.133526\ttrain-rmspe:0.060347\tvalid-rmspe:0.122895\n",
      "[4380]\ttrain-rmse:0.05838\tvalid-rmse:0.133514\ttrain-rmspe:0.060306\tvalid-rmspe:0.122889\n",
      "[4390]\ttrain-rmse:0.058338\tvalid-rmse:0.133539\ttrain-rmspe:0.060258\tvalid-rmspe:0.122889\n",
      "[4400]\ttrain-rmse:0.058299\tvalid-rmse:0.133543\ttrain-rmspe:0.060212\tvalid-rmspe:0.12289\n",
      "[4410]\ttrain-rmse:0.058258\tvalid-rmse:0.133534\ttrain-rmspe:0.060163\tvalid-rmspe:0.122888\n",
      "[4420]\ttrain-rmse:0.058226\tvalid-rmse:0.133533\ttrain-rmspe:0.060128\tvalid-rmspe:0.122886\n",
      "[4430]\ttrain-rmse:0.058183\tvalid-rmse:0.133523\ttrain-rmspe:0.060078\tvalid-rmspe:0.122876\n",
      "[4440]\ttrain-rmse:0.05814\tvalid-rmse:0.133508\ttrain-rmspe:0.060025\tvalid-rmspe:0.122867\n",
      "[4450]\ttrain-rmse:0.058097\tvalid-rmse:0.133504\ttrain-rmspe:0.059965\tvalid-rmspe:0.122863\n",
      "[4460]\ttrain-rmse:0.058054\tvalid-rmse:0.133498\ttrain-rmspe:0.059903\tvalid-rmspe:0.122855\n",
      "[4470]\ttrain-rmse:0.05801\tvalid-rmse:0.133476\ttrain-rmspe:0.059856\tvalid-rmspe:0.122846\n",
      "[4480]\ttrain-rmse:0.05797\tvalid-rmse:0.133466\ttrain-rmspe:0.059797\tvalid-rmspe:0.122833\n",
      "[4490]\ttrain-rmse:0.057926\tvalid-rmse:0.133465\ttrain-rmspe:0.059744\tvalid-rmspe:0.122825\n",
      "[4500]\ttrain-rmse:0.057891\tvalid-rmse:0.133451\ttrain-rmspe:0.059707\tvalid-rmspe:0.122815\n",
      "[4510]\ttrain-rmse:0.057852\tvalid-rmse:0.13343\ttrain-rmspe:0.059663\tvalid-rmspe:0.122801\n",
      "[4520]\ttrain-rmse:0.057807\tvalid-rmse:0.133408\ttrain-rmspe:0.059591\tvalid-rmspe:0.122793\n",
      "[4530]\ttrain-rmse:0.057769\tvalid-rmse:0.133412\ttrain-rmspe:0.059549\tvalid-rmspe:0.122795\n",
      "[4540]\ttrain-rmse:0.057725\tvalid-rmse:0.133418\ttrain-rmspe:0.059499\tvalid-rmspe:0.122801\n",
      "[4550]\ttrain-rmse:0.057686\tvalid-rmse:0.133413\ttrain-rmspe:0.059455\tvalid-rmspe:0.1228\n",
      "[4560]\ttrain-rmse:0.057644\tvalid-rmse:0.133418\ttrain-rmspe:0.059407\tvalid-rmspe:0.122805\n",
      "[4570]\ttrain-rmse:0.057607\tvalid-rmse:0.133414\ttrain-rmspe:0.059365\tvalid-rmspe:0.122803\n",
      "[4580]\ttrain-rmse:0.05757\tvalid-rmse:0.13342\ttrain-rmspe:0.059322\tvalid-rmspe:0.1228\n",
      "[4590]\ttrain-rmse:0.057524\tvalid-rmse:0.133409\ttrain-rmspe:0.059256\tvalid-rmspe:0.122791\n",
      "[4600]\ttrain-rmse:0.057485\tvalid-rmse:0.133405\ttrain-rmspe:0.059212\tvalid-rmspe:0.122788\n",
      "[4610]\ttrain-rmse:0.057448\tvalid-rmse:0.133393\ttrain-rmspe:0.059171\tvalid-rmspe:0.122778\n",
      "[4620]\ttrain-rmse:0.057409\tvalid-rmse:0.1334\ttrain-rmspe:0.059124\tvalid-rmspe:0.122782\n",
      "[4630]\ttrain-rmse:0.05737\tvalid-rmse:0.133394\ttrain-rmspe:0.059076\tvalid-rmspe:0.122779\n",
      "[4640]\ttrain-rmse:0.05733\tvalid-rmse:0.133397\ttrain-rmspe:0.059031\tvalid-rmspe:0.122778\n"
     ]
    },
    {
     "name": "stdout",
     "output_type": "stream",
     "text": [
      "[4650]\ttrain-rmse:0.057294\tvalid-rmse:0.133393\ttrain-rmspe:0.058987\tvalid-rmspe:0.122777\n",
      "[4660]\ttrain-rmse:0.057258\tvalid-rmse:0.133388\ttrain-rmspe:0.058945\tvalid-rmspe:0.122769\n",
      "[4670]\ttrain-rmse:0.057219\tvalid-rmse:0.133383\ttrain-rmspe:0.058902\tvalid-rmspe:0.122766\n",
      "[4680]\ttrain-rmse:0.057176\tvalid-rmse:0.133383\ttrain-rmspe:0.058845\tvalid-rmspe:0.122767\n",
      "[4690]\ttrain-rmse:0.057138\tvalid-rmse:0.133383\ttrain-rmspe:0.058802\tvalid-rmspe:0.122769\n",
      "[4700]\ttrain-rmse:0.057098\tvalid-rmse:0.133374\ttrain-rmspe:0.058757\tvalid-rmspe:0.122761\n",
      "[4710]\ttrain-rmse:0.057063\tvalid-rmse:0.133375\ttrain-rmspe:0.058717\tvalid-rmspe:0.122762\n",
      "[4720]\ttrain-rmse:0.05703\tvalid-rmse:0.133361\ttrain-rmspe:0.058682\tvalid-rmspe:0.122753\n",
      "[4730]\ttrain-rmse:0.056996\tvalid-rmse:0.133347\ttrain-rmspe:0.058646\tvalid-rmspe:0.122743\n",
      "[4740]\ttrain-rmse:0.056958\tvalid-rmse:0.133346\ttrain-rmspe:0.058601\tvalid-rmspe:0.122743\n",
      "[4750]\ttrain-rmse:0.05692\tvalid-rmse:0.133336\ttrain-rmspe:0.05856\tvalid-rmspe:0.122733\n",
      "[4760]\ttrain-rmse:0.056879\tvalid-rmse:0.133324\ttrain-rmspe:0.058513\tvalid-rmspe:0.122725\n",
      "[4770]\ttrain-rmse:0.056839\tvalid-rmse:0.133306\ttrain-rmspe:0.058467\tvalid-rmspe:0.12271\n",
      "[4780]\ttrain-rmse:0.056798\tvalid-rmse:0.133304\ttrain-rmspe:0.058416\tvalid-rmspe:0.122712\n",
      "[4790]\ttrain-rmse:0.056762\tvalid-rmse:0.133291\ttrain-rmspe:0.058376\tvalid-rmspe:0.122704\n",
      "[4800]\ttrain-rmse:0.056725\tvalid-rmse:0.133294\ttrain-rmspe:0.058331\tvalid-rmspe:0.122702\n",
      "[4810]\ttrain-rmse:0.056689\tvalid-rmse:0.133292\ttrain-rmspe:0.05829\tvalid-rmspe:0.122703\n",
      "[4820]\ttrain-rmse:0.05665\tvalid-rmse:0.13329\ttrain-rmspe:0.058247\tvalid-rmspe:0.122705\n",
      "[4830]\ttrain-rmse:0.056613\tvalid-rmse:0.133278\ttrain-rmspe:0.058205\tvalid-rmspe:0.122697\n",
      "[4840]\ttrain-rmse:0.056573\tvalid-rmse:0.133285\ttrain-rmspe:0.058159\tvalid-rmspe:0.122698\n",
      "[4850]\ttrain-rmse:0.056534\tvalid-rmse:0.133278\ttrain-rmspe:0.058114\tvalid-rmspe:0.122691\n",
      "[4860]\ttrain-rmse:0.056497\tvalid-rmse:0.133276\ttrain-rmspe:0.058074\tvalid-rmspe:0.122693\n",
      "[4870]\ttrain-rmse:0.056464\tvalid-rmse:0.133271\ttrain-rmspe:0.058035\tvalid-rmspe:0.122687\n",
      "[4880]\ttrain-rmse:0.056429\tvalid-rmse:0.133277\ttrain-rmspe:0.057997\tvalid-rmspe:0.122692\n",
      "[4890]\ttrain-rmse:0.056393\tvalid-rmse:0.133283\ttrain-rmspe:0.057953\tvalid-rmspe:0.122694\n",
      "[4900]\ttrain-rmse:0.056356\tvalid-rmse:0.133271\ttrain-rmspe:0.057911\tvalid-rmspe:0.122684\n",
      "[4910]\ttrain-rmse:0.05632\tvalid-rmse:0.133268\ttrain-rmspe:0.057871\tvalid-rmspe:0.122681\n",
      "[4920]\ttrain-rmse:0.056284\tvalid-rmse:0.13326\ttrain-rmspe:0.057829\tvalid-rmspe:0.122678\n",
      "[4930]\ttrain-rmse:0.056247\tvalid-rmse:0.133241\ttrain-rmspe:0.057787\tvalid-rmspe:0.122666\n",
      "[4940]\ttrain-rmse:0.056209\tvalid-rmse:0.133244\ttrain-rmspe:0.057744\tvalid-rmspe:0.122669\n",
      "[4950]\ttrain-rmse:0.05617\tvalid-rmse:0.133247\ttrain-rmspe:0.057701\tvalid-rmspe:0.122663\n",
      "[4960]\ttrain-rmse:0.056137\tvalid-rmse:0.13325\ttrain-rmspe:0.057664\tvalid-rmspe:0.122663\n",
      "[4970]\ttrain-rmse:0.056095\tvalid-rmse:0.133249\ttrain-rmspe:0.057614\tvalid-rmspe:0.122659\n",
      "[4980]\ttrain-rmse:0.05606\tvalid-rmse:0.133254\ttrain-rmspe:0.057575\tvalid-rmspe:0.12266\n",
      "[4990]\ttrain-rmse:0.056023\tvalid-rmse:0.133279\ttrain-rmspe:0.057534\tvalid-rmspe:0.122665\n",
      "[5000]\ttrain-rmse:0.055988\tvalid-rmse:0.133276\ttrain-rmspe:0.057496\tvalid-rmspe:0.122661\n",
      "[5010]\ttrain-rmse:0.055947\tvalid-rmse:0.133289\ttrain-rmspe:0.057451\tvalid-rmspe:0.122664\n",
      "[5020]\ttrain-rmse:0.055909\tvalid-rmse:0.133308\ttrain-rmspe:0.057409\tvalid-rmspe:0.122671\n",
      "[5030]\ttrain-rmse:0.055875\tvalid-rmse:0.133311\ttrain-rmspe:0.057369\tvalid-rmspe:0.122673\n",
      "[5040]\ttrain-rmse:0.055838\tvalid-rmse:0.133284\ttrain-rmspe:0.057327\tvalid-rmspe:0.12266\n",
      "[5050]\ttrain-rmse:0.055798\tvalid-rmse:0.133281\ttrain-rmspe:0.057281\tvalid-rmspe:0.122657\n",
      "[5060]\ttrain-rmse:0.055759\tvalid-rmse:0.133285\ttrain-rmspe:0.057238\tvalid-rmspe:0.12266\n",
      "[5070]\ttrain-rmse:0.055726\tvalid-rmse:0.133279\ttrain-rmspe:0.057201\tvalid-rmspe:0.122655\n",
      "[5080]\ttrain-rmse:0.055692\tvalid-rmse:0.133278\ttrain-rmspe:0.057163\tvalid-rmspe:0.122658\n",
      "[5090]\ttrain-rmse:0.055657\tvalid-rmse:0.133264\ttrain-rmspe:0.057123\tvalid-rmspe:0.122649\n",
      "[5100]\ttrain-rmse:0.05562\tvalid-rmse:0.133263\ttrain-rmspe:0.057078\tvalid-rmspe:0.122647\n",
      "[5110]\ttrain-rmse:0.055585\tvalid-rmse:0.133265\ttrain-rmspe:0.057039\tvalid-rmspe:0.122648\n",
      "[5120]\ttrain-rmse:0.05555\tvalid-rmse:0.133267\ttrain-rmspe:0.056998\tvalid-rmspe:0.122652\n",
      "[5130]\ttrain-rmse:0.055513\tvalid-rmse:0.13326\ttrain-rmspe:0.056947\tvalid-rmspe:0.122645\n",
      "[5140]\ttrain-rmse:0.05548\tvalid-rmse:0.133255\ttrain-rmspe:0.056906\tvalid-rmspe:0.122641\n",
      "[5150]\ttrain-rmse:0.055444\tvalid-rmse:0.133254\ttrain-rmspe:0.056862\tvalid-rmspe:0.122637\n",
      "[5160]\ttrain-rmse:0.055408\tvalid-rmse:0.133247\ttrain-rmspe:0.056821\tvalid-rmspe:0.122631\n",
      "[5170]\ttrain-rmse:0.05537\tvalid-rmse:0.133246\ttrain-rmspe:0.056776\tvalid-rmspe:0.122628\n",
      "[5180]\ttrain-rmse:0.055338\tvalid-rmse:0.133241\ttrain-rmspe:0.056741\tvalid-rmspe:0.122626\n",
      "[5190]\ttrain-rmse:0.055301\tvalid-rmse:0.133239\ttrain-rmspe:0.056695\tvalid-rmspe:0.122626\n",
      "[5200]\ttrain-rmse:0.055272\tvalid-rmse:0.133246\ttrain-rmspe:0.056663\tvalid-rmspe:0.122635\n",
      "[5210]\ttrain-rmse:0.055242\tvalid-rmse:0.13324\ttrain-rmspe:0.05663\tvalid-rmspe:0.122629\n",
      "[5220]\ttrain-rmse:0.055206\tvalid-rmse:0.133236\ttrain-rmspe:0.056588\tvalid-rmspe:0.122624\n",
      "[5230]\ttrain-rmse:0.055174\tvalid-rmse:0.133238\ttrain-rmspe:0.056554\tvalid-rmspe:0.122622\n",
      "[5240]\ttrain-rmse:0.055142\tvalid-rmse:0.133235\ttrain-rmspe:0.056516\tvalid-rmspe:0.122617\n",
      "[5250]\ttrain-rmse:0.055106\tvalid-rmse:0.133232\ttrain-rmspe:0.056474\tvalid-rmspe:0.122614\n",
      "[5260]\ttrain-rmse:0.055072\tvalid-rmse:0.133233\ttrain-rmspe:0.056433\tvalid-rmspe:0.122615\n",
      "[5270]\ttrain-rmse:0.055041\tvalid-rmse:0.133232\ttrain-rmspe:0.056402\tvalid-rmspe:0.122614\n",
      "[5280]\ttrain-rmse:0.05501\tvalid-rmse:0.133231\ttrain-rmspe:0.056366\tvalid-rmspe:0.122615\n",
      "[5290]\ttrain-rmse:0.054979\tvalid-rmse:0.133248\ttrain-rmspe:0.056331\tvalid-rmspe:0.122627\n",
      "[5300]\ttrain-rmse:0.054944\tvalid-rmse:0.133247\ttrain-rmspe:0.056294\tvalid-rmspe:0.122628\n",
      "[5310]\ttrain-rmse:0.054911\tvalid-rmse:0.133245\ttrain-rmspe:0.056257\tvalid-rmspe:0.122626\n",
      "[5320]\ttrain-rmse:0.054878\tvalid-rmse:0.133251\ttrain-rmspe:0.05622\tvalid-rmspe:0.122624\n",
      "[5330]\ttrain-rmse:0.054843\tvalid-rmse:0.13325\ttrain-rmspe:0.056171\tvalid-rmspe:0.122627\n",
      "[5340]\ttrain-rmse:0.054808\tvalid-rmse:0.133251\ttrain-rmspe:0.056133\tvalid-rmspe:0.122636\n",
      "[5350]\ttrain-rmse:0.054774\tvalid-rmse:0.133253\ttrain-rmspe:0.056096\tvalid-rmspe:0.122641\n",
      "Stopping. Best iteration:\n",
      "[5255]\ttrain-rmse:0.055091\tvalid-rmse:0.133227\ttrain-rmspe:0.056457\tvalid-rmspe:0.122611\n",
      "\n"
     ]
    }
   ],
   "source": [
    "bst = xgb.train(params=param, dtrain=xg_train, num_boost_round=num_round, evals=watchlist, verbose_eval = 10,\n",
    "                 early_stopping_rounds = 100, maximize = False, feval=rmspe_xg)\n"
   ]
  },
  {
   "cell_type": "code",
   "execution_count": 114,
   "metadata": {
    "scrolled": true
   },
   "outputs": [
    {
     "data": {
      "text/plain": [
       "<matplotlib.axes._subplots.AxesSubplot at 0x11ae5cc18>"
      ]
     },
     "execution_count": 114,
     "metadata": {},
     "output_type": "execute_result"
    },
    {
     "data": {
      "image/png": "[encoded data removed]",
      "text/plain": [
       "<matplotlib.figure.Figure at 0x11a9e0358>"
      ]
     },
     "metadata": {},
     "output_type": "display_data"
    }
   ],
   "source": [
    "xgb.plot_importance(bst)"
   ]
  },
  {
   "cell_type": "code",
   "execution_count": 95,
   "metadata": {
    "collapsed": true
   },
   "outputs": [],
   "source": [
    "bst.save_model(\"xgb_train2.model\")"
   ]
  },
  {
   "cell_type": "markdown",
   "metadata": {},
   "source": [
    "#### 训练3（train3）\n",
    "\n",
    "使用train_test_split来分割数据集，其余与train2相同。"
   ]
  },
  {
   "cell_type": "code",
   "execution_count": null,
   "metadata": {
    "collapsed": true
   },
   "outputs": [],
   "source": [
    "features_x = X_train.columns\n",
    "features_y = 'Sales'"
   ]
  },
  {
   "cell_type": "code",
   "execution_count": null,
   "metadata": {
    "collapsed": true
   },
   "outputs": [],
   "source": [
    "X_train, X_valid, y_train, y_valid = train_test_split(sub_all_data[features_x], sub_all_data[features_y],\n",
    "                                                    test_size=0.1, random_state=42)"
   ]
  },
  {
   "cell_type": "code",
   "execution_count": 65,
   "metadata": {},
   "outputs": [],
   "source": [
    "# 准备数据，对Y进行log处理\n",
    "X_train = train.drop(['Date', 'Sales'], axis=1)\n",
    "Y_train = np.log(train['Sales'] + 1)\n",
    "\n",
    "X_valid = valid.drop(['Date', 'Sales'], axis=1)\n",
    "Y_valid = np.log(valid['Sales'] + 1)\n",
    "\n",
    "#X_test = test.drop(['Date', 'Sales'], axis=1)\n",
    "#Y_test = np.log(test['Sales'] + 1)\n",
    "#xg_test = xgb.DMatrix(X_test, label = Y_test)\n",
    "\n",
    "xg_train = xgb.DMatrix(X_train, label=Y_train)\n",
    "xg_valid = xgb.DMatrix(X_valid, label=Y_valid)\n",
    "watchlist = [(xg_train, 'train'), (xg_valid, 'valid')]"
   ]
  },
  {
   "cell_type": "code",
   "execution_count": 67,
   "metadata": {},
   "outputs": [],
   "source": [
    "xg_train = xgb.DMatrix(X_train, Y_train)\n",
    "xg_valid = xgb.DMatrix(X_valid, Y_valid)\n",
    "watchlist = [(xg_train, 'train'), (xg_valid, 'valid')]"
   ]
  },
  {
   "cell_type": "code",
   "execution_count": 68,
   "metadata": {
    "collapsed": true
   },
   "outputs": [],
   "source": [
    "param = {'max_depth':10, 'eta':0.03, 'subsample':0.8, 'colsample_bytree':0.7, 'silent':1, \n",
    "         'objective':'reg:linear' , 'booster': \"gbtree\", 'nthread':6, 'seed':seeds}\n",
    "num_round = 10000"
   ]
  },
  {
   "cell_type": "code",
   "execution_count": 69,
   "metadata": {},
   "outputs": [
    {
     "name": "stdout",
     "output_type": "stream",
     "text": [
      "[0]\ttrain-rmse:7.16818\tvalid-rmse:7.45304\ttrain-rmspe:0.893587\tvalid-rmspe:0.926403\n",
      "Multiple eval metrics have been passed: 'valid-rmspe' will be used for early stopping.\n",
      "\n",
      "Will train until valid-rmspe hasn't improved in 100 rounds.\n",
      "[1]\ttrain-rmse:6.95339\tvalid-rmse:7.23082\ttrain-rmspe:0.8935\tvalid-rmspe:0.926315\n",
      "[2]\ttrain-rmse:6.74506\tvalid-rmse:7.01535\ttrain-rmspe:0.893394\tvalid-rmspe:0.926208\n",
      "[3]\ttrain-rmse:6.54298\tvalid-rmse:6.80629\ttrain-rmspe:0.893264\tvalid-rmspe:0.926078\n",
      "[4]\ttrain-rmse:6.36983\tvalid-rmse:6.64027\ttrain-rmspe:0.893123\tvalid-rmspe:0.92595\n",
      "[5]\ttrain-rmse:6.17902\tvalid-rmse:6.44267\ttrain-rmspe:0.892938\tvalid-rmspe:0.925767\n",
      "[6]\ttrain-rmse:5.99757\tvalid-rmse:6.25799\ttrain-rmspe:0.892721\tvalid-rmspe:0.925557\n",
      "[7]\ttrain-rmse:5.818\tvalid-rmse:6.07139\ttrain-rmspe:0.892459\tvalid-rmspe:0.925298\n",
      "[8]\ttrain-rmse:5.64827\tvalid-rmse:5.89636\ttrain-rmspe:0.892156\tvalid-rmspe:0.925002\n",
      "[9]\ttrain-rmse:5.47915\tvalid-rmse:5.72167\ttrain-rmspe:0.891794\tvalid-rmspe:0.924647\n"
     ]
    },
    {
     "ename": "KeyboardInterrupt",
     "evalue": "",
     "output_type": "error",
     "traceback": [
      "\u001b[0;31m---------------------------------------------------------------------------\u001b[0m",
      "\u001b[0;31mKeyboardInterrupt\u001b[0m                         Traceback (most recent call last)",
      "\u001b[0;32m<ipython-input-69-041e445acf69>\u001b[0m in \u001b[0;36m<module>\u001b[0;34m()\u001b[0m\n\u001b[1;32m      1\u001b[0m bst = xgb.train(params=param, dtrain=xg_train, num_boost_round=num_round, evals=watchlist, verbose_eval = 1,\n\u001b[0;32m----> 2\u001b[0;31m                  early_stopping_rounds = 100, maximize = False, feval=rmspe_xg)\n\u001b[0m",
      "\u001b[0;32m/Users/mingj/anaconda/lib/python3.6/site-packages/xgboost-0.6-py3.6.egg/xgboost/training.py\u001b[0m in \u001b[0;36mtrain\u001b[0;34m(params, dtrain, num_boost_round, evals, obj, feval, maximize, early_stopping_rounds, evals_result, verbose_eval, xgb_model, callbacks, learning_rates)\u001b[0m\n\u001b[1;32m    202\u001b[0m                            \u001b[0mevals\u001b[0m\u001b[0;34m=\u001b[0m\u001b[0mevals\u001b[0m\u001b[0;34m,\u001b[0m\u001b[0;34m\u001b[0m\u001b[0m\n\u001b[1;32m    203\u001b[0m                            \u001b[0mobj\u001b[0m\u001b[0;34m=\u001b[0m\u001b[0mobj\u001b[0m\u001b[0;34m,\u001b[0m \u001b[0mfeval\u001b[0m\u001b[0;34m=\u001b[0m\u001b[0mfeval\u001b[0m\u001b[0;34m,\u001b[0m\u001b[0;34m\u001b[0m\u001b[0m\n\u001b[0;32m--> 204\u001b[0;31m                            xgb_model=xgb_model, callbacks=callbacks)\n\u001b[0m\u001b[1;32m    205\u001b[0m \u001b[0;34m\u001b[0m\u001b[0m\n\u001b[1;32m    206\u001b[0m \u001b[0;34m\u001b[0m\u001b[0m\n",
      "\u001b[0;32m/Users/mingj/anaconda/lib/python3.6/site-packages/xgboost-0.6-py3.6.egg/xgboost/training.py\u001b[0m in \u001b[0;36m_train_internal\u001b[0;34m(params, dtrain, num_boost_round, evals, obj, feval, xgb_model, callbacks)\u001b[0m\n\u001b[1;32m     72\u001b[0m         \u001b[0;31m# Skip the first update if it is a recovery step.\u001b[0m\u001b[0;34m\u001b[0m\u001b[0;34m\u001b[0m\u001b[0m\n\u001b[1;32m     73\u001b[0m         \u001b[0;32mif\u001b[0m \u001b[0mversion\u001b[0m \u001b[0;34m%\u001b[0m \u001b[0;36m2\u001b[0m \u001b[0;34m==\u001b[0m \u001b[0;36m0\u001b[0m\u001b[0;34m:\u001b[0m\u001b[0;34m\u001b[0m\u001b[0m\n\u001b[0;32m---> 74\u001b[0;31m             \u001b[0mbst\u001b[0m\u001b[0;34m.\u001b[0m\u001b[0mupdate\u001b[0m\u001b[0;34m(\u001b[0m\u001b[0mdtrain\u001b[0m\u001b[0;34m,\u001b[0m \u001b[0mi\u001b[0m\u001b[0;34m,\u001b[0m \u001b[0mobj\u001b[0m\u001b[0;34m)\u001b[0m\u001b[0;34m\u001b[0m\u001b[0m\n\u001b[0m\u001b[1;32m     75\u001b[0m             \u001b[0mbst\u001b[0m\u001b[0;34m.\u001b[0m\u001b[0msave_rabit_checkpoint\u001b[0m\u001b[0;34m(\u001b[0m\u001b[0;34m)\u001b[0m\u001b[0;34m\u001b[0m\u001b[0m\n\u001b[1;32m     76\u001b[0m             \u001b[0mversion\u001b[0m \u001b[0;34m+=\u001b[0m \u001b[0;36m1\u001b[0m\u001b[0;34m\u001b[0m\u001b[0m\n",
      "\u001b[0;32m/Users/mingj/anaconda/lib/python3.6/site-packages/xgboost-0.6-py3.6.egg/xgboost/core.py\u001b[0m in \u001b[0;36mupdate\u001b[0;34m(self, dtrain, iteration, fobj)\u001b[0m\n\u001b[1;32m    884\u001b[0m         \u001b[0;32mif\u001b[0m \u001b[0mfobj\u001b[0m \u001b[0;32mis\u001b[0m \u001b[0;32mNone\u001b[0m\u001b[0;34m:\u001b[0m\u001b[0;34m\u001b[0m\u001b[0m\n\u001b[1;32m    885\u001b[0m             _check_call(_LIB.XGBoosterUpdateOneIter(self.handle, ctypes.c_int(iteration),\n\u001b[0;32m--> 886\u001b[0;31m                                                     dtrain.handle))\n\u001b[0m\u001b[1;32m    887\u001b[0m         \u001b[0;32melse\u001b[0m\u001b[0;34m:\u001b[0m\u001b[0;34m\u001b[0m\u001b[0m\n\u001b[1;32m    888\u001b[0m             \u001b[0mpred\u001b[0m \u001b[0;34m=\u001b[0m \u001b[0mself\u001b[0m\u001b[0;34m.\u001b[0m\u001b[0mpredict\u001b[0m\u001b[0;34m(\u001b[0m\u001b[0mdtrain\u001b[0m\u001b[0;34m)\u001b[0m\u001b[0;34m\u001b[0m\u001b[0m\n",
      "\u001b[0;31mKeyboardInterrupt\u001b[0m: "
     ]
    }
   ],
   "source": [
    "bst = xgb.train(params=param, dtrain=xg_train, num_boost_round=num_round, evals=watchlist, verbose_eval = 1,\n",
    "                 early_stopping_rounds = 100, maximize = False, feval=rmspe_xg)\n"
   ]
  },
  {
   "cell_type": "markdown",
   "metadata": {},
   "source": [
    "### 模型预测\n",
    "\n",
    "#### 在`valid`数据集上检验模型预测精度"
   ]
  },
  {
   "cell_type": "code",
   "execution_count": 24,
   "metadata": {
    "collapsed": true
   },
   "outputs": [],
   "source": [
    "# 加载训练好的模型\n",
    "# bst = xgb.Booster(model_file=\"xgb_step2.model\")"
   ]
  },
  {
   "cell_type": "code",
   "execution_count": 100,
   "metadata": {},
   "outputs": [
    {
     "data": {
      "text/plain": [
       "Index(['Store', 'Open', 'Promo', 'SchoolHoliday', 'DayOfWeek_1', 'DayOfWeek_2',\n",
       "       'DayOfWeek_3', 'DayOfWeek_4', 'DayOfWeek_5', 'DayOfWeek_6',\n",
       "       'DayOfWeek_7', 'StateHoliday_0', 'StateHoliday_a', 'StateHoliday_b',\n",
       "       'StateHoliday_c', 'Assortment', 'CompetitionDistance', 'StoreType_0',\n",
       "       'StoreType_a', 'StoreType_b', 'StoreType_c', 'StoreType_d',\n",
       "       'CompeteOpen', 'Promo2Active', 'week', 'month', 'year', 'day',\n",
       "       'DayofYear', 'SalesPerDay', 'CustomersPerDay',\n",
       "       'SalesPerCustomersPerDay'],\n",
       "      dtype='object')"
      ]
     },
     "metadata": {},
     "output_type": "display_data"
    },
    {
     "data": {
      "text/plain": [
       "Index(['Id', 'Store', 'Date', 'Open', 'Promo', 'SchoolHoliday', 'DayOfWeek_1',\n",
       "       'DayOfWeek_2', 'DayOfWeek_3', 'DayOfWeek_4', 'DayOfWeek_5',\n",
       "       'DayOfWeek_6', 'DayOfWeek_7', 'StateHoliday_0', 'StateHoliday_a',\n",
       "       'StateHoliday_b', 'StateHoliday_c', 'Assortment', 'CompetitionDistance',\n",
       "       'StoreType_0', 'StoreType_a', 'StoreType_b', 'StoreType_c',\n",
       "       'StoreType_d', 'CompeteOpen', 'Promo2Active', 'week', 'month', 'year',\n",
       "       'day', 'DayofYear'],\n",
       "      dtype='object')"
      ]
     },
     "execution_count": 100,
     "metadata": {},
     "output_type": "execute_result"
    }
   ],
   "source": [
    "display(X_train.columns)\n",
    "sub_all_test.columns"
   ]
  },
  {
   "cell_type": "code",
   "execution_count": 96,
   "metadata": {},
   "outputs": [
    {
     "name": "stdout",
     "output_type": "stream",
     "text": [
      "RMSPE准确率为： 0.122632807387\n"
     ]
    }
   ],
   "source": [
    "# 看一下在valid上的预测效果\n",
    "pred_valid = bst.predict(xg_valid, output_margin = True)\n",
    "# real_pred_valid = revive_sales(data = X_valid, pred = pred_valid)\n",
    "real_pred_valid = (np.exp(pred_valid) - 1) #* 0.985\n",
    "acc = rmspe(real_pred_valid, valid['Sales'].values)\n",
    "print(\"RMSPE准确率为：\", acc)"
   ]
  },
  {
   "cell_type": "markdown",
   "metadata": {},
   "source": [
    "#### 在`test`数据集上检验模型预测精度\n",
    "\n",
    "**将preds整理成为可以提交到kaggle的格式，来验证模型的预测效果**"
   ]
  },
  {
   "cell_type": "code",
   "execution_count": 108,
   "metadata": {
    "collapsed": true
   },
   "outputs": [],
   "source": [
    "xg_test = xgb.DMatrix(sub_all_test.drop(['Id', 'Date'], axis=1))"
   ]
  },
  {
   "cell_type": "code",
   "execution_count": 109,
   "metadata": {
    "collapsed": true
   },
   "outputs": [],
   "source": [
    "pred = bst.predict(xg_test, output_margin = True)\n",
    "#RMSPE = evalerror(preds = pred, dtrain = Y_test.values, evals = False)\n",
    "#print(\"在测试集（Test）上的RMSPE值为：\", RMSPE[1])"
   ]
  },
  {
   "cell_type": "code",
   "execution_count": 110,
   "metadata": {},
   "outputs": [
    {
     "data": {
      "text/plain": [
       "(41088,)"
      ]
     },
     "metadata": {},
     "output_type": "display_data"
    },
    {
     "data": {
      "text/plain": [
       "array([ 3859.99194336,  7426.34570312,  8697.85546875,  7074.75537109,\n",
       "        7156.38720703,  5624.21533203,  7016.89306641,  7782.41992188,\n",
       "        3680.68701172], dtype=float32)"
      ]
     },
     "execution_count": 110,
     "metadata": {},
     "output_type": "execute_result"
    }
   ],
   "source": [
    "real_preds = (np.exp(pred) - 1) # revive_sales(data = sub_all_test, pred = pred)\n",
    "display(real_preds.shape)\n",
    "real_preds[0:9]"
   ]
  },
  {
   "cell_type": "code",
   "execution_count": 111,
   "metadata": {
    "collapsed": true
   },
   "outputs": [],
   "source": [
    "# 将array增加到dataframe中\n",
    "submission = all_test[['Id']]\n",
    "submission.insert(1, 'Sales', real_preds)\n",
    "submission.to_csv(\"./结果提交/submission_train2.csv\", index = False, sep=',')\n"
   ]
  },
  {
   "cell_type": "markdown",
   "metadata": {},
   "source": [
    "## 可视化\n",
    "\n",
    "对店铺1进行可视化"
   ]
  },
  {
   "cell_type": "code",
   "execution_count": 229,
   "metadata": {},
   "outputs": [
    {
     "data": {
      "text/html": [
       "<div>\n",
       "<style>\n",
       "    .dataframe thead tr:only-child th {\n",
       "        text-align: right;\n",
       "    }\n",
       "\n",
       "    .dataframe thead th {\n",
       "        text-align: left;\n",
       "    }\n",
       "\n",
       "    .dataframe tbody tr th {\n",
       "        vertical-align: top;\n",
       "    }\n",
       "</style>\n",
       "<table border=\"1\" class=\"dataframe\">\n",
       "  <thead>\n",
       "    <tr style=\"text-align: right;\">\n",
       "      <th></th>\n",
       "      <th>Date</th>\n",
       "      <th>Sales</th>\n",
       "      <th>pred</th>\n",
       "    </tr>\n",
       "  </thead>\n",
       "  <tbody>\n",
       "    <tr>\n",
       "      <th>0</th>\n",
       "      <td>2015-07-31</td>\n",
       "      <td>5263</td>\n",
       "      <td>5212.877930</td>\n",
       "    </tr>\n",
       "    <tr>\n",
       "      <th>1115</th>\n",
       "      <td>2015-07-30</td>\n",
       "      <td>5020</td>\n",
       "      <td>5134.017578</td>\n",
       "    </tr>\n",
       "    <tr>\n",
       "      <th>2230</th>\n",
       "      <td>2015-07-29</td>\n",
       "      <td>4782</td>\n",
       "      <td>4794.335938</td>\n",
       "    </tr>\n",
       "    <tr>\n",
       "      <th>3345</th>\n",
       "      <td>2015-07-28</td>\n",
       "      <td>5011</td>\n",
       "      <td>5201.930176</td>\n",
       "    </tr>\n",
       "    <tr>\n",
       "      <th>4460</th>\n",
       "      <td>2015-07-27</td>\n",
       "      <td>6102</td>\n",
       "      <td>5873.471680</td>\n",
       "    </tr>\n",
       "  </tbody>\n",
       "</table>\n",
       "</div>"
      ],
      "text/plain": [
       "           Date  Sales         pred\n",
       "0    2015-07-31   5263  5212.877930\n",
       "1115 2015-07-30   5020  5134.017578\n",
       "2230 2015-07-29   4782  4794.335938\n",
       "3345 2015-07-28   5011  5201.930176\n",
       "4460 2015-07-27   6102  5873.471680"
      ]
     },
     "execution_count": 229,
     "metadata": {},
     "output_type": "execute_result"
    }
   ],
   "source": [
    "index_storeN = np.where(test.Store == 1)[0].tolist()\n",
    "storeN = test.loc[index_storeN, ['Date', 'Sales']]\n",
    "storeN_pred = pred[index_storeN]\n",
    "storeN_pred = np.exp(storeN_pred) - 1\n",
    "storeN_pred = DataFrame(storeN_pred, index=storeN.index, columns=['pred'])\n",
    "\n",
    "plot_data = storeN.join(storeN_pred)\n",
    "plot_data.head()"
   ]
  },
  {
   "cell_type": "code",
   "execution_count": 230,
   "metadata": {},
   "outputs": [
    {
     "data": {
      "image/png": "[encoded data removed]",
      "text/plain": [
       "<matplotlib.figure.Figure at 0x1442449b0>"
      ]
     },
     "metadata": {},
     "output_type": "display_data"
    }
   ],
   "source": [
    "import matplotlib.pyplot as plt\n",
    "plt.plot(plot_data.Date, plot_data.Sales, marker='o', mec='r', mfc='w',label=u'y')\n",
    "plt.plot(plot_data.Date, plot_data.pred, marker='o', mec='b', mfc='w',label=u'y_hat')\n",
    "plt.legend()\n",
    "plt.show()"
   ]
  },
  {
   "cell_type": "markdown",
   "metadata": {},
   "source": [
    "- 从上图的结果可以看出来，预测值与真实值很接近，几乎重合\n",
    "\n",
    "对店铺8进行可视化"
   ]
  },
  {
   "cell_type": "code",
   "execution_count": 232,
   "metadata": {},
   "outputs": [
    {
     "data": {
      "image/png": "[encoded data removed]",
      "text/plain": [
       "<matplotlib.figure.Figure at 0x120c2d550>"
      ]
     },
     "metadata": {},
     "output_type": "display_data"
    }
   ],
   "source": [
    "index_storeN = np.where(test.Store == 8)[0].tolist()\n",
    "storeN = test.loc[index_storeN, ['Date', 'Sales']]\n",
    "storeN_pred = pred[index_storeN]\n",
    "storeN_pred = np.exp(storeN_pred) - 1\n",
    "storeN_pred = DataFrame(storeN_pred, index=storeN.index, columns=['pred'])\n",
    "\n",
    "plot_data = storeN.join(storeN_pred)\n",
    "plot_data.head()\n",
    "\n",
    "## plot\n",
    "import matplotlib.pyplot as plt\n",
    "plt.plot(plot_data.Date, plot_data.Sales, marker='o', mec='r', mfc='w',label=u'y')\n",
    "plt.plot(plot_data.Date, plot_data.pred, marker='o', mec='b', mfc='w',label=u'y_hat')\n",
    "plt.legend()\n",
    "plt.show()"
   ]
  },
  {
   "cell_type": "code",
   "execution_count": null,
   "metadata": {
    "collapsed": true
   },
   "outputs": [],
   "source": []
  }
 ],
 "metadata": {
  "kernelspec": {
   "display_name": "Python 3",
   "language": "python",
   "name": "python3"
  },
  "language_info": {
   "codemirror_mode": {
    "name": "ipython",
    "version": 3
   },
   "file_extension": ".py",
   "mimetype": "text/x-python",
   "name": "python",
   "nbconvert_exporter": "python",
   "pygments_lexer": "ipython3",
   "version": "3.6.1"
  }
 },
 "nbformat": 4,
 "nbformat_minor": 2
}
