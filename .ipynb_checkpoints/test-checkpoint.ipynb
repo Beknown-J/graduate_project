{
 "cells": [
  {
   "cell_type": "markdown",
   "metadata": {},
   "source": [
    "## 探究特征差异"
   ]
  },
  {
   "cell_type": "code",
   "execution_count": 5,
   "metadata": {
    "collapsed": true
   },
   "outputs": [],
   "source": [
    "import pandas as pd\n",
    "from pandas import Series, DataFrame\n",
    "import itertools\n",
    "import numpy as np\n",
    "from datetime import datetime, date\n",
    "from IPython.display import display\n",
    "from datetime import datetime\n",
    "import matplotlib.pyplot as plt\n",
    "import xgboost as xgb\n",
    "import math\n",
    "\n",
    "%matplotlib inline"
   ]
  },
  {
   "cell_type": "code",
   "execution_count": 4,
   "metadata": {
    "collapsed": true
   },
   "outputs": [],
   "source": [
    "# 构建评价指标\n",
    "def ToWeight(y):\n",
    "    w = np.zeros(y.shape, dtype=float)\n",
    "    ind = y != 0\n",
    "    w[ind] = 1./(y[ind]**2)\n",
    "    return w\n",
    "\n",
    "def rmspe(yhat, y):\n",
    "    w = ToWeight(y)\n",
    "    rmspe = np.sqrt(np.mean( w * (y - yhat)**2 ))\n",
    "    return rmspe\n",
    "\n",
    "# xgboost中的rmpse\n",
    "def rmspe_xg(yhat, y):\n",
    "    # y = y.values\n",
    "    y = y.get_label()\n",
    "    y = np.exp(y) - 1\n",
    "    yhat = np.exp(yhat) - 1\n",
    "    w = ToWeight(y)\n",
    "    rmspe = np.sqrt(np.mean(w * (y - yhat)**2))\n",
    "    return \"rmspe\", rmspe"
   ]
  },
  {
   "cell_type": "code",
   "execution_count": 3,
   "metadata": {},
   "outputs": [
    {
     "data": {
      "text/html": [
       "<div>\n",
       "<style>\n",
       "    .dataframe thead tr:only-child th {\n",
       "        text-align: right;\n",
       "    }\n",
       "\n",
       "    .dataframe thead th {\n",
       "        text-align: left;\n",
       "    }\n",
       "\n",
       "    .dataframe tbody tr th {\n",
       "        vertical-align: top;\n",
       "    }\n",
       "</style>\n",
       "<table border=\"1\" class=\"dataframe\">\n",
       "  <thead>\n",
       "    <tr style=\"text-align: right;\">\n",
       "      <th></th>\n",
       "      <th>Store</th>\n",
       "      <th>Date</th>\n",
       "      <th>Sales</th>\n",
       "      <th>Customers</th>\n",
       "      <th>Open</th>\n",
       "      <th>Promo</th>\n",
       "      <th>SchoolHoliday</th>\n",
       "      <th>DayOfWeek_1</th>\n",
       "      <th>DayOfWeek_2</th>\n",
       "      <th>DayOfWeek_3</th>\n",
       "      <th>...</th>\n",
       "      <th>StoreType_c</th>\n",
       "      <th>StoreType_d</th>\n",
       "      <th>CompeteOpen</th>\n",
       "      <th>Promo2Active</th>\n",
       "      <th>week</th>\n",
       "      <th>month</th>\n",
       "      <th>year</th>\n",
       "      <th>day</th>\n",
       "      <th>DayofYear</th>\n",
       "      <th>Outlier</th>\n",
       "    </tr>\n",
       "  </thead>\n",
       "  <tbody>\n",
       "    <tr>\n",
       "      <th>0</th>\n",
       "      <td>1</td>\n",
       "      <td>2015-07-31</td>\n",
       "      <td>5263</td>\n",
       "      <td>555</td>\n",
       "      <td>1</td>\n",
       "      <td>1</td>\n",
       "      <td>1</td>\n",
       "      <td>0</td>\n",
       "      <td>0</td>\n",
       "      <td>0</td>\n",
       "      <td>...</td>\n",
       "      <td>1.0</td>\n",
       "      <td>0.0</td>\n",
       "      <td>1</td>\n",
       "      <td>0.0</td>\n",
       "      <td>31</td>\n",
       "      <td>7</td>\n",
       "      <td>2015</td>\n",
       "      <td>31</td>\n",
       "      <td>212</td>\n",
       "      <td>False</td>\n",
       "    </tr>\n",
       "    <tr>\n",
       "      <th>1</th>\n",
       "      <td>2</td>\n",
       "      <td>2015-07-31</td>\n",
       "      <td>6064</td>\n",
       "      <td>625</td>\n",
       "      <td>1</td>\n",
       "      <td>1</td>\n",
       "      <td>1</td>\n",
       "      <td>0</td>\n",
       "      <td>0</td>\n",
       "      <td>0</td>\n",
       "      <td>...</td>\n",
       "      <td>0.0</td>\n",
       "      <td>0.0</td>\n",
       "      <td>1</td>\n",
       "      <td>1.0</td>\n",
       "      <td>31</td>\n",
       "      <td>7</td>\n",
       "      <td>2015</td>\n",
       "      <td>31</td>\n",
       "      <td>212</td>\n",
       "      <td>False</td>\n",
       "    </tr>\n",
       "    <tr>\n",
       "      <th>2</th>\n",
       "      <td>3</td>\n",
       "      <td>2015-07-31</td>\n",
       "      <td>8314</td>\n",
       "      <td>821</td>\n",
       "      <td>1</td>\n",
       "      <td>1</td>\n",
       "      <td>1</td>\n",
       "      <td>0</td>\n",
       "      <td>0</td>\n",
       "      <td>0</td>\n",
       "      <td>...</td>\n",
       "      <td>0.0</td>\n",
       "      <td>0.0</td>\n",
       "      <td>1</td>\n",
       "      <td>1.0</td>\n",
       "      <td>31</td>\n",
       "      <td>7</td>\n",
       "      <td>2015</td>\n",
       "      <td>31</td>\n",
       "      <td>212</td>\n",
       "      <td>False</td>\n",
       "    </tr>\n",
       "    <tr>\n",
       "      <th>3</th>\n",
       "      <td>4</td>\n",
       "      <td>2015-07-31</td>\n",
       "      <td>13995</td>\n",
       "      <td>1498</td>\n",
       "      <td>1</td>\n",
       "      <td>1</td>\n",
       "      <td>1</td>\n",
       "      <td>0</td>\n",
       "      <td>0</td>\n",
       "      <td>0</td>\n",
       "      <td>...</td>\n",
       "      <td>1.0</td>\n",
       "      <td>0.0</td>\n",
       "      <td>1</td>\n",
       "      <td>0.0</td>\n",
       "      <td>31</td>\n",
       "      <td>7</td>\n",
       "      <td>2015</td>\n",
       "      <td>31</td>\n",
       "      <td>212</td>\n",
       "      <td>False</td>\n",
       "    </tr>\n",
       "    <tr>\n",
       "      <th>4</th>\n",
       "      <td>5</td>\n",
       "      <td>2015-07-31</td>\n",
       "      <td>4822</td>\n",
       "      <td>559</td>\n",
       "      <td>1</td>\n",
       "      <td>1</td>\n",
       "      <td>1</td>\n",
       "      <td>0</td>\n",
       "      <td>0</td>\n",
       "      <td>0</td>\n",
       "      <td>...</td>\n",
       "      <td>0.0</td>\n",
       "      <td>0.0</td>\n",
       "      <td>1</td>\n",
       "      <td>0.0</td>\n",
       "      <td>31</td>\n",
       "      <td>7</td>\n",
       "      <td>2015</td>\n",
       "      <td>31</td>\n",
       "      <td>212</td>\n",
       "      <td>False</td>\n",
       "    </tr>\n",
       "  </tbody>\n",
       "</table>\n",
       "<p>5 rows × 40 columns</p>\n",
       "</div>"
      ],
      "text/plain": [
       "   Store       Date  Sales  Customers  Open  Promo  SchoolHoliday  \\\n",
       "0      1 2015-07-31   5263        555     1      1              1   \n",
       "1      2 2015-07-31   6064        625     1      1              1   \n",
       "2      3 2015-07-31   8314        821     1      1              1   \n",
       "3      4 2015-07-31  13995       1498     1      1              1   \n",
       "4      5 2015-07-31   4822        559     1      1              1   \n",
       "\n",
       "   DayOfWeek_1  DayOfWeek_2  DayOfWeek_3   ...     StoreType_c  StoreType_d  \\\n",
       "0            0            0            0   ...             1.0          0.0   \n",
       "1            0            0            0   ...             0.0          0.0   \n",
       "2            0            0            0   ...             0.0          0.0   \n",
       "3            0            0            0   ...             1.0          0.0   \n",
       "4            0            0            0   ...             0.0          0.0   \n",
       "\n",
       "   CompeteOpen  Promo2Active  week  month  year  day  DayofYear  Outlier  \n",
       "0            1           0.0    31      7  2015   31        212    False  \n",
       "1            1           1.0    31      7  2015   31        212    False  \n",
       "2            1           1.0    31      7  2015   31        212    False  \n",
       "3            1           0.0    31      7  2015   31        212    False  \n",
       "4            1           0.0    31      7  2015   31        212    False  \n",
       "\n",
       "[5 rows x 40 columns]"
      ]
     },
     "metadata": {},
     "output_type": "display_data"
    },
    {
     "data": {
      "text/html": [
       "<div>\n",
       "<style>\n",
       "    .dataframe thead tr:only-child th {\n",
       "        text-align: right;\n",
       "    }\n",
       "\n",
       "    .dataframe thead th {\n",
       "        text-align: left;\n",
       "    }\n",
       "\n",
       "    .dataframe tbody tr th {\n",
       "        vertical-align: top;\n",
       "    }\n",
       "</style>\n",
       "<table border=\"1\" class=\"dataframe\">\n",
       "  <thead>\n",
       "    <tr style=\"text-align: right;\">\n",
       "      <th></th>\n",
       "      <th>Id</th>\n",
       "      <th>Store</th>\n",
       "      <th>Date</th>\n",
       "      <th>Open</th>\n",
       "      <th>Promo</th>\n",
       "      <th>SchoolHoliday</th>\n",
       "      <th>DayOfWeek_1</th>\n",
       "      <th>DayOfWeek_2</th>\n",
       "      <th>DayOfWeek_3</th>\n",
       "      <th>DayOfWeek_4</th>\n",
       "      <th>...</th>\n",
       "      <th>StoreType_b</th>\n",
       "      <th>StoreType_c</th>\n",
       "      <th>StoreType_d</th>\n",
       "      <th>CompeteOpen</th>\n",
       "      <th>Promo2Active</th>\n",
       "      <th>week</th>\n",
       "      <th>month</th>\n",
       "      <th>year</th>\n",
       "      <th>day</th>\n",
       "      <th>DayofYear</th>\n",
       "    </tr>\n",
       "  </thead>\n",
       "  <tbody>\n",
       "    <tr>\n",
       "      <th>0</th>\n",
       "      <td>1</td>\n",
       "      <td>1</td>\n",
       "      <td>2015-09-17</td>\n",
       "      <td>1.0</td>\n",
       "      <td>1</td>\n",
       "      <td>0</td>\n",
       "      <td>0</td>\n",
       "      <td>0</td>\n",
       "      <td>0</td>\n",
       "      <td>1</td>\n",
       "      <td>...</td>\n",
       "      <td>0.0</td>\n",
       "      <td>1.0</td>\n",
       "      <td>0.0</td>\n",
       "      <td>1</td>\n",
       "      <td>0.0</td>\n",
       "      <td>38</td>\n",
       "      <td>9</td>\n",
       "      <td>2015</td>\n",
       "      <td>17</td>\n",
       "      <td>260</td>\n",
       "    </tr>\n",
       "    <tr>\n",
       "      <th>1</th>\n",
       "      <td>2</td>\n",
       "      <td>3</td>\n",
       "      <td>2015-09-17</td>\n",
       "      <td>1.0</td>\n",
       "      <td>1</td>\n",
       "      <td>0</td>\n",
       "      <td>0</td>\n",
       "      <td>0</td>\n",
       "      <td>0</td>\n",
       "      <td>1</td>\n",
       "      <td>...</td>\n",
       "      <td>0.0</td>\n",
       "      <td>0.0</td>\n",
       "      <td>0.0</td>\n",
       "      <td>1</td>\n",
       "      <td>0.0</td>\n",
       "      <td>38</td>\n",
       "      <td>9</td>\n",
       "      <td>2015</td>\n",
       "      <td>17</td>\n",
       "      <td>260</td>\n",
       "    </tr>\n",
       "    <tr>\n",
       "      <th>2</th>\n",
       "      <td>3</td>\n",
       "      <td>7</td>\n",
       "      <td>2015-09-17</td>\n",
       "      <td>1.0</td>\n",
       "      <td>1</td>\n",
       "      <td>0</td>\n",
       "      <td>0</td>\n",
       "      <td>0</td>\n",
       "      <td>0</td>\n",
       "      <td>1</td>\n",
       "      <td>...</td>\n",
       "      <td>0.0</td>\n",
       "      <td>0.0</td>\n",
       "      <td>0.0</td>\n",
       "      <td>1</td>\n",
       "      <td>0.0</td>\n",
       "      <td>38</td>\n",
       "      <td>9</td>\n",
       "      <td>2015</td>\n",
       "      <td>17</td>\n",
       "      <td>260</td>\n",
       "    </tr>\n",
       "    <tr>\n",
       "      <th>3</th>\n",
       "      <td>4</td>\n",
       "      <td>8</td>\n",
       "      <td>2015-09-17</td>\n",
       "      <td>1.0</td>\n",
       "      <td>1</td>\n",
       "      <td>0</td>\n",
       "      <td>0</td>\n",
       "      <td>0</td>\n",
       "      <td>0</td>\n",
       "      <td>1</td>\n",
       "      <td>...</td>\n",
       "      <td>0.0</td>\n",
       "      <td>0.0</td>\n",
       "      <td>0.0</td>\n",
       "      <td>1</td>\n",
       "      <td>0.0</td>\n",
       "      <td>38</td>\n",
       "      <td>9</td>\n",
       "      <td>2015</td>\n",
       "      <td>17</td>\n",
       "      <td>260</td>\n",
       "    </tr>\n",
       "    <tr>\n",
       "      <th>4</th>\n",
       "      <td>5</td>\n",
       "      <td>9</td>\n",
       "      <td>2015-09-17</td>\n",
       "      <td>1.0</td>\n",
       "      <td>1</td>\n",
       "      <td>0</td>\n",
       "      <td>0</td>\n",
       "      <td>0</td>\n",
       "      <td>0</td>\n",
       "      <td>1</td>\n",
       "      <td>...</td>\n",
       "      <td>0.0</td>\n",
       "      <td>0.0</td>\n",
       "      <td>0.0</td>\n",
       "      <td>1</td>\n",
       "      <td>0.0</td>\n",
       "      <td>38</td>\n",
       "      <td>9</td>\n",
       "      <td>2015</td>\n",
       "      <td>17</td>\n",
       "      <td>260</td>\n",
       "    </tr>\n",
       "  </tbody>\n",
       "</table>\n",
       "<p>5 rows × 38 columns</p>\n",
       "</div>"
      ],
      "text/plain": [
       "   Id  Store       Date  Open  Promo  SchoolHoliday  DayOfWeek_1  DayOfWeek_2  \\\n",
       "0   1      1 2015-09-17   1.0      1              0            0            0   \n",
       "1   2      3 2015-09-17   1.0      1              0            0            0   \n",
       "2   3      7 2015-09-17   1.0      1              0            0            0   \n",
       "3   4      8 2015-09-17   1.0      1              0            0            0   \n",
       "4   5      9 2015-09-17   1.0      1              0            0            0   \n",
       "\n",
       "   DayOfWeek_3  DayOfWeek_4    ...     StoreType_b  StoreType_c  StoreType_d  \\\n",
       "0            0            1    ...             0.0          1.0          0.0   \n",
       "1            0            1    ...             0.0          0.0          0.0   \n",
       "2            0            1    ...             0.0          0.0          0.0   \n",
       "3            0            1    ...             0.0          0.0          0.0   \n",
       "4            0            1    ...             0.0          0.0          0.0   \n",
       "\n",
       "   CompeteOpen  Promo2Active  week  month  year  day DayofYear  \n",
       "0            1           0.0    38      9  2015   17       260  \n",
       "1            1           0.0    38      9  2015   17       260  \n",
       "2            1           0.0    38      9  2015   17       260  \n",
       "3            1           0.0    38      9  2015   17       260  \n",
       "4            1           0.0    38      9  2015   17       260  \n",
       "\n",
       "[5 rows x 38 columns]"
      ]
     },
     "metadata": {},
     "output_type": "display_data"
    }
   ],
   "source": [
    "# 读取pickle文件\n",
    "all_data = pd.read_pickle('all_data_step2.pkl')\n",
    "all_test = pd.read_pickle('all_test_step2.pkl')\n",
    "display(all_data.head())\n",
    "display(all_test.head())"
   ]
  },
  {
   "cell_type": "code",
   "execution_count": 6,
   "metadata": {
    "collapsed": true
   },
   "outputs": [],
   "source": [
    "del_colums = ['Promo2SinceWeek','Promo2SinceYear','PromoInterval','Promo2','CompeteOpenDate',\n",
    "              'CompetitionOpenSinceYear','CompetitionOpenSinceMonth', 'Customers', 'Outlier']\n",
    "sub_all_data = all_data.drop(del_colums, axis=1)\n",
    "\n",
    "test_del_colums = ['Promo2SinceWeek','Promo2SinceYear','PromoInterval','Promo2','CompeteOpenDate',\n",
    "              'CompetitionOpenSinceYear','CompetitionOpenSinceMonth']\n",
    "sub_all_test = all_test.drop(test_del_colums, axis=1)"
   ]
  },
  {
   "cell_type": "code",
   "execution_count": 7,
   "metadata": {},
   "outputs": [
    {
     "data": {
      "text/plain": [
       "Index(['Store', 'Date', 'Sales', 'Open', 'Promo', 'SchoolHoliday',\n",
       "       'DayOfWeek_1', 'DayOfWeek_2', 'DayOfWeek_3', 'DayOfWeek_4',\n",
       "       'DayOfWeek_5', 'DayOfWeek_6', 'DayOfWeek_7', 'StateHoliday_0',\n",
       "       'StateHoliday_a', 'StateHoliday_b', 'StateHoliday_c', 'Assortment',\n",
       "       'CompetitionDistance', 'StoreType_0', 'StoreType_a', 'StoreType_b',\n",
       "       'StoreType_c', 'StoreType_d', 'CompeteOpen', 'Promo2Active', 'week',\n",
       "       'month', 'year', 'day', 'DayofYear'],\n",
       "      dtype='object')"
      ]
     },
     "metadata": {},
     "output_type": "display_data"
    },
    {
     "data": {
      "text/plain": [
       "Index(['Id', 'Store', 'Date', 'Open', 'Promo', 'SchoolHoliday', 'DayOfWeek_1',\n",
       "       'DayOfWeek_2', 'DayOfWeek_3', 'DayOfWeek_4', 'DayOfWeek_5',\n",
       "       'DayOfWeek_6', 'DayOfWeek_7', 'StateHoliday_0', 'StateHoliday_a',\n",
       "       'StateHoliday_b', 'StateHoliday_c', 'Assortment', 'CompetitionDistance',\n",
       "       'StoreType_0', 'StoreType_a', 'StoreType_b', 'StoreType_c',\n",
       "       'StoreType_d', 'CompeteOpen', 'Promo2Active', 'week', 'month', 'year',\n",
       "       'day', 'DayofYear'],\n",
       "      dtype='object')"
      ]
     },
     "metadata": {},
     "output_type": "display_data"
    }
   ],
   "source": [
    "display(sub_all_data.columns)\n",
    "display(sub_all_test.columns)"
   ]
  },
  {
   "cell_type": "code",
   "execution_count": 8,
   "metadata": {
    "collapsed": true
   },
   "outputs": [],
   "source": [
    "seeds = 44"
   ]
  },
  {
   "cell_type": "code",
   "execution_count": 9,
   "metadata": {
    "collapsed": true
   },
   "outputs": [],
   "source": [
    "# 这里使用位运算，可以得到两个条件的子集\n",
    "train = sub_all_data[sub_all_data.Date < datetime.strptime('2015-06-20', '%Y-%m-%d') ]\n",
    "valid = sub_all_data[sub_all_data.Date >= datetime.strptime('2015-06-20', '%Y-%m-%d')]\n",
    "#valid = sub_all_data.loc[(sub_all_data['Date'] > datetime.strptime('2015-05-08', '%Y-%m-%d')) \n",
    "                         #& (datetime.strptime('2015-06-19', '%Y-%m-%d') >= sub_all_data['Date'])]"
   ]
  },
  {
   "cell_type": "code",
   "execution_count": 10,
   "metadata": {
    "collapsed": true
   },
   "outputs": [],
   "source": [
    "# 准备数据，对Y进行log处理\n",
    "X_train = train.drop(['Date', 'Sales'], axis=1)\n",
    "Y_train = np.log(train['Sales'] + 1)\n",
    "\n",
    "X_valid = valid.drop(['Date', 'Sales'], axis=1)\n",
    "Y_valid = np.log(valid['Sales'] + 1)\n",
    "\n",
    "#X_test = test.drop(['Date', 'Sales'], axis=1)\n",
    "#Y_test = np.log(test['Sales'] + 1)\n",
    "#xg_test = xgb.DMatrix(X_test, label = Y_test)\n",
    "\n",
    "xg_train = xgb.DMatrix(X_train, label=Y_train)\n",
    "xg_valid = xgb.DMatrix(X_valid, label=Y_valid)\n",
    "watchlist = [(xg_train, 'train'), (xg_valid, 'valid')]"
   ]
  },
  {
   "cell_type": "code",
   "execution_count": 11,
   "metadata": {
    "collapsed": true
   },
   "outputs": [],
   "source": [
    "param = {'max_depth':10, 'eta':0.03, 'subsample':0.8, 'colsample_bytree':0.7, 'silent':1, \n",
    "         'objective':'reg:linear' , 'booster': \"gbtree\", 'nthread':6, 'seed':seeds}\n",
    "num_round = 1000"
   ]
  },
  {
   "cell_type": "code",
   "execution_count": 13,
   "metadata": {
    "scrolled": true
   },
   "outputs": [
    {
     "name": "stdout",
     "output_type": "stream",
     "text": [
      "[0]\ttrain-rmse:7.16847\tvalid-rmse:7.4622\ttrain-rmspe:0.893587\tvalid-rmspe:0.926404\n",
      "Multiple eval metrics have been passed: 'valid-rmspe' will be used for early stopping.\n",
      "\n",
      "Will train until valid-rmspe hasn't improved in 100 rounds.\n",
      "[1]\ttrain-rmse:6.95394\tvalid-rmse:7.23916\ttrain-rmspe:0.893499\tvalid-rmspe:0.926316\n",
      "[2]\ttrain-rmse:6.74578\tvalid-rmse:7.02364\ttrain-rmspe:0.893391\tvalid-rmspe:0.926209\n",
      "[3]\ttrain-rmse:6.54396\tvalid-rmse:6.81443\ttrain-rmspe:0.893259\tvalid-rmspe:0.926077\n",
      "[4]\ttrain-rmse:6.34812\tvalid-rmse:6.61185\ttrain-rmspe:0.8931\tvalid-rmspe:0.925919\n",
      "[5]\ttrain-rmse:6.15818\tvalid-rmse:6.41528\ttrain-rmspe:0.892908\tvalid-rmspe:0.925728\n",
      "[6]\ttrain-rmse:5.97396\tvalid-rmse:6.22401\ttrain-rmspe:0.89268\tvalid-rmspe:0.925499\n",
      "[7]\ttrain-rmse:5.79526\tvalid-rmse:6.03888\ttrain-rmspe:0.892409\tvalid-rmspe:0.925229\n",
      "[8]\ttrain-rmse:5.62192\tvalid-rmse:5.85941\ttrain-rmspe:0.892089\tvalid-rmspe:0.92491\n",
      "[9]\ttrain-rmse:5.45386\tvalid-rmse:5.68454\ttrain-rmspe:0.891713\tvalid-rmspe:0.924534\n",
      "[10]\ttrain-rmse:5.29083\tvalid-rmse:5.51595\ttrain-rmspe:0.891275\tvalid-rmspe:0.924098\n",
      "[11]\ttrain-rmse:5.13274\tvalid-rmse:5.35173\ttrain-rmspe:0.890766\tvalid-rmspe:0.923589\n",
      "[12]\ttrain-rmse:4.97938\tvalid-rmse:5.19221\ttrain-rmspe:0.89018\tvalid-rmspe:0.923002\n",
      "[13]\ttrain-rmse:4.83062\tvalid-rmse:5.03778\ttrain-rmspe:0.889507\tvalid-rmspe:0.922328\n",
      "[14]\ttrain-rmse:4.68929\tvalid-rmse:4.89386\ttrain-rmspe:0.88875\tvalid-rmspe:0.921587\n",
      "[15]\ttrain-rmse:4.54929\tvalid-rmse:4.7482\ttrain-rmspe:0.887879\tvalid-rmspe:0.920716\n",
      "[16]\ttrain-rmse:4.41351\tvalid-rmse:4.60719\ttrain-rmspe:0.886893\tvalid-rmspe:0.919732\n",
      "[17]\ttrain-rmse:4.28866\tvalid-rmse:4.48006\ttrain-rmspe:0.885844\tvalid-rmspe:0.918702\n",
      "[18]\ttrain-rmse:4.16072\tvalid-rmse:4.34657\ttrain-rmspe:0.884607\tvalid-rmspe:0.917462\n",
      "[19]\ttrain-rmse:4.0366\tvalid-rmse:4.21834\ttrain-rmspe:0.883229\tvalid-rmspe:0.916094\n",
      "[20]\ttrain-rmse:3.91622\tvalid-rmse:4.0934\ttrain-rmspe:0.881697\tvalid-rmspe:0.914566\n",
      "[21]\ttrain-rmse:3.80217\tvalid-rmse:3.97694\ttrain-rmspe:0.880027\tvalid-rmspe:0.912929\n",
      "[22]\ttrain-rmse:3.69489\tvalid-rmse:3.87767\ttrain-rmspe:0.878242\tvalid-rmspe:0.911352\n",
      "[23]\ttrain-rmse:3.58751\tvalid-rmse:3.76729\ttrain-rmspe:0.876229\tvalid-rmspe:0.909396\n",
      "[24]\ttrain-rmse:3.48074\tvalid-rmse:3.65571\ttrain-rmspe:0.873997\tvalid-rmspe:0.907185\n",
      "[25]\ttrain-rmse:3.37998\tvalid-rmse:3.55082\ttrain-rmspe:0.871616\tvalid-rmspe:0.904839\n",
      "[26]\ttrain-rmse:3.27946\tvalid-rmse:3.44614\ttrain-rmspe:0.868975\tvalid-rmspe:0.902231\n",
      "[27]\ttrain-rmse:3.18198\tvalid-rmse:3.34459\ttrain-rmspe:0.866117\tvalid-rmspe:0.899403\n",
      "[28]\ttrain-rmse:3.0874\tvalid-rmse:3.24628\ttrain-rmspe:0.863038\tvalid-rmspe:0.896362\n",
      "[29]\ttrain-rmse:3.00258\tvalid-rmse:3.15608\ttrain-rmspe:0.859929\tvalid-rmspe:0.893235\n",
      "[30]\ttrain-rmse:2.91348\tvalid-rmse:3.0631\ttrain-rmspe:0.856386\tvalid-rmspe:0.889714\n",
      "[31]\ttrain-rmse:2.82711\tvalid-rmse:2.97384\ttrain-rmspe:0.852592\tvalid-rmspe:0.88598\n",
      "[32]\ttrain-rmse:2.74333\tvalid-rmse:2.88729\ttrain-rmspe:0.848553\tvalid-rmspe:0.881999\n",
      "[33]\ttrain-rmse:2.6621\tvalid-rmse:2.80313\ttrain-rmspe:0.844257\tvalid-rmspe:0.877757\n",
      "[34]\ttrain-rmse:2.58332\tvalid-rmse:2.72152\ttrain-rmspe:0.83971\tvalid-rmspe:0.873266\n",
      "[35]\ttrain-rmse:2.50688\tvalid-rmse:2.64216\ttrain-rmspe:0.834912\tvalid-rmspe:0.868512\n",
      "[36]\ttrain-rmse:2.4328\tvalid-rmse:2.56501\ttrain-rmspe:0.829853\tvalid-rmspe:0.863486\n",
      "[37]\ttrain-rmse:2.36095\tvalid-rmse:2.49095\ttrain-rmspe:0.824536\tvalid-rmspe:0.858254\n",
      "[38]\ttrain-rmse:2.29132\tvalid-rmse:2.41804\ttrain-rmspe:0.818952\tvalid-rmspe:0.852666\n",
      "[39]\ttrain-rmse:2.22378\tvalid-rmse:2.34739\ttrain-rmspe:0.813112\tvalid-rmspe:0.846815\n",
      "[40]\ttrain-rmse:2.16324\tvalid-rmse:2.28557\ttrain-rmspe:0.807445\tvalid-rmspe:0.841268\n",
      "[41]\ttrain-rmse:2.0996\tvalid-rmse:2.21923\ttrain-rmspe:0.801119\tvalid-rmspe:0.834966\n",
      "[42]\ttrain-rmse:2.04243\tvalid-rmse:2.15943\ttrain-rmspe:0.794909\tvalid-rmspe:0.828784\n",
      "[43]\ttrain-rmse:1.98437\tvalid-rmse:2.09779\ttrain-rmspe:0.788264\tvalid-rmspe:0.822082\n",
      "[44]\ttrain-rmse:1.93066\tvalid-rmse:2.04194\ttrain-rmspe:0.781626\tvalid-rmspe:0.815462\n",
      "[45]\ttrain-rmse:1.87415\tvalid-rmse:1.9829\ttrain-rmspe:0.774379\tvalid-rmspe:0.808192\n",
      "[46]\ttrain-rmse:1.8217\tvalid-rmse:1.92893\ttrain-rmspe:0.767111\tvalid-rmspe:0.801066\n",
      "[47]\ttrain-rmse:1.76846\tvalid-rmse:1.87437\ttrain-rmspe:0.759457\tvalid-rmspe:0.793534\n",
      "[48]\ttrain-rmse:1.71692\tvalid-rmse:1.82013\ttrain-rmspe:0.751579\tvalid-rmspe:0.785599\n",
      "[49]\ttrain-rmse:1.6669\tvalid-rmse:1.76854\ttrain-rmspe:0.74352\tvalid-rmspe:0.777594\n",
      "[50]\ttrain-rmse:1.61841\tvalid-rmse:1.71885\ttrain-rmspe:0.735291\tvalid-rmspe:0.769482\n",
      "[51]\ttrain-rmse:1.57145\tvalid-rmse:1.66986\ttrain-rmspe:0.726863\tvalid-rmspe:0.761028\n",
      "[52]\ttrain-rmse:1.52585\tvalid-rmse:1.62251\ttrain-rmspe:0.71831\tvalid-rmspe:0.752481\n",
      "[53]\ttrain-rmse:1.48179\tvalid-rmse:1.57674\ttrain-rmspe:0.709562\tvalid-rmspe:0.743741\n",
      "[54]\ttrain-rmse:1.44093\tvalid-rmse:1.53509\ttrain-rmspe:0.700913\tvalid-rmspe:0.735301\n",
      "[55]\ttrain-rmse:1.39948\tvalid-rmse:1.49246\ttrain-rmspe:0.69191\tvalid-rmspe:0.726373\n",
      "[56]\ttrain-rmse:1.35933\tvalid-rmse:1.45058\ttrain-rmspe:0.682795\tvalid-rmspe:0.717221\n",
      "[57]\ttrain-rmse:1.32049\tvalid-rmse:1.40961\ttrain-rmspe:0.673573\tvalid-rmspe:0.70785\n",
      "[58]\ttrain-rmse:1.28273\tvalid-rmse:1.37049\ttrain-rmspe:0.66429\tvalid-rmspe:0.698548\n",
      "[59]\ttrain-rmse:1.24627\tvalid-rmse:1.33192\ttrain-rmspe:0.654918\tvalid-rmspe:0.688993\n",
      "[60]\ttrain-rmse:1.21077\tvalid-rmse:1.29564\ttrain-rmspe:0.645512\tvalid-rmspe:0.679661\n",
      "[61]\ttrain-rmse:1.17653\tvalid-rmse:1.25999\ttrain-rmspe:0.636028\tvalid-rmspe:0.670054\n",
      "[62]\ttrain-rmse:1.14319\tvalid-rmse:1.2258\ttrain-rmspe:0.626543\tvalid-rmspe:0.660589\n",
      "[63]\ttrain-rmse:1.11102\tvalid-rmse:1.19285\ttrain-rmspe:0.617018\tvalid-rmspe:0.651076\n",
      "[64]\ttrain-rmse:1.07986\tvalid-rmse:1.1606\ttrain-rmspe:0.607488\tvalid-rmspe:0.641463\n",
      "[65]\ttrain-rmse:1.05113\tvalid-rmse:1.13065\ttrain-rmspe:0.598194\tvalid-rmspe:0.632108\n",
      "[66]\ttrain-rmse:1.02381\tvalid-rmse:1.10173\ttrain-rmspe:0.5892\tvalid-rmspe:0.62292\n",
      "[67]\ttrain-rmse:0.995438\tvalid-rmse:1.07283\ttrain-rmspe:0.579717\tvalid-rmspe:0.613449\n",
      "[68]\ttrain-rmse:0.967923\tvalid-rmse:1.04461\ttrain-rmspe:0.570275\tvalid-rmspe:0.603946\n",
      "[69]\ttrain-rmse:0.941272\tvalid-rmse:1.0173\ttrain-rmspe:0.560882\tvalid-rmspe:0.594495\n",
      "[70]\ttrain-rmse:0.915551\tvalid-rmse:0.990527\ttrain-rmspe:0.551556\tvalid-rmspe:0.584979\n",
      "[71]\ttrain-rmse:0.890762\tvalid-rmse:0.964153\ttrain-rmspe:0.542293\tvalid-rmspe:0.575311\n",
      "[72]\ttrain-rmse:0.866774\tvalid-rmse:0.93819\ttrain-rmspe:0.533113\tvalid-rmspe:0.565571\n",
      "[73]\ttrain-rmse:0.847062\tvalid-rmse:0.919463\ttrain-rmspe:0.525121\tvalid-rmspe:0.558178\n",
      "[74]\ttrain-rmse:0.824368\tvalid-rmse:0.895796\ttrain-rmspe:0.516141\tvalid-rmspe:0.548944\n",
      "[75]\ttrain-rmse:0.802228\tvalid-rmse:0.873151\ttrain-rmspe:0.507255\tvalid-rmspe:0.539944\n",
      "[76]\ttrain-rmse:0.781127\tvalid-rmse:0.850628\ttrain-rmspe:0.498518\tvalid-rmspe:0.530708\n",
      "[77]\ttrain-rmse:0.760713\tvalid-rmse:0.829236\ttrain-rmspe:0.489923\tvalid-rmspe:0.521685\n",
      "[78]\ttrain-rmse:0.740926\tvalid-rmse:0.809042\ttrain-rmspe:0.48145\tvalid-rmspe:0.513057\n",
      "[79]\ttrain-rmse:0.722775\tvalid-rmse:0.78997\ttrain-rmspe:0.473333\tvalid-rmspe:0.504606\n",
      "[80]\ttrain-rmse:0.704362\tvalid-rmse:0.770829\ttrain-rmspe:0.465174\tvalid-rmspe:0.496088\n",
      "[81]\ttrain-rmse:0.68757\tvalid-rmse:0.753629\ttrain-rmspe:0.457505\tvalid-rmspe:0.488286\n",
      "[82]\ttrain-rmse:0.671211\tvalid-rmse:0.736559\ttrain-rmspe:0.449848\tvalid-rmspe:0.480351\n",
      "[83]\ttrain-rmse:0.654539\tvalid-rmse:0.718691\ttrain-rmspe:0.442197\tvalid-rmspe:0.472065\n",
      "[84]\ttrain-rmse:0.638351\tvalid-rmse:0.701994\ttrain-rmspe:0.434678\tvalid-rmspe:0.464214\n",
      "[85]\ttrain-rmse:0.622728\tvalid-rmse:0.685515\ttrain-rmspe:0.427376\tvalid-rmspe:0.456359\n",
      "[86]\ttrain-rmse:0.607652\tvalid-rmse:0.669645\ttrain-rmspe:0.42027\tvalid-rmspe:0.448687\n",
      "[87]\ttrain-rmse:0.593908\tvalid-rmse:0.654599\ttrain-rmspe:0.413508\tvalid-rmspe:0.441205\n",
      "[88]\ttrain-rmse:0.579995\tvalid-rmse:0.640177\ttrain-rmspe:0.406803\tvalid-rmspe:0.434037\n",
      "[89]\ttrain-rmse:0.566404\tvalid-rmse:0.626036\ttrain-rmspe:0.400274\tvalid-rmspe:0.426999\n",
      "[90]\ttrain-rmse:0.552827\tvalid-rmse:0.612176\ttrain-rmspe:0.393812\tvalid-rmspe:0.420118\n",
      "[91]\ttrain-rmse:0.54121\tvalid-rmse:0.59952\ttrain-rmspe:0.387936\tvalid-rmspe:0.413602\n",
      "[92]\ttrain-rmse:0.528406\tvalid-rmse:0.58642\ttrain-rmspe:0.381808\tvalid-rmspe:0.407023\n",
      "[93]\ttrain-rmse:0.517526\tvalid-rmse:0.575087\ttrain-rmspe:0.376294\tvalid-rmspe:0.401058\n",
      "[94]\ttrain-rmse:0.50593\tvalid-rmse:0.563223\ttrain-rmspe:0.370717\tvalid-rmspe:0.394955\n"
     ]
    },
    {
     "name": "stdout",
     "output_type": "stream",
     "text": [
      "[95]\ttrain-rmse:0.494784\tvalid-rmse:0.551795\ttrain-rmspe:0.36535\tvalid-rmspe:0.389044\n",
      "[96]\ttrain-rmse:0.484382\tvalid-rmse:0.540502\ttrain-rmspe:0.360247\tvalid-rmspe:0.383091\n",
      "[97]\ttrain-rmse:0.473891\tvalid-rmse:0.529368\ttrain-rmspe:0.355218\tvalid-rmspe:0.377292\n",
      "[98]\ttrain-rmse:0.464219\tvalid-rmse:0.518512\ttrain-rmspe:0.350551\tvalid-rmspe:0.371565\n",
      "[99]\ttrain-rmse:0.455551\tvalid-rmse:0.509767\ttrain-rmspe:0.346179\tvalid-rmspe:0.366797\n",
      "[100]\ttrain-rmse:0.446114\tvalid-rmse:0.500163\ttrain-rmspe:0.341666\tvalid-rmspe:0.361724\n",
      "[101]\ttrain-rmse:0.437096\tvalid-rmse:0.490888\ttrain-rmspe:0.337393\tvalid-rmspe:0.356823\n",
      "[102]\ttrain-rmse:0.428496\tvalid-rmse:0.481837\ttrain-rmspe:0.333299\tvalid-rmspe:0.352023\n",
      "[103]\ttrain-rmse:0.420576\tvalid-rmse:0.472814\ttrain-rmspe:0.329597\tvalid-rmspe:0.347233\n",
      "[104]\ttrain-rmse:0.413617\tvalid-rmse:0.465403\ttrain-rmspe:0.326237\tvalid-rmspe:0.343262\n",
      "[105]\ttrain-rmse:0.406055\tvalid-rmse:0.457628\ttrain-rmspe:0.322797\tvalid-rmspe:0.339139\n",
      "[106]\ttrain-rmse:0.399585\tvalid-rmse:0.450829\ttrain-rmspe:0.31973\tvalid-rmspe:0.335503\n",
      "[107]\ttrain-rmse:0.392349\tvalid-rmse:0.443407\ttrain-rmspe:0.316549\tvalid-rmspe:0.331664\n",
      "[108]\ttrain-rmse:0.386545\tvalid-rmse:0.437105\ttrain-rmspe:0.313918\tvalid-rmspe:0.328412\n",
      "[109]\ttrain-rmse:0.379584\tvalid-rmse:0.429928\ttrain-rmspe:0.310842\tvalid-rmspe:0.324653\n",
      "[110]\ttrain-rmse:0.373494\tvalid-rmse:0.423654\ttrain-rmspe:0.308321\tvalid-rmspe:0.321406\n",
      "[111]\ttrain-rmse:0.368334\tvalid-rmse:0.418121\ttrain-rmspe:0.306102\tvalid-rmspe:0.318535\n",
      "[112]\ttrain-rmse:0.363425\tvalid-rmse:0.412095\ttrain-rmspe:0.304065\tvalid-rmspe:0.315431\n",
      "[113]\ttrain-rmse:0.358696\tvalid-rmse:0.406753\ttrain-rmspe:0.302146\tvalid-rmspe:0.312774\n",
      "[114]\ttrain-rmse:0.353608\tvalid-rmse:0.400727\ttrain-rmspe:0.300305\tvalid-rmspe:0.309817\n",
      "[115]\ttrain-rmse:0.348149\tvalid-rmse:0.395148\ttrain-rmspe:0.298261\tvalid-rmspe:0.307104\n",
      "[116]\ttrain-rmse:0.343648\tvalid-rmse:0.390362\ttrain-rmspe:0.296175\tvalid-rmspe:0.304669\n",
      "[117]\ttrain-rmse:0.33925\tvalid-rmse:0.385495\ttrain-rmspe:0.294698\tvalid-rmspe:0.30234\n",
      "[118]\ttrain-rmse:0.334715\tvalid-rmse:0.380633\ttrain-rmspe:0.293015\tvalid-rmspe:0.299953\n",
      "[119]\ttrain-rmse:0.330491\tvalid-rmse:0.375402\ttrain-rmspe:0.291671\tvalid-rmspe:0.297513\n",
      "[120]\ttrain-rmse:0.326413\tvalid-rmse:0.370949\ttrain-rmspe:0.290447\tvalid-rmspe:0.295496\n",
      "[121]\ttrain-rmse:0.32306\tvalid-rmse:0.367258\ttrain-rmspe:0.289416\tvalid-rmspe:0.293832\n",
      "[122]\ttrain-rmse:0.319318\tvalid-rmse:0.363418\ttrain-rmspe:0.288336\tvalid-rmspe:0.292144\n",
      "[123]\ttrain-rmse:0.315479\tvalid-rmse:0.359341\ttrain-rmspe:0.287083\tvalid-rmspe:0.290259\n",
      "[124]\ttrain-rmse:0.311628\tvalid-rmse:0.355316\ttrain-rmspe:0.285782\tvalid-rmspe:0.288307\n",
      "[125]\ttrain-rmse:0.308367\tvalid-rmse:0.351704\ttrain-rmspe:0.285025\tvalid-rmspe:0.286831\n",
      "[126]\ttrain-rmse:0.305906\tvalid-rmse:0.348916\ttrain-rmspe:0.284288\tvalid-rmspe:0.285556\n",
      "[127]\ttrain-rmse:0.302658\tvalid-rmse:0.345501\ttrain-rmspe:0.283479\tvalid-rmspe:0.284122\n",
      "[128]\ttrain-rmse:0.299562\tvalid-rmse:0.342367\ttrain-rmspe:0.282731\tvalid-rmspe:0.282866\n",
      "[129]\ttrain-rmse:0.296759\tvalid-rmse:0.339065\ttrain-rmspe:0.282177\tvalid-rmspe:0.281591\n",
      "[130]\ttrain-rmse:0.294547\tvalid-rmse:0.336704\ttrain-rmspe:0.281502\tvalid-rmspe:0.280562\n",
      "[131]\ttrain-rmse:0.291821\tvalid-rmse:0.333704\ttrain-rmspe:0.280997\tvalid-rmspe:0.279496\n",
      "[132]\ttrain-rmse:0.288964\tvalid-rmse:0.330708\ttrain-rmspe:0.280179\tvalid-rmspe:0.278141\n",
      "[133]\ttrain-rmse:0.286841\tvalid-rmse:0.328168\ttrain-rmspe:0.280013\tvalid-rmspe:0.277316\n",
      "[134]\ttrain-rmse:0.284476\tvalid-rmse:0.325629\ttrain-rmspe:0.279588\tvalid-rmspe:0.276384\n",
      "[135]\ttrain-rmse:0.282405\tvalid-rmse:0.322905\ttrain-rmspe:0.279472\tvalid-rmspe:0.275598\n",
      "[136]\ttrain-rmse:0.27975\tvalid-rmse:0.320118\ttrain-rmspe:0.278714\tvalid-rmspe:0.274361\n",
      "[137]\ttrain-rmse:0.27787\tvalid-rmse:0.317626\ttrain-rmspe:0.27863\tvalid-rmspe:0.273623\n",
      "[138]\ttrain-rmse:0.275996\tvalid-rmse:0.315568\ttrain-rmspe:0.278479\tvalid-rmspe:0.273146\n",
      "[139]\ttrain-rmse:0.274376\tvalid-rmse:0.313927\ttrain-rmspe:0.278158\tvalid-rmspe:0.272506\n",
      "[140]\ttrain-rmse:0.272793\tvalid-rmse:0.311658\ttrain-rmspe:0.27821\tvalid-rmspe:0.271831\n",
      "[141]\ttrain-rmse:0.27129\tvalid-rmse:0.309324\ttrain-rmspe:0.278309\tvalid-rmspe:0.271156\n",
      "[142]\ttrain-rmse:0.269252\tvalid-rmse:0.30721\ttrain-rmspe:0.277851\tvalid-rmspe:0.270266\n",
      "[143]\ttrain-rmse:0.267853\tvalid-rmse:0.305629\ttrain-rmspe:0.277622\tvalid-rmspe:0.269776\n",
      "[144]\ttrain-rmse:0.266265\tvalid-rmse:0.303915\ttrain-rmspe:0.277458\tvalid-rmspe:0.269277\n",
      "[145]\ttrain-rmse:0.264863\tvalid-rmse:0.302091\ttrain-rmspe:0.277507\tvalid-rmspe:0.268886\n",
      "[146]\ttrain-rmse:0.263053\tvalid-rmse:0.30019\ttrain-rmspe:0.277148\tvalid-rmspe:0.268151\n",
      "[147]\ttrain-rmse:0.261852\tvalid-rmse:0.298779\ttrain-rmspe:0.276929\tvalid-rmspe:0.267578\n",
      "[148]\ttrain-rmse:0.260294\tvalid-rmse:0.296948\ttrain-rmspe:0.276726\tvalid-rmspe:0.266949\n",
      "[149]\ttrain-rmse:0.259445\tvalid-rmse:0.29582\ttrain-rmspe:0.276914\tvalid-rmspe:0.266791\n",
      "[150]\ttrain-rmse:0.258668\tvalid-rmse:0.294764\ttrain-rmspe:0.277143\tvalid-rmspe:0.266688\n",
      "[151]\ttrain-rmse:0.25773\tvalid-rmse:0.29333\ttrain-rmspe:0.277418\tvalid-rmspe:0.266553\n",
      "[152]\ttrain-rmse:0.256932\tvalid-rmse:0.292277\ttrain-rmspe:0.277569\tvalid-rmspe:0.266379\n",
      "[153]\ttrain-rmse:0.255956\tvalid-rmse:0.290872\ttrain-rmspe:0.27778\tvalid-rmspe:0.266134\n",
      "[154]\ttrain-rmse:0.254888\tvalid-rmse:0.289721\ttrain-rmspe:0.277772\tvalid-rmspe:0.265888\n",
      "[155]\ttrain-rmse:0.254166\tvalid-rmse:0.288857\ttrain-rmspe:0.277739\tvalid-rmspe:0.265728\n",
      "[156]\ttrain-rmse:0.253283\tvalid-rmse:0.287555\ttrain-rmspe:0.277922\tvalid-rmspe:0.265522\n",
      "[157]\ttrain-rmse:0.252569\tvalid-rmse:0.286424\ttrain-rmspe:0.278227\tvalid-rmspe:0.265475\n",
      "[158]\ttrain-rmse:0.251898\tvalid-rmse:0.285594\ttrain-rmspe:0.278546\tvalid-rmspe:0.265499\n",
      "[159]\ttrain-rmse:0.251205\tvalid-rmse:0.284584\ttrain-rmspe:0.27882\tvalid-rmspe:0.26547\n",
      "[160]\ttrain-rmse:0.2504\tvalid-rmse:0.283709\ttrain-rmspe:0.278947\tvalid-rmspe:0.265352\n",
      "[161]\ttrain-rmse:0.249773\tvalid-rmse:0.282438\ttrain-rmspe:0.279219\tvalid-rmspe:0.265101\n",
      "[162]\ttrain-rmse:0.24914\tvalid-rmse:0.281653\ttrain-rmspe:0.27944\tvalid-rmspe:0.265094\n",
      "[163]\ttrain-rmse:0.248353\tvalid-rmse:0.280717\ttrain-rmspe:0.279466\tvalid-rmspe:0.264887\n",
      "[164]\ttrain-rmse:0.247824\tvalid-rmse:0.279905\ttrain-rmspe:0.279822\tvalid-rmspe:0.264958\n",
      "[165]\ttrain-rmse:0.247464\tvalid-rmse:0.279371\ttrain-rmspe:0.280017\tvalid-rmspe:0.264997\n",
      "[166]\ttrain-rmse:0.246388\tvalid-rmse:0.278341\ttrain-rmspe:0.279783\tvalid-rmspe:0.264658\n",
      "[167]\ttrain-rmse:0.245914\tvalid-rmse:0.277234\ttrain-rmspe:0.280062\tvalid-rmspe:0.264393\n",
      "[168]\ttrain-rmse:0.24554\tvalid-rmse:0.276771\ttrain-rmspe:0.280251\tvalid-rmspe:0.264371\n",
      "[169]\ttrain-rmse:0.2451\tvalid-rmse:0.276105\ttrain-rmspe:0.280603\tvalid-rmspe:0.264493\n",
      "[170]\ttrain-rmse:0.24474\tvalid-rmse:0.275561\ttrain-rmspe:0.280912\tvalid-rmspe:0.264593\n",
      "[171]\ttrain-rmse:0.24442\tvalid-rmse:0.275089\ttrain-rmspe:0.281121\tvalid-rmspe:0.264626\n",
      "[172]\ttrain-rmse:0.243971\tvalid-rmse:0.274175\ttrain-rmspe:0.28129\tvalid-rmspe:0.26454\n",
      "[173]\ttrain-rmse:0.242952\tvalid-rmse:0.273064\ttrain-rmspe:0.280977\tvalid-rmspe:0.264013\n",
      "[174]\ttrain-rmse:0.24271\tvalid-rmse:0.272742\ttrain-rmspe:0.281201\tvalid-rmspe:0.264137\n",
      "[175]\ttrain-rmse:0.242262\tvalid-rmse:0.271967\ttrain-rmspe:0.281408\tvalid-rmspe:0.263979\n",
      "[176]\ttrain-rmse:0.241489\tvalid-rmse:0.271107\ttrain-rmspe:0.281272\tvalid-rmspe:0.263659\n",
      "[177]\ttrain-rmse:0.240593\tvalid-rmse:0.270119\ttrain-rmspe:0.280946\tvalid-rmspe:0.263083\n",
      "[178]\ttrain-rmse:0.239631\tvalid-rmse:0.269137\ttrain-rmspe:0.280533\tvalid-rmspe:0.262527\n",
      "[179]\ttrain-rmse:0.239222\tvalid-rmse:0.268649\ttrain-rmspe:0.280661\tvalid-rmspe:0.262465\n",
      "[180]\ttrain-rmse:0.238708\tvalid-rmse:0.268121\ttrain-rmspe:0.280535\tvalid-rmspe:0.262291\n",
      "[181]\ttrain-rmse:0.238443\tvalid-rmse:0.267783\ttrain-rmspe:0.280772\tvalid-rmspe:0.262383\n",
      "[182]\ttrain-rmse:0.238106\tvalid-rmse:0.266973\ttrain-rmspe:0.280947\tvalid-rmspe:0.262166\n",
      "[183]\ttrain-rmse:0.237724\tvalid-rmse:0.266254\ttrain-rmspe:0.28109\tvalid-rmspe:0.262083\n",
      "[184]\ttrain-rmse:0.23659\tvalid-rmse:0.265187\ttrain-rmspe:0.280495\tvalid-rmspe:0.261271\n",
      "[185]\ttrain-rmse:0.236401\tvalid-rmse:0.264949\ttrain-rmspe:0.280644\tvalid-rmspe:0.261319\n"
     ]
    },
    {
     "ename": "KeyboardInterrupt",
     "evalue": "",
     "output_type": "error",
     "traceback": [
      "\u001b[0;31m---------------------------------------------------------------------------\u001b[0m",
      "\u001b[0;31mKeyboardInterrupt\u001b[0m                         Traceback (most recent call last)",
      "\u001b[0;32m<ipython-input-13-041e445acf69>\u001b[0m in \u001b[0;36m<module>\u001b[0;34m()\u001b[0m\n\u001b[1;32m      1\u001b[0m bst = xgb.train(params=param, dtrain=xg_train, num_boost_round=num_round, evals=watchlist, verbose_eval = 1,\n\u001b[0;32m----> 2\u001b[0;31m                  early_stopping_rounds = 100, maximize = False, feval=rmspe_xg)\n\u001b[0m",
      "\u001b[0;32m/Users/mingj/anaconda/lib/python3.6/site-packages/xgboost-0.6-py3.6.egg/xgboost/training.py\u001b[0m in \u001b[0;36mtrain\u001b[0;34m(params, dtrain, num_boost_round, evals, obj, feval, maximize, early_stopping_rounds, evals_result, verbose_eval, xgb_model, callbacks, learning_rates)\u001b[0m\n\u001b[1;32m    202\u001b[0m                            \u001b[0mevals\u001b[0m\u001b[0;34m=\u001b[0m\u001b[0mevals\u001b[0m\u001b[0;34m,\u001b[0m\u001b[0;34m\u001b[0m\u001b[0m\n\u001b[1;32m    203\u001b[0m                            \u001b[0mobj\u001b[0m\u001b[0;34m=\u001b[0m\u001b[0mobj\u001b[0m\u001b[0;34m,\u001b[0m \u001b[0mfeval\u001b[0m\u001b[0;34m=\u001b[0m\u001b[0mfeval\u001b[0m\u001b[0;34m,\u001b[0m\u001b[0;34m\u001b[0m\u001b[0m\n\u001b[0;32m--> 204\u001b[0;31m                            xgb_model=xgb_model, callbacks=callbacks)\n\u001b[0m\u001b[1;32m    205\u001b[0m \u001b[0;34m\u001b[0m\u001b[0m\n\u001b[1;32m    206\u001b[0m \u001b[0;34m\u001b[0m\u001b[0m\n",
      "\u001b[0;32m/Users/mingj/anaconda/lib/python3.6/site-packages/xgboost-0.6-py3.6.egg/xgboost/training.py\u001b[0m in \u001b[0;36m_train_internal\u001b[0;34m(params, dtrain, num_boost_round, evals, obj, feval, xgb_model, callbacks)\u001b[0m\n\u001b[1;32m     72\u001b[0m         \u001b[0;31m# Skip the first update if it is a recovery step.\u001b[0m\u001b[0;34m\u001b[0m\u001b[0;34m\u001b[0m\u001b[0m\n\u001b[1;32m     73\u001b[0m         \u001b[0;32mif\u001b[0m \u001b[0mversion\u001b[0m \u001b[0;34m%\u001b[0m \u001b[0;36m2\u001b[0m \u001b[0;34m==\u001b[0m \u001b[0;36m0\u001b[0m\u001b[0;34m:\u001b[0m\u001b[0;34m\u001b[0m\u001b[0m\n\u001b[0;32m---> 74\u001b[0;31m             \u001b[0mbst\u001b[0m\u001b[0;34m.\u001b[0m\u001b[0mupdate\u001b[0m\u001b[0;34m(\u001b[0m\u001b[0mdtrain\u001b[0m\u001b[0;34m,\u001b[0m \u001b[0mi\u001b[0m\u001b[0;34m,\u001b[0m \u001b[0mobj\u001b[0m\u001b[0;34m)\u001b[0m\u001b[0;34m\u001b[0m\u001b[0m\n\u001b[0m\u001b[1;32m     75\u001b[0m             \u001b[0mbst\u001b[0m\u001b[0;34m.\u001b[0m\u001b[0msave_rabit_checkpoint\u001b[0m\u001b[0;34m(\u001b[0m\u001b[0;34m)\u001b[0m\u001b[0;34m\u001b[0m\u001b[0m\n\u001b[1;32m     76\u001b[0m             \u001b[0mversion\u001b[0m \u001b[0;34m+=\u001b[0m \u001b[0;36m1\u001b[0m\u001b[0;34m\u001b[0m\u001b[0m\n",
      "\u001b[0;32m/Users/mingj/anaconda/lib/python3.6/site-packages/xgboost-0.6-py3.6.egg/xgboost/core.py\u001b[0m in \u001b[0;36mupdate\u001b[0;34m(self, dtrain, iteration, fobj)\u001b[0m\n\u001b[1;32m    884\u001b[0m         \u001b[0;32mif\u001b[0m \u001b[0mfobj\u001b[0m \u001b[0;32mis\u001b[0m \u001b[0;32mNone\u001b[0m\u001b[0;34m:\u001b[0m\u001b[0;34m\u001b[0m\u001b[0m\n\u001b[1;32m    885\u001b[0m             _check_call(_LIB.XGBoosterUpdateOneIter(self.handle, ctypes.c_int(iteration),\n\u001b[0;32m--> 886\u001b[0;31m                                                     dtrain.handle))\n\u001b[0m\u001b[1;32m    887\u001b[0m         \u001b[0;32melse\u001b[0m\u001b[0;34m:\u001b[0m\u001b[0;34m\u001b[0m\u001b[0m\n\u001b[1;32m    888\u001b[0m             \u001b[0mpred\u001b[0m \u001b[0;34m=\u001b[0m \u001b[0mself\u001b[0m\u001b[0;34m.\u001b[0m\u001b[0mpredict\u001b[0m\u001b[0;34m(\u001b[0m\u001b[0mdtrain\u001b[0m\u001b[0;34m)\u001b[0m\u001b[0;34m\u001b[0m\u001b[0m\n",
      "\u001b[0;31mKeyboardInterrupt\u001b[0m: "
     ]
    }
   ],
   "source": [
    "bst = xgb.train(params=param, dtrain=xg_train, num_boost_round=num_round, evals=watchlist, verbose_eval = 1,\n",
    "                 early_stopping_rounds = 100, maximize = False, feval=rmspe_xg)"
   ]
  },
  {
   "cell_type": "markdown",
   "metadata": {},
   "source": [
    "#### 10. 增加关于store的特征值"
   ]
  },
  {
   "cell_type": "code",
   "execution_count": 26,
   "metadata": {
    "collapsed": true
   },
   "outputs": [],
   "source": [
    "# 得到商铺历史销售总额，历史顾客数量，历史开业天数\n",
    "store_sales = all_data['Sales'].groupby(all_data['Store']).sum()\n",
    "store_customers = all_data['Customers'].groupby(all_data['Store']).sum()\n",
    "store_opendays = all_data['Open'].groupby(all_data['Store']).count()"
   ]
  },
  {
   "cell_type": "code",
   "execution_count": 28,
   "metadata": {
    "collapsed": true
   },
   "outputs": [],
   "source": [
    "# 增加了店铺的三个特征\n",
    "EachDay_store_sales = store_sales/store_opendays\n",
    "EachDay_store_customers = store_sales/store_opendays\n",
    "EachCustomer_cosume = EachDay_store_sales/EachDay_store_customers"
   ]
  },
  {
   "cell_type": "code",
   "execution_count": 34,
   "metadata": {
    "collapsed": true
   },
   "outputs": [],
   "source": [
    "df_store = pd.read_csv('./参考资料/kaggle-rossman-store-sales/input/store.csv', \n",
    "                       nrows=None)"
   ]
  },
  {
   "cell_type": "code",
   "execution_count": 35,
   "metadata": {
    "collapsed": true
   },
   "outputs": [],
   "source": [
    "df_store = pd.merge(df_store, EachDay_store_sales.reset_index(name='SalesPerDay'), how='left', on=['Store'])\n",
    "df_store = pd.merge(df_store, EachDay_store_customers.reset_index(name='CustomersPerDay'), how='left', on=['Store'])\n",
    "df_store = pd.merge(df_store, EachCustomer_cosume.reset_index(name='SalesPerCustomersPerDay'), how='left', on=['Store'])"
   ]
  },
  {
   "cell_type": "code",
   "execution_count": 37,
   "metadata": {
    "collapsed": true
   },
   "outputs": [],
   "source": [
    "store_features = ['Store', 'SalesPerDay', 'CustomersPerDay', 'SalesPerCustomersPerDay']"
   ]
  },
  {
   "cell_type": "code",
   "execution_count": 38,
   "metadata": {
    "collapsed": true
   },
   "outputs": [],
   "source": [
    "all_data = pd.merge(all_data, df_store[store_features], how='left', on=['Store'])"
   ]
  },
  {
   "cell_type": "code",
   "execution_count": 39,
   "metadata": {},
   "outputs": [
    {
     "data": {
      "text/html": [
       "<div>\n",
       "<style>\n",
       "    .dataframe thead tr:only-child th {\n",
       "        text-align: right;\n",
       "    }\n",
       "\n",
       "    .dataframe thead th {\n",
       "        text-align: left;\n",
       "    }\n",
       "\n",
       "    .dataframe tbody tr th {\n",
       "        vertical-align: top;\n",
       "    }\n",
       "</style>\n",
       "<table border=\"1\" class=\"dataframe\">\n",
       "  <thead>\n",
       "    <tr style=\"text-align: right;\">\n",
       "      <th></th>\n",
       "      <th>Store</th>\n",
       "      <th>Date</th>\n",
       "      <th>Sales</th>\n",
       "      <th>Customers</th>\n",
       "      <th>Open</th>\n",
       "      <th>Promo</th>\n",
       "      <th>SchoolHoliday</th>\n",
       "      <th>DayOfWeek_1</th>\n",
       "      <th>DayOfWeek_2</th>\n",
       "      <th>DayOfWeek_3</th>\n",
       "      <th>...</th>\n",
       "      <th>Promo2Active</th>\n",
       "      <th>week</th>\n",
       "      <th>month</th>\n",
       "      <th>year</th>\n",
       "      <th>day</th>\n",
       "      <th>DayofYear</th>\n",
       "      <th>Outlier</th>\n",
       "      <th>SalesPerDay</th>\n",
       "      <th>CustomersPerDay</th>\n",
       "      <th>SalesPerCustomersPerDay</th>\n",
       "    </tr>\n",
       "  </thead>\n",
       "  <tbody>\n",
       "    <tr>\n",
       "      <th>0</th>\n",
       "      <td>1</td>\n",
       "      <td>2015-07-31</td>\n",
       "      <td>5263</td>\n",
       "      <td>555</td>\n",
       "      <td>1</td>\n",
       "      <td>1</td>\n",
       "      <td>1</td>\n",
       "      <td>0</td>\n",
       "      <td>0</td>\n",
       "      <td>0</td>\n",
       "      <td>...</td>\n",
       "      <td>0.0</td>\n",
       "      <td>31</td>\n",
       "      <td>7</td>\n",
       "      <td>2015</td>\n",
       "      <td>31</td>\n",
       "      <td>212</td>\n",
       "      <td>False</td>\n",
       "      <td>3885.848224</td>\n",
       "      <td>3885.848224</td>\n",
       "      <td>1.0</td>\n",
       "    </tr>\n",
       "    <tr>\n",
       "      <th>1</th>\n",
       "      <td>2</td>\n",
       "      <td>2015-07-31</td>\n",
       "      <td>6064</td>\n",
       "      <td>625</td>\n",
       "      <td>1</td>\n",
       "      <td>1</td>\n",
       "      <td>1</td>\n",
       "      <td>0</td>\n",
       "      <td>0</td>\n",
       "      <td>0</td>\n",
       "      <td>...</td>\n",
       "      <td>1.0</td>\n",
       "      <td>31</td>\n",
       "      <td>7</td>\n",
       "      <td>2015</td>\n",
       "      <td>31</td>\n",
       "      <td>212</td>\n",
       "      <td>False</td>\n",
       "      <td>4070.671306</td>\n",
       "      <td>4070.671306</td>\n",
       "      <td>1.0</td>\n",
       "    </tr>\n",
       "    <tr>\n",
       "      <th>2</th>\n",
       "      <td>3</td>\n",
       "      <td>2015-07-31</td>\n",
       "      <td>8314</td>\n",
       "      <td>821</td>\n",
       "      <td>1</td>\n",
       "      <td>1</td>\n",
       "      <td>1</td>\n",
       "      <td>0</td>\n",
       "      <td>0</td>\n",
       "      <td>0</td>\n",
       "      <td>...</td>\n",
       "      <td>1.0</td>\n",
       "      <td>31</td>\n",
       "      <td>7</td>\n",
       "      <td>2015</td>\n",
       "      <td>31</td>\n",
       "      <td>212</td>\n",
       "      <td>False</td>\n",
       "      <td>5702.461620</td>\n",
       "      <td>5702.461620</td>\n",
       "      <td>1.0</td>\n",
       "    </tr>\n",
       "    <tr>\n",
       "      <th>3</th>\n",
       "      <td>4</td>\n",
       "      <td>2015-07-31</td>\n",
       "      <td>13995</td>\n",
       "      <td>1498</td>\n",
       "      <td>1</td>\n",
       "      <td>1</td>\n",
       "      <td>1</td>\n",
       "      <td>0</td>\n",
       "      <td>0</td>\n",
       "      <td>0</td>\n",
       "      <td>...</td>\n",
       "      <td>0.0</td>\n",
       "      <td>31</td>\n",
       "      <td>7</td>\n",
       "      <td>2015</td>\n",
       "      <td>31</td>\n",
       "      <td>212</td>\n",
       "      <td>False</td>\n",
       "      <td>7870.063853</td>\n",
       "      <td>7870.063853</td>\n",
       "      <td>1.0</td>\n",
       "    </tr>\n",
       "    <tr>\n",
       "      <th>4</th>\n",
       "      <td>5</td>\n",
       "      <td>2015-07-31</td>\n",
       "      <td>4822</td>\n",
       "      <td>559</td>\n",
       "      <td>1</td>\n",
       "      <td>1</td>\n",
       "      <td>1</td>\n",
       "      <td>0</td>\n",
       "      <td>0</td>\n",
       "      <td>0</td>\n",
       "      <td>...</td>\n",
       "      <td>0.0</td>\n",
       "      <td>31</td>\n",
       "      <td>7</td>\n",
       "      <td>2015</td>\n",
       "      <td>31</td>\n",
       "      <td>212</td>\n",
       "      <td>False</td>\n",
       "      <td>3825.737179</td>\n",
       "      <td>3825.737179</td>\n",
       "      <td>1.0</td>\n",
       "    </tr>\n",
       "  </tbody>\n",
       "</table>\n",
       "<p>5 rows × 43 columns</p>\n",
       "</div>"
      ],
      "text/plain": [
       "   Store       Date  Sales  Customers  Open  Promo  SchoolHoliday  \\\n",
       "0      1 2015-07-31   5263        555     1      1              1   \n",
       "1      2 2015-07-31   6064        625     1      1              1   \n",
       "2      3 2015-07-31   8314        821     1      1              1   \n",
       "3      4 2015-07-31  13995       1498     1      1              1   \n",
       "4      5 2015-07-31   4822        559     1      1              1   \n",
       "\n",
       "   DayOfWeek_1  DayOfWeek_2  DayOfWeek_3           ...             \\\n",
       "0            0            0            0           ...              \n",
       "1            0            0            0           ...              \n",
       "2            0            0            0           ...              \n",
       "3            0            0            0           ...              \n",
       "4            0            0            0           ...              \n",
       "\n",
       "   Promo2Active  week  month  year  day  DayofYear  Outlier  SalesPerDay  \\\n",
       "0           0.0    31      7  2015   31        212    False  3885.848224   \n",
       "1           1.0    31      7  2015   31        212    False  4070.671306   \n",
       "2           1.0    31      7  2015   31        212    False  5702.461620   \n",
       "3           0.0    31      7  2015   31        212    False  7870.063853   \n",
       "4           0.0    31      7  2015   31        212    False  3825.737179   \n",
       "\n",
       "   CustomersPerDay  SalesPerCustomersPerDay  \n",
       "0      3885.848224                      1.0  \n",
       "1      4070.671306                      1.0  \n",
       "2      5702.461620                      1.0  \n",
       "3      7870.063853                      1.0  \n",
       "4      3825.737179                      1.0  \n",
       "\n",
       "[5 rows x 43 columns]"
      ]
     },
     "execution_count": 39,
     "metadata": {},
     "output_type": "execute_result"
    }
   ],
   "source": [
    "all_data.head()"
   ]
  },
  {
   "cell_type": "markdown",
   "metadata": {},
   "source": [
    "#### 11. 将dayof week ，StateHoliday更改处理方式\n"
   ]
  },
  {
   "cell_type": "code",
   "execution_count": 45,
   "metadata": {
    "collapsed": true
   },
   "outputs": [],
   "source": [
    "weekday = [i.weekday() for i in all_data['Date']]\n"
   ]
  },
  {
   "cell_type": "code",
   "execution_count": 49,
   "metadata": {
    "collapsed": true
   },
   "outputs": [],
   "source": [
    "all_data['DayOfWeek'] = [i+1 for i in weekday]"
   ]
  },
  {
   "cell_type": "code",
   "execution_count": 56,
   "metadata": {
    "collapsed": true
   },
   "outputs": [],
   "source": [
    "all_data['DateInt'] = all_data['Date'].astype(np.int64)"
   ]
  },
  {
   "cell_type": "code",
   "execution_count": 82,
   "metadata": {
    "collapsed": true
   },
   "outputs": [],
   "source": [
    "StateHoliday = all_data[['StateHoliday_0','StateHoliday_a', 'StateHoliday_b', 'StateHoliday_c']]"
   ]
  },
  {
   "cell_type": "code",
   "execution_count": 87,
   "metadata": {
    "collapsed": true
   },
   "outputs": [],
   "source": [
    "def getCategory_stateholiday(x):\n",
    "    if x[0]==1:\n",
    "        return 0\n",
    "    elif x[1]==1:\n",
    "        return 1\n",
    "    elif x[2]==1:\n",
    "        return 2\n",
    "    elif x[3]==1:\n",
    "        return 3"
   ]
  },
  {
   "cell_type": "code",
   "execution_count": 88,
   "metadata": {
    "collapsed": true
   },
   "outputs": [],
   "source": [
    "tes = StateHoliday.apply(getCategory_stateholiday, axis=1)"
   ]
  },
  {
   "cell_type": "code",
   "execution_count": 94,
   "metadata": {
    "collapsed": true
   },
   "outputs": [],
   "source": [
    "all_data['StateHoliday'] = tes"
   ]
  },
  {
   "cell_type": "code",
   "execution_count": 96,
   "metadata": {
    "collapsed": true
   },
   "outputs": [],
   "source": [
    "StoreType = all_data[['StoreType_0','StoreType_a', 'StoreType_b', 'StoreType_c', 'StoreType_d']]"
   ]
  },
  {
   "cell_type": "code",
   "execution_count": 101,
   "metadata": {
    "collapsed": true
   },
   "outputs": [],
   "source": [
    "def getCategory_StoreType(x):\n",
    "    if x[0]==1:\n",
    "        return 0\n",
    "    elif x[1]==1:\n",
    "        return 1\n",
    "    elif x[2]==1:\n",
    "        return 2\n",
    "    elif x[3]==1:\n",
    "        return 3\n",
    "    elif x[4] == 1:\n",
    "        return 4"
   ]
  },
  {
   "cell_type": "code",
   "execution_count": 103,
   "metadata": {
    "collapsed": true
   },
   "outputs": [],
   "source": [
    "category_storetype = StoreType.apply(getCategory_StoreType, axis=1)"
   ]
  },
  {
   "cell_type": "code",
   "execution_count": 104,
   "metadata": {
    "collapsed": true
   },
   "outputs": [],
   "source": [
    "all_data['StoreType'] = category_storetype"
   ]
  },
  {
   "cell_type": "code",
   "execution_count": 112,
   "metadata": {
    "collapsed": true
   },
   "outputs": [],
   "source": [
    "# 删除数据\n",
    "sub_all_data1 = all_data\n",
    "store_dates_to_remove = {   105:1.368e18, 163:1.368e18,\n",
    "                            172:1.366e18, 364:1.37e18,\n",
    "                            378:1.39e18, 523:1.39e18,\n",
    "                            589:1.37e18, 663:1.39e18,\n",
    "                            676:1.366e18, 681:1.37e18,\n",
    "                            700:1.373e18, 708:1.368e18,\n",
    "                            709:1.423e18, 730:1.39e18,\n",
    "                            764:1.368e18, 837:1.396e18,\n",
    "                            845:1.368e18, 861:1.368e18,\n",
    "                            882:1.368e18, 969:1.366e18,\n",
    "                            986:1.368e18, 192:1.421e18,\n",
    "                            263:1.421e18, 500:1.421e18,\n",
    "                            797:1.421e18, 815:1.421e18,\n",
    "                            825:1.421e18}\n",
    "\n",
    "for key,value in store_dates_to_remove.items():\n",
    "    sub_all_data1.loc[(sub_all_data1['Store'] == key) & (sub_all_data1['DateInt'] < value), 'Delete'] = True\n",
    "    \n",
    "sub_all_data1 = sub_all_data1.loc[sub_all_data1['Delete'] != True]"
   ]
  },
  {
   "cell_type": "code",
   "execution_count": 113,
   "metadata": {},
   "outputs": [
    {
     "data": {
      "text/plain": [
       "(1037297, 48)"
      ]
     },
     "metadata": {},
     "output_type": "display_data"
    },
    {
     "data": {
      "text/plain": [
       "(1028307, 48)"
      ]
     },
     "execution_count": 113,
     "metadata": {},
     "output_type": "execute_result"
    }
   ],
   "source": [
    "display(all_data.shape)\n",
    "sub_all_data1.shape"
   ]
  },
  {
   "cell_type": "code",
   "execution_count": 114,
   "metadata": {},
   "outputs": [
    {
     "data": {
      "text/plain": [
       "Index(['Store', 'Date', 'Sales', 'Customers', 'Open', 'Promo', 'SchoolHoliday',\n",
       "       'DayOfWeek_1', 'DayOfWeek_2', 'DayOfWeek_3', 'DayOfWeek_4',\n",
       "       'DayOfWeek_5', 'DayOfWeek_6', 'DayOfWeek_7', 'StateHoliday_0',\n",
       "       'StateHoliday_a', 'StateHoliday_b', 'StateHoliday_c', 'Assortment',\n",
       "       'CompetitionDistance', 'CompetitionOpenSinceMonth',\n",
       "       'CompetitionOpenSinceYear', 'Promo2', 'Promo2SinceWeek',\n",
       "       'Promo2SinceYear', 'PromoInterval', 'CompeteOpenDate', 'StoreType_0',\n",
       "       'StoreType_a', 'StoreType_b', 'StoreType_c', 'StoreType_d',\n",
       "       'CompeteOpen', 'Promo2Active', 'week', 'month', 'year', 'day',\n",
       "       'DayofYear', 'Outlier', 'SalesPerDay', 'CustomersPerDay',\n",
       "       'SalesPerCustomersPerDay', 'DayOfWeek', 'DateInt', 'Delete',\n",
       "       'StateHoliday', 'StoreType'],\n",
       "      dtype='object')"
      ]
     },
     "execution_count": 114,
     "metadata": {},
     "output_type": "execute_result"
    }
   ],
   "source": [
    "sub_all_data1.columns"
   ]
  },
  {
   "cell_type": "markdown",
   "metadata": {},
   "source": [
    "#### 删除不需要特征"
   ]
  },
  {
   "cell_type": "code",
   "execution_count": 115,
   "metadata": {
    "collapsed": true
   },
   "outputs": [],
   "source": [
    "del_colums = ['Promo2SinceWeek','Promo2SinceYear','PromoInterval','Promo2','CompeteOpenDate',\n",
    "              'CompetitionOpenSinceYear','CompetitionOpenSinceMonth', 'Customers', 'Outlier', 'DayOfWeek_1', 'DayOfWeek_2', 'DayOfWeek_3'\n",
    "             , 'DayOfWeek_4', 'DayOfWeek_5', 'DayOfWeek_6', 'DayOfWeek_7', 'Delete', 'DateInt','Promo2Active', 'CompeteOpen'\n",
    "             ,'StateHoliday_0','StateHoliday_a', 'StateHoliday_b', 'StateHoliday_c', 'StoreType_0','StoreType_a', 'StoreType_b', 'StoreType_c', 'StoreType_d']\n",
    "sub_all_data = sub_all_data1.drop(del_colums, axis=1)\n"
   ]
  },
  {
   "cell_type": "code",
   "execution_count": 116,
   "metadata": {
    "scrolled": true
   },
   "outputs": [
    {
     "data": {
      "text/plain": [
       "Index(['Store', 'Date', 'Sales', 'Open', 'Promo', 'SchoolHoliday',\n",
       "       'Assortment', 'CompetitionDistance', 'week', 'month', 'year', 'day',\n",
       "       'DayofYear', 'SalesPerDay', 'CustomersPerDay',\n",
       "       'SalesPerCustomersPerDay', 'DayOfWeek', 'StateHoliday', 'StoreType'],\n",
       "      dtype='object')"
      ]
     },
     "metadata": {},
     "output_type": "display_data"
    }
   ],
   "source": [
    "display(sub_all_data.columns)"
   ]
  },
  {
   "cell_type": "code",
   "execution_count": 117,
   "metadata": {
    "collapsed": true
   },
   "outputs": [],
   "source": [
    "# 这里使用位运算，可以得到两个条件的子集\n",
    "train = sub_all_data[sub_all_data.Date < datetime.strptime('2015-06-20', '%Y-%m-%d') ]\n",
    "valid = sub_all_data[sub_all_data.Date >= datetime.strptime('2015-06-20', '%Y-%m-%d')]\n",
    "#valid = sub_all_data.loc[(sub_all_data['Date'] > datetime.strptime('2015-05-08', '%Y-%m-%d')) \n",
    "                         #& (datetime.strptime('2015-06-19', '%Y-%m-%d') >= sub_all_data['Date'])]\n",
    "    \n",
    "# 准备数据，对Y进行log处理\n",
    "X_train = train.drop(['Date', 'Sales'], axis=1)\n",
    "Y_train = np.log(train['Sales'] + 1)\n",
    "\n",
    "X_valid = valid.drop(['Date', 'Sales'], axis=1)\n",
    "Y_valid = np.log(valid['Sales'] + 1)\n",
    "\n",
    "#X_test = test.drop(['Date', 'Sales'], axis=1)\n",
    "#Y_test = np.log(test['Sales'] + 1)\n",
    "#xg_test = xgb.DMatrix(X_test, label = Y_test)\n",
    "\n",
    "xg_train = xgb.DMatrix(X_train, label=Y_train)\n",
    "xg_valid = xgb.DMatrix(X_valid, label=Y_valid)\n",
    "watchlist = [(xg_train, 'train'), (xg_valid, 'valid')]\n",
    "\n",
    "param = {'max_depth':12, 'eta':0.01, 'subsample':0.8, 'colsample_bytree':0.7, 'silent':1, \n",
    "         'objective':'reg:linear' , 'booster': \"gbtree\", 'nthread':6, 'seed':seeds}\n",
    "num_round = 1000"
   ]
  },
  {
   "cell_type": "code",
   "execution_count": 118,
   "metadata": {
    "scrolled": true
   },
   "outputs": [
    {
     "name": "stdout",
     "output_type": "stream",
     "text": [
      "[0]\ttrain-rmse:7.3175\tvalid-rmse:7.59515\ttrain-rmspe:0.894163\tvalid-rmspe:0.926448\n",
      "Multiple eval metrics have been passed: 'valid-rmspe' will be used for early stopping.\n",
      "\n",
      "Will train until valid-rmspe hasn't improved in 100 rounds.\n",
      "[1]\ttrain-rmse:7.24597\tvalid-rmse:7.52794\ttrain-rmspe:0.894141\tvalid-rmspe:0.926427\n",
      "[2]\ttrain-rmse:7.17357\tvalid-rmse:7.45319\ttrain-rmspe:0.894116\tvalid-rmspe:0.926402\n",
      "[3]\ttrain-rmse:7.10191\tvalid-rmse:7.379\ttrain-rmspe:0.894089\tvalid-rmspe:0.926375\n",
      "[4]\ttrain-rmse:7.03095\tvalid-rmse:7.30573\ttrain-rmspe:0.894061\tvalid-rmspe:0.926346\n",
      "[5]\ttrain-rmse:6.96072\tvalid-rmse:7.23301\ttrain-rmspe:0.89403\tvalid-rmspe:0.926316\n",
      "[6]\ttrain-rmse:6.89119\tvalid-rmse:7.16099\ttrain-rmspe:0.893997\tvalid-rmspe:0.926283\n",
      "[7]\ttrain-rmse:6.82234\tvalid-rmse:7.0899\ttrain-rmspe:0.893962\tvalid-rmspe:0.926248\n",
      "[8]\ttrain-rmse:6.75417\tvalid-rmse:7.01952\ttrain-rmspe:0.893925\tvalid-rmspe:0.92621\n",
      "[9]\ttrain-rmse:6.68669\tvalid-rmse:6.94985\ttrain-rmspe:0.893886\tvalid-rmspe:0.92617\n",
      "[10]\ttrain-rmse:6.62163\tvalid-rmse:6.88834\ttrain-rmspe:0.893845\tvalid-rmspe:0.926133\n",
      "[11]\ttrain-rmse:6.5555\tvalid-rmse:6.81991\ttrain-rmspe:0.893799\tvalid-rmspe:0.926088\n",
      "[12]\ttrain-rmse:6.49007\tvalid-rmse:6.75216\ttrain-rmspe:0.893751\tvalid-rmspe:0.92604\n",
      "[13]\ttrain-rmse:6.42523\tvalid-rmse:6.68522\ttrain-rmspe:0.8937\tvalid-rmspe:0.925989\n",
      "[14]\ttrain-rmse:6.36104\tvalid-rmse:6.61896\ttrain-rmspe:0.893646\tvalid-rmspe:0.925935\n"
     ]
    },
    {
     "ename": "KeyboardInterrupt",
     "evalue": "",
     "output_type": "error",
     "traceback": [
      "\u001b[0;31m---------------------------------------------------------------------------\u001b[0m",
      "\u001b[0;31mKeyboardInterrupt\u001b[0m                         Traceback (most recent call last)",
      "\u001b[0;32m<ipython-input-118-041e445acf69>\u001b[0m in \u001b[0;36m<module>\u001b[0;34m()\u001b[0m\n\u001b[1;32m      1\u001b[0m bst = xgb.train(params=param, dtrain=xg_train, num_boost_round=num_round, evals=watchlist, verbose_eval = 1,\n\u001b[0;32m----> 2\u001b[0;31m                  early_stopping_rounds = 100, maximize = False, feval=rmspe_xg)\n\u001b[0m",
      "\u001b[0;32m/Users/mingj/anaconda/lib/python3.6/site-packages/xgboost-0.6-py3.6.egg/xgboost/training.py\u001b[0m in \u001b[0;36mtrain\u001b[0;34m(params, dtrain, num_boost_round, evals, obj, feval, maximize, early_stopping_rounds, evals_result, verbose_eval, xgb_model, callbacks, learning_rates)\u001b[0m\n\u001b[1;32m    202\u001b[0m                            \u001b[0mevals\u001b[0m\u001b[0;34m=\u001b[0m\u001b[0mevals\u001b[0m\u001b[0;34m,\u001b[0m\u001b[0;34m\u001b[0m\u001b[0m\n\u001b[1;32m    203\u001b[0m                            \u001b[0mobj\u001b[0m\u001b[0;34m=\u001b[0m\u001b[0mobj\u001b[0m\u001b[0;34m,\u001b[0m \u001b[0mfeval\u001b[0m\u001b[0;34m=\u001b[0m\u001b[0mfeval\u001b[0m\u001b[0;34m,\u001b[0m\u001b[0;34m\u001b[0m\u001b[0m\n\u001b[0;32m--> 204\u001b[0;31m                            xgb_model=xgb_model, callbacks=callbacks)\n\u001b[0m\u001b[1;32m    205\u001b[0m \u001b[0;34m\u001b[0m\u001b[0m\n\u001b[1;32m    206\u001b[0m \u001b[0;34m\u001b[0m\u001b[0m\n",
      "\u001b[0;32m/Users/mingj/anaconda/lib/python3.6/site-packages/xgboost-0.6-py3.6.egg/xgboost/training.py\u001b[0m in \u001b[0;36m_train_internal\u001b[0;34m(params, dtrain, num_boost_round, evals, obj, feval, xgb_model, callbacks)\u001b[0m\n\u001b[1;32m     72\u001b[0m         \u001b[0;31m# Skip the first update if it is a recovery step.\u001b[0m\u001b[0;34m\u001b[0m\u001b[0;34m\u001b[0m\u001b[0m\n\u001b[1;32m     73\u001b[0m         \u001b[0;32mif\u001b[0m \u001b[0mversion\u001b[0m \u001b[0;34m%\u001b[0m \u001b[0;36m2\u001b[0m \u001b[0;34m==\u001b[0m \u001b[0;36m0\u001b[0m\u001b[0;34m:\u001b[0m\u001b[0;34m\u001b[0m\u001b[0m\n\u001b[0;32m---> 74\u001b[0;31m             \u001b[0mbst\u001b[0m\u001b[0;34m.\u001b[0m\u001b[0mupdate\u001b[0m\u001b[0;34m(\u001b[0m\u001b[0mdtrain\u001b[0m\u001b[0;34m,\u001b[0m \u001b[0mi\u001b[0m\u001b[0;34m,\u001b[0m \u001b[0mobj\u001b[0m\u001b[0;34m)\u001b[0m\u001b[0;34m\u001b[0m\u001b[0m\n\u001b[0m\u001b[1;32m     75\u001b[0m             \u001b[0mbst\u001b[0m\u001b[0;34m.\u001b[0m\u001b[0msave_rabit_checkpoint\u001b[0m\u001b[0;34m(\u001b[0m\u001b[0;34m)\u001b[0m\u001b[0;34m\u001b[0m\u001b[0m\n\u001b[1;32m     76\u001b[0m             \u001b[0mversion\u001b[0m \u001b[0;34m+=\u001b[0m \u001b[0;36m1\u001b[0m\u001b[0;34m\u001b[0m\u001b[0m\n",
      "\u001b[0;32m/Users/mingj/anaconda/lib/python3.6/site-packages/xgboost-0.6-py3.6.egg/xgboost/core.py\u001b[0m in \u001b[0;36mupdate\u001b[0;34m(self, dtrain, iteration, fobj)\u001b[0m\n\u001b[1;32m    884\u001b[0m         \u001b[0;32mif\u001b[0m \u001b[0mfobj\u001b[0m \u001b[0;32mis\u001b[0m \u001b[0;32mNone\u001b[0m\u001b[0;34m:\u001b[0m\u001b[0;34m\u001b[0m\u001b[0m\n\u001b[1;32m    885\u001b[0m             _check_call(_LIB.XGBoosterUpdateOneIter(self.handle, ctypes.c_int(iteration),\n\u001b[0;32m--> 886\u001b[0;31m                                                     dtrain.handle))\n\u001b[0m\u001b[1;32m    887\u001b[0m         \u001b[0;32melse\u001b[0m\u001b[0;34m:\u001b[0m\u001b[0;34m\u001b[0m\u001b[0m\n\u001b[1;32m    888\u001b[0m             \u001b[0mpred\u001b[0m \u001b[0;34m=\u001b[0m \u001b[0mself\u001b[0m\u001b[0;34m.\u001b[0m\u001b[0mpredict\u001b[0m\u001b[0;34m(\u001b[0m\u001b[0mdtrain\u001b[0m\u001b[0;34m)\u001b[0m\u001b[0;34m\u001b[0m\u001b[0m\n",
      "\u001b[0;31mKeyboardInterrupt\u001b[0m: "
     ]
    }
   ],
   "source": [
    "bst = xgb.train(params=param, dtrain=xg_train, num_boost_round=num_round, evals=watchlist, verbose_eval = 1,\n",
    "                 early_stopping_rounds = 100, maximize = False, feval=rmspe_xg)"
   ]
  },
  {
   "cell_type": "code",
   "execution_count": 119,
   "metadata": {},
   "outputs": [
    {
     "data": {
      "text/html": [
       "<div>\n",
       "<style>\n",
       "    .dataframe thead tr:only-child th {\n",
       "        text-align: right;\n",
       "    }\n",
       "\n",
       "    .dataframe thead th {\n",
       "        text-align: left;\n",
       "    }\n",
       "\n",
       "    .dataframe tbody tr th {\n",
       "        vertical-align: top;\n",
       "    }\n",
       "</style>\n",
       "<table border=\"1\" class=\"dataframe\">\n",
       "  <thead>\n",
       "    <tr style=\"text-align: right;\">\n",
       "      <th></th>\n",
       "      <th>Store</th>\n",
       "      <th>Open</th>\n",
       "      <th>Promo</th>\n",
       "      <th>SchoolHoliday</th>\n",
       "      <th>Assortment</th>\n",
       "      <th>CompetitionDistance</th>\n",
       "      <th>week</th>\n",
       "      <th>month</th>\n",
       "      <th>year</th>\n",
       "      <th>day</th>\n",
       "      <th>DayofYear</th>\n",
       "      <th>SalesPerDay</th>\n",
       "      <th>CustomersPerDay</th>\n",
       "      <th>SalesPerCustomersPerDay</th>\n",
       "      <th>DayOfWeek</th>\n",
       "      <th>StateHoliday</th>\n",
       "      <th>StoreType</th>\n",
       "    </tr>\n",
       "  </thead>\n",
       "  <tbody>\n",
       "    <tr>\n",
       "      <th>46286</th>\n",
       "      <td>1</td>\n",
       "      <td>1</td>\n",
       "      <td>1</td>\n",
       "      <td>0</td>\n",
       "      <td>1.0</td>\n",
       "      <td>1270.0</td>\n",
       "      <td>25</td>\n",
       "      <td>6</td>\n",
       "      <td>2015</td>\n",
       "      <td>19</td>\n",
       "      <td>170</td>\n",
       "      <td>3885.848224</td>\n",
       "      <td>3885.848224</td>\n",
       "      <td>1.0</td>\n",
       "      <td>5</td>\n",
       "      <td>0</td>\n",
       "      <td>3.0</td>\n",
       "    </tr>\n",
       "    <tr>\n",
       "      <th>46287</th>\n",
       "      <td>2</td>\n",
       "      <td>1</td>\n",
       "      <td>1</td>\n",
       "      <td>0</td>\n",
       "      <td>1.0</td>\n",
       "      <td>570.0</td>\n",
       "      <td>25</td>\n",
       "      <td>6</td>\n",
       "      <td>2015</td>\n",
       "      <td>19</td>\n",
       "      <td>170</td>\n",
       "      <td>4070.671306</td>\n",
       "      <td>4070.671306</td>\n",
       "      <td>1.0</td>\n",
       "      <td>5</td>\n",
       "      <td>0</td>\n",
       "      <td>1.0</td>\n",
       "    </tr>\n",
       "    <tr>\n",
       "      <th>46288</th>\n",
       "      <td>3</td>\n",
       "      <td>1</td>\n",
       "      <td>1</td>\n",
       "      <td>0</td>\n",
       "      <td>1.0</td>\n",
       "      <td>14130.0</td>\n",
       "      <td>25</td>\n",
       "      <td>6</td>\n",
       "      <td>2015</td>\n",
       "      <td>19</td>\n",
       "      <td>170</td>\n",
       "      <td>5702.461620</td>\n",
       "      <td>5702.461620</td>\n",
       "      <td>1.0</td>\n",
       "      <td>5</td>\n",
       "      <td>0</td>\n",
       "      <td>1.0</td>\n",
       "    </tr>\n",
       "    <tr>\n",
       "      <th>46289</th>\n",
       "      <td>4</td>\n",
       "      <td>1</td>\n",
       "      <td>1</td>\n",
       "      <td>0</td>\n",
       "      <td>3.0</td>\n",
       "      <td>620.0</td>\n",
       "      <td>25</td>\n",
       "      <td>6</td>\n",
       "      <td>2015</td>\n",
       "      <td>19</td>\n",
       "      <td>170</td>\n",
       "      <td>7870.063853</td>\n",
       "      <td>7870.063853</td>\n",
       "      <td>1.0</td>\n",
       "      <td>5</td>\n",
       "      <td>0</td>\n",
       "      <td>3.0</td>\n",
       "    </tr>\n",
       "    <tr>\n",
       "      <th>46290</th>\n",
       "      <td>5</td>\n",
       "      <td>1</td>\n",
       "      <td>1</td>\n",
       "      <td>0</td>\n",
       "      <td>1.0</td>\n",
       "      <td>29910.0</td>\n",
       "      <td>25</td>\n",
       "      <td>6</td>\n",
       "      <td>2015</td>\n",
       "      <td>19</td>\n",
       "      <td>170</td>\n",
       "      <td>3825.737179</td>\n",
       "      <td>3825.737179</td>\n",
       "      <td>1.0</td>\n",
       "      <td>5</td>\n",
       "      <td>0</td>\n",
       "      <td>1.0</td>\n",
       "    </tr>\n",
       "  </tbody>\n",
       "</table>\n",
       "</div>"
      ],
      "text/plain": [
       "       Store  Open  Promo  SchoolHoliday  Assortment  CompetitionDistance  \\\n",
       "46286      1     1      1              0         1.0               1270.0   \n",
       "46287      2     1      1              0         1.0                570.0   \n",
       "46288      3     1      1              0         1.0              14130.0   \n",
       "46289      4     1      1              0         3.0                620.0   \n",
       "46290      5     1      1              0         1.0              29910.0   \n",
       "\n",
       "       week  month  year  day  DayofYear  SalesPerDay  CustomersPerDay  \\\n",
       "46286    25      6  2015   19        170  3885.848224      3885.848224   \n",
       "46287    25      6  2015   19        170  4070.671306      4070.671306   \n",
       "46288    25      6  2015   19        170  5702.461620      5702.461620   \n",
       "46289    25      6  2015   19        170  7870.063853      7870.063853   \n",
       "46290    25      6  2015   19        170  3825.737179      3825.737179   \n",
       "\n",
       "       SalesPerCustomersPerDay  DayOfWeek  StateHoliday  StoreType  \n",
       "46286                      1.0          5             0        3.0  \n",
       "46287                      1.0          5             0        1.0  \n",
       "46288                      1.0          5             0        1.0  \n",
       "46289                      1.0          5             0        3.0  \n",
       "46290                      1.0          5             0        1.0  "
      ]
     },
     "execution_count": 119,
     "metadata": {},
     "output_type": "execute_result"
    }
   ],
   "source": [
    "X_train.head()"
   ]
  },
  {
   "cell_type": "code",
   "execution_count": 218,
   "metadata": {
    "scrolled": false
   },
   "outputs": [
    {
     "data": {
      "text/html": [
       "<div>\n",
       "<style>\n",
       "    .dataframe thead tr:only-child th {\n",
       "        text-align: right;\n",
       "    }\n",
       "\n",
       "    .dataframe thead th {\n",
       "        text-align: left;\n",
       "    }\n",
       "\n",
       "    .dataframe tbody tr th {\n",
       "        vertical-align: top;\n",
       "    }\n",
       "</style>\n",
       "<table border=\"1\" class=\"dataframe\">\n",
       "  <thead>\n",
       "    <tr style=\"text-align: right;\">\n",
       "      <th></th>\n",
       "      <th>DateWeek</th>\n",
       "      <th>Store</th>\n",
       "      <th>SchoolHoliday</th>\n",
       "      <th>StateHoliday</th>\n",
       "      <th>DateDay</th>\n",
       "      <th>SalesPerDay</th>\n",
       "      <th>CompetitionDistance</th>\n",
       "      <th>DateDayOfYear</th>\n",
       "      <th>DateMonth</th>\n",
       "      <th>DayOfWeek</th>\n",
       "      <th>Assortment</th>\n",
       "      <th>SalesPerCustomersPerDay</th>\n",
       "      <th>Open</th>\n",
       "      <th>DateYear</th>\n",
       "      <th>StoreType</th>\n",
       "      <th>CustomersPerDay</th>\n",
       "      <th>Promo</th>\n",
       "    </tr>\n",
       "  </thead>\n",
       "  <tbody>\n",
       "    <tr>\n",
       "      <th>438587</th>\n",
       "      <td>23</td>\n",
       "      <td>562</td>\n",
       "      <td>0</td>\n",
       "      <td>1</td>\n",
       "      <td>3</td>\n",
       "      <td>17098.305051</td>\n",
       "      <td>1210.0</td>\n",
       "      <td>154</td>\n",
       "      <td>6</td>\n",
       "      <td>2</td>\n",
       "      <td>2</td>\n",
       "      <td>5.787198</td>\n",
       "      <td>1.0</td>\n",
       "      <td>2014</td>\n",
       "      <td>1</td>\n",
       "      <td>2954.505051</td>\n",
       "      <td>1</td>\n",
       "    </tr>\n",
       "    <tr>\n",
       "      <th>276188</th>\n",
       "      <td>47</td>\n",
       "      <td>823</td>\n",
       "      <td>0</td>\n",
       "      <td>1</td>\n",
       "      <td>19</td>\n",
       "      <td>4595.019192</td>\n",
       "      <td>16210.0</td>\n",
       "      <td>323</td>\n",
       "      <td>11</td>\n",
       "      <td>3</td>\n",
       "      <td>2</td>\n",
       "      <td>10.179598</td>\n",
       "      <td>1.0</td>\n",
       "      <td>2014</td>\n",
       "      <td>0</td>\n",
       "      <td>451.394949</td>\n",
       "      <td>0</td>\n",
       "    </tr>\n",
       "    <tr>\n",
       "      <th>730387</th>\n",
       "      <td>37</td>\n",
       "      <td>569</td>\n",
       "      <td>0</td>\n",
       "      <td>1</td>\n",
       "      <td>12</td>\n",
       "      <td>3761.498938</td>\n",
       "      <td>1340.0</td>\n",
       "      <td>255</td>\n",
       "      <td>9</td>\n",
       "      <td>4</td>\n",
       "      <td>0</td>\n",
       "      <td>6.922788</td>\n",
       "      <td>1.0</td>\n",
       "      <td>2013</td>\n",
       "      <td>0</td>\n",
       "      <td>543.350318</td>\n",
       "      <td>1</td>\n",
       "    </tr>\n",
       "    <tr>\n",
       "      <th>514988</th>\n",
       "      <td>13</td>\n",
       "      <td>517</td>\n",
       "      <td>0</td>\n",
       "      <td>1</td>\n",
       "      <td>26</td>\n",
       "      <td>4571.203030</td>\n",
       "      <td>22490.0</td>\n",
       "      <td>85</td>\n",
       "      <td>3</td>\n",
       "      <td>3</td>\n",
       "      <td>2</td>\n",
       "      <td>9.159986</td>\n",
       "      <td>1.0</td>\n",
       "      <td>2014</td>\n",
       "      <td>0</td>\n",
       "      <td>499.040404</td>\n",
       "      <td>0</td>\n",
       "    </tr>\n",
       "    <tr>\n",
       "      <th>981850</th>\n",
       "      <td>4</td>\n",
       "      <td>1066</td>\n",
       "      <td>0</td>\n",
       "      <td>1</td>\n",
       "      <td>26</td>\n",
       "      <td>8713.720202</td>\n",
       "      <td>3350.0</td>\n",
       "      <td>26</td>\n",
       "      <td>1</td>\n",
       "      <td>6</td>\n",
       "      <td>0</td>\n",
       "      <td>9.835381</td>\n",
       "      <td>1.0</td>\n",
       "      <td>2013</td>\n",
       "      <td>0</td>\n",
       "      <td>885.956566</td>\n",
       "      <td>0</td>\n",
       "    </tr>\n",
       "  </tbody>\n",
       "</table>\n",
       "</div>"
      ],
      "text/plain": [
       "        DateWeek  Store  SchoolHoliday  StateHoliday  DateDay   SalesPerDay  CompetitionDistance  DateDayOfYear  DateMonth  DayOfWeek  Assortment  SalesPerCustomersPerDay  Open  DateYear  StoreType  CustomersPerDay  Promo\n",
       "438587        23    562              0             1        3  17098.305051               1210.0            154          6          2           2                 5.787198   1.0      2014          1      2954.505051      1\n",
       "276188        47    823              0             1       19   4595.019192              16210.0            323         11          3           2                10.179598   1.0      2014          0       451.394949      0\n",
       "730387        37    569              0             1       12   3761.498938               1340.0            255          9          4           0                 6.922788   1.0      2013          0       543.350318      1\n",
       "514988        13    517              0             1       26   4571.203030              22490.0             85          3          3           2                 9.159986   1.0      2014          0       499.040404      0\n",
       "981850         4   1066              0             1       26   8713.720202               3350.0             26          1          6           0                 9.835381   1.0      2013          0       885.956566      0"
      ]
     },
     "execution_count": 218,
     "metadata": {},
     "output_type": "execute_result"
    }
   ],
   "source": [
    "X_train.head()"
   ]
  },
  {
   "cell_type": "code",
   "execution_count": 121,
   "metadata": {},
   "outputs": [
    {
     "data": {
      "text/plain": [
       "46286    8.343554\n",
       "46287    8.502486\n",
       "46288    8.996528\n",
       "46289    9.178540\n",
       "46290    8.650325\n",
       "46291    8.606119\n",
       "46292    9.177611\n",
       "46293    8.820847\n",
       "46294    8.968269\n",
       "Name: Sales, dtype: float64"
      ]
     },
     "execution_count": 121,
     "metadata": {},
     "output_type": "execute_result"
    }
   ],
   "source": [
    "Y_train[0:9]"
   ]
  },
  {
   "cell_type": "markdown",
   "metadata": {
    "collapsed": true
   },
   "source": [
    "## 找代码中的不同"
   ]
  },
  {
   "cell_type": "code",
   "execution_count": 93,
   "metadata": {
    "collapsed": true
   },
   "outputs": [],
   "source": [
    "import pandas as pd\n",
    "from pandas import Series, DataFrame\n",
    "import itertools\n",
    "import numpy as np\n",
    "from datetime import datetime, date\n",
    "from IPython.display import display\n",
    "from datetime import datetime\n",
    "import matplotlib.pyplot as plt\n",
    "\n",
    "%matplotlib inline"
   ]
  },
  {
   "cell_type": "code",
   "execution_count": 104,
   "metadata": {
    "scrolled": true
   },
   "outputs": [],
   "source": [
    "train = pd.read_csv('./参考资料/kaggle-rossman-store-sales/input/train.csv', dtype = {'StateHoliday':str}, parse_dates=['Date'],\n",
    "                       date_parser=(lambda dt: pd.to_datetime(dt, format='%Y-%m-%d')))\n",
    "store = pd.read_csv('./参考资料/kaggle-rossman-store-sales/input/store.csv', dtype = {'PromoInterval':str, 'CompetitionOpenSinceYear':str, 'CompetitionOpenSinceMonth':str})\n",
    "test = pd.read_csv('./参考资料/kaggle-rossman-store-sales/input/test.csv', dtype = {'PromoInterval':str, 'CompetitionOpenSinceYear':str, 'CompetitionOpenSinceMonth':str}, parse_dates=['Date'],\n",
    "                       date_parser=(lambda dt: pd.to_datetime(dt, format='%Y-%m-%d')))"
   ]
  },
  {
   "cell_type": "markdown",
   "metadata": {},
   "source": [
    "注意：这里将train和test合并在一起，好处理'StateHoliday'缺少'StateHoliday_b', 'StateHoliday_c'的问题。这也体现了一点就是要将测试集和训练集在一起特征处理，否则可能会遗漏。"
   ]
  },
  {
   "cell_type": "code",
   "execution_count": 105,
   "metadata": {},
   "outputs": [],
   "source": [
    "# 原来的train_all['StateHoliday']存在问题：‘0’和0共存。\n",
    "train['StateHoliday'] = train.StateHoliday.apply(lambda x: 0 if x=='0' else x)"
   ]
  },
  {
   "cell_type": "code",
   "execution_count": 106,
   "metadata": {},
   "outputs": [
    {
     "name": "stdout",
     "output_type": "stream",
     "text": [
      "<class 'pandas.core.frame.DataFrame'>\n",
      "RangeIndex: 1017209 entries, 0 to 1017208\n",
      "Data columns (total 9 columns):\n",
      "Store            1017209 non-null int64\n",
      "DayOfWeek        1017209 non-null int64\n",
      "Date             1017209 non-null datetime64[ns]\n",
      "Sales            1017209 non-null int64\n",
      "Customers        1017209 non-null int64\n",
      "Open             1017209 non-null int64\n",
      "Promo            1017209 non-null int64\n",
      "StateHoliday     1017209 non-null object\n",
      "SchoolHoliday    1017209 non-null int64\n",
      "dtypes: datetime64[ns](1), int64(7), object(1)\n",
      "memory usage: 69.8+ MB\n"
     ]
    }
   ],
   "source": [
    "train.info()"
   ]
  },
  {
   "cell_type": "markdown",
   "metadata": {
    "collapsed": true
   },
   "source": [
    "删除一些Open = 1, Sales =0的数据点。大概有5、60条这种数据。"
   ]
  },
  {
   "cell_type": "code",
   "execution_count": 107,
   "metadata": {},
   "outputs": [],
   "source": [
    "# 删除一些Open = 1, Sales =0的数据\n",
    "train = train.loc[~((train['Open'] == 1)&(train['Sales']==0))]"
   ]
  },
  {
   "cell_type": "code",
   "execution_count": 110,
   "metadata": {},
   "outputs": [
    {
     "data": {
      "text/plain": [
       "Index(['Store', 'DayOfWeek', 'Date', 'Sales', 'Customers', 'Open', 'Promo',\n",
       "       'StateHoliday', 'SchoolHoliday'],\n",
       "      dtype='object')"
      ]
     },
     "execution_count": 110,
     "metadata": {},
     "output_type": "execute_result"
    }
   ],
   "source": [
    "train.columns"
   ]
  },
  {
   "cell_type": "code",
   "execution_count": 111,
   "metadata": {},
   "outputs": [],
   "source": [
    "# 原来的train_all['StateHoliday']存在问题：‘0’和0共存。\n",
    "train['StateHoliday'] = train.StateHoliday.apply(lambda x: 0 if x=='0' else x)"
   ]
  },
  {
   "cell_type": "code",
   "execution_count": 112,
   "metadata": {},
   "outputs": [],
   "source": [
    "# mine \n",
    "train_stage1 = pd.get_dummies(train, columns=['DayOfWeek', 'StateHoliday'])\n"
   ]
  },
  {
   "cell_type": "code",
   "execution_count": 113,
   "metadata": {
    "scrolled": true
   },
   "outputs": [
    {
     "data": {
      "text/plain": [
       "Index(['Store', 'Date', 'Sales', 'Customers', 'Open', 'Promo', 'SchoolHoliday',\n",
       "       'DayOfWeek_1', 'DayOfWeek_2', 'DayOfWeek_3', 'DayOfWeek_4',\n",
       "       'DayOfWeek_5', 'DayOfWeek_6', 'DayOfWeek_7', 'StateHoliday_0',\n",
       "       'StateHoliday_a', 'StateHoliday_b', 'StateHoliday_c'],\n",
       "      dtype='object')"
      ]
     },
     "execution_count": 113,
     "metadata": {},
     "output_type": "execute_result"
    }
   ],
   "source": [
    "train_stage1.columns"
   ]
  },
  {
   "cell_type": "code",
   "execution_count": 117,
   "metadata": {},
   "outputs": [],
   "source": [
    "# 通过Date获取信息：Day，Week等\n",
    "var_name = 'Date'\n",
    "\n",
    "train_stage1[var_name + 'Day'] = pd.Index(train_stage1[var_name]).day\n",
    "train_stage1[var_name + 'Week'] = pd.Index(train_stage1[var_name]).week\n",
    "train_stage1[var_name + 'Month'] = pd.Index(train_stage1[var_name]).month\n",
    "train_stage1[var_name + 'Year'] = pd.Index(train_stage1[var_name]).year\n",
    "train_stage1[var_name + 'DayOfYear'] = pd.Index(train_stage1[var_name]).dayofyear\n",
    "\n",
    "# 将NA填充0\n",
    "train_stage1[var_name + 'Day'] = train_stage1[var_name + 'Day'].fillna(0)\n",
    "train_stage1[var_name + 'Week'] = train_stage1[var_name + 'Week'].fillna(0)\n",
    "train_stage1[var_name + 'Month'] = train_stage1[var_name + 'Month'].fillna(0)\n",
    "train_stage1[var_name + 'Year'] = train_stage1[var_name + 'Year'].fillna(0)\n",
    "train_stage1[var_name + 'DayOfYear'] = train_stage1[var_name + 'DayOfYear'].fillna(0)"
   ]
  },
  {
   "cell_type": "code",
   "execution_count": 118,
   "metadata": {},
   "outputs": [
    {
     "data": {
      "text/plain": [
       "(1017155, 23)"
      ]
     },
     "execution_count": 118,
     "metadata": {},
     "output_type": "execute_result"
    }
   ],
   "source": [
    "train_stage1.shape"
   ]
  },
  {
   "cell_type": "code",
   "execution_count": 116,
   "metadata": {},
   "outputs": [
    {
     "ename": "SyntaxError",
     "evalue": "invalid syntax (<ipython-input-116-85b258f53d81>, line 1)",
     "output_type": "error",
     "traceback": [
      "\u001b[0;36m  File \u001b[0;32m\"<ipython-input-116-85b258f53d81>\"\u001b[0;36m, line \u001b[0;32m1\u001b[0m\n\u001b[0;31m    sum(is.na(train_stage1['Date']))\u001b[0m\n\u001b[0m         ^\u001b[0m\n\u001b[0;31mSyntaxError\u001b[0m\u001b[0;31m:\u001b[0m invalid syntax\n"
     ]
    }
   ],
   "source": [
    "sum(is.na(train_stage1['Date']))"
   ]
  },
  {
   "cell_type": "code",
   "execution_count": null,
   "metadata": {
    "collapsed": true
   },
   "outputs": [],
   "source": []
  }
 ],
 "metadata": {
  "kernelspec": {
   "display_name": "Python 3",
   "language": "python",
   "name": "python3"
  },
  "language_info": {
   "codemirror_mode": {
    "name": "ipython",
    "version": 3
   },
   "file_extension": ".py",
   "mimetype": "text/x-python",
   "name": "python",
   "nbconvert_exporter": "python",
   "pygments_lexer": "ipython3",
   "version": "3.6.1"
  }
 },
 "nbformat": 4,
 "nbformat_minor": 2
}
